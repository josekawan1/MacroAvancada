{
 "cells": [
  {
   "cell_type": "markdown",
   "id": "a6be95df-cb27-4529-8303-fed6dfdc946c",
   "metadata": {},
   "source": [
    "### Questão 2 - Atividade 1 - Macro avançada 1"
   ]
  },
  {
   "cell_type": "code",
   "execution_count": 61,
   "id": "e8e55772-c622-4228-99b3-1898674704e1",
   "metadata": {},
   "outputs": [],
   "source": [
    "import numpy as np\n",
    "import pandas as pd\n",
    "import matplotlib.pyplot as plt\n",
    "import seaborn as sns\n",
    "import plotly.express as px"
   ]
  },
  {
   "cell_type": "markdown",
   "id": "2be9c096-a35c-43d3-abb9-0dd2e42dfe72",
   "metadata": {},
   "source": [
    "## Etapa 1 \n",
    "\n",
    "Obtenha os seguintes dados no site do IPEADATA: (i) Produto interno\n",
    "bruto (PIB) a preços de mercado: índice encadeado (média 1995 = 100) e (ii) IPCA - geral - índice\n",
    "(dez. 1993 = 100). Plote as séries."
   ]
  },
  {
   "cell_type": "code",
   "execution_count": 63,
   "id": "2194dba2-a89b-48fb-bce4-ab0be58d7f72",
   "metadata": {},
   "outputs": [
    {
     "data": {
      "text/html": [
       "<div>\n",
       "<style scoped>\n",
       "    .dataframe tbody tr th:only-of-type {\n",
       "        vertical-align: middle;\n",
       "    }\n",
       "\n",
       "    .dataframe tbody tr th {\n",
       "        vertical-align: top;\n",
       "    }\n",
       "\n",
       "    .dataframe thead th {\n",
       "        text-align: right;\n",
       "    }\n",
       "</style>\n",
       "<table border=\"1\" class=\"dataframe\">\n",
       "  <thead>\n",
       "    <tr style=\"text-align: right;\">\n",
       "      <th></th>\n",
       "      <th>PIB - preços de mercado - índice real encadeado (média 1995 = 100)</th>\n",
       "    </tr>\n",
       "  </thead>\n",
       "  <tbody>\n",
       "    <tr>\n",
       "      <th>Name</th>\n",
       "      <td>PIB - preços de mercado - índice real encadead...</td>\n",
       "    </tr>\n",
       "    <tr>\n",
       "      <th>Code</th>\n",
       "      <td>SCN104_PIBPM104</td>\n",
       "    </tr>\n",
       "    <tr>\n",
       "      <th>Big Theme</th>\n",
       "      <td>Macroeconômico</td>\n",
       "    </tr>\n",
       "    <tr>\n",
       "      <th>Theme code</th>\n",
       "      <td>8</td>\n",
       "    </tr>\n",
       "    <tr>\n",
       "      <th>Source</th>\n",
       "      <td>Instituto Brasileiro de Geografia e Estatístic...</td>\n",
       "    </tr>\n",
       "    <tr>\n",
       "      <th>Source acronym</th>\n",
       "      <td>IBGE/SCN Trim.</td>\n",
       "    </tr>\n",
       "    <tr>\n",
       "      <th>Comment</th>\n",
       "      <td>O produto interno bruto (PIB) é o total dos be...</td>\n",
       "    </tr>\n",
       "    <tr>\n",
       "      <th>Last update</th>\n",
       "      <td>2025-03-07T13:32:00.727-03:00</td>\n",
       "    </tr>\n",
       "    <tr>\n",
       "      <th>Frequency</th>\n",
       "      <td>Trimestral</td>\n",
       "    </tr>\n",
       "    <tr>\n",
       "      <th>Measure</th>\n",
       "      <td>-</td>\n",
       "    </tr>\n",
       "    <tr>\n",
       "      <th>Unit</th>\n",
       "      <td>None</td>\n",
       "    </tr>\n",
       "    <tr>\n",
       "      <th>Status</th>\n",
       "      <td>A</td>\n",
       "    </tr>\n",
       "  </tbody>\n",
       "</table>\n",
       "</div>"
      ],
      "text/plain": [
       "               PIB - preços de mercado - índice real encadeado (média 1995 = 100)\n",
       "Name            PIB - preços de mercado - índice real encadead...                \n",
       "Code                                              SCN104_PIBPM104                \n",
       "Big Theme                                          Macroeconômico                \n",
       "Theme code                                                      8                \n",
       "Source          Instituto Brasileiro de Geografia e Estatístic...                \n",
       "Source acronym                                     IBGE/SCN Trim.                \n",
       "Comment         O produto interno bruto (PIB) é o total dos be...                \n",
       "Last update                         2025-03-07T13:32:00.727-03:00                \n",
       "Frequency                                              Trimestral                \n",
       "Measure                                                         -                \n",
       "Unit                                                         None                \n",
       "Status                                                          A                "
      ]
     },
     "execution_count": 63,
     "metadata": {},
     "output_type": "execute_result"
    }
   ],
   "source": [
    "# importando a biblioteca do IPEA e verificando as duas primeiras séries\n",
    "\n",
    "# Índice nacional de preços ao consumidor amplo (IPCA) geral: índice (dez. 1993 = 100) (PRECOS12_IPCA12)                 \n",
    "# Produto interno bruto (PIB) a preços de mercado: índice real encadeado (média 1995 = 100) (SCN104_PIBPM104)\n",
    "\n",
    "import ipeadatapy as ip \n",
    "\n",
    "# ip.describe('PRECOS12_IPCA12')\n",
    "ip.describe('SCN104_PIBPM104')"
   ]
  },
  {
   "cell_type": "code",
   "execution_count": 64,
   "id": "b0f44aac-34bc-4cf2-8308-7575c34622e9",
   "metadata": {},
   "outputs": [],
   "source": [
    "# importando as séries\n",
    "\n",
    "pib = ip.timeseries('SCN104_PIBPM104')\n",
    "ipca = ip.timeseries('PRECOS12_IPCA12')"
   ]
  },
  {
   "cell_type": "code",
   "execution_count": 65,
   "id": "d7c9f13b-b3fd-453e-b6e2-8e5eb9a85be2",
   "metadata": {},
   "outputs": [],
   "source": [
    "# salvando as séries como dataframe\n",
    "\n",
    "pib = pd.DataFrame(pib)\n",
    "ipca = pd.DataFrame(ipca)"
   ]
  },
  {
   "cell_type": "code",
   "execution_count": 66,
   "id": "59b4ff1f-6265-47a4-bfc7-4b5e19605136",
   "metadata": {},
   "outputs": [
    {
     "name": "stdout",
     "output_type": "stream",
     "text": [
      "                       CODE                   RAW DATE  DAY  MONTH  YEAR  \\\n",
      "DATE                                                                       \n",
      "1996-01-01  SCN104_PIBPM104  1996-01-01T00:00:00-02:00    1      1  1996   \n",
      "1996-04-01  SCN104_PIBPM104  1996-04-01T00:00:00-03:00    1      4  1996   \n",
      "1996-07-01  SCN104_PIBPM104  1996-07-01T00:00:00-03:00    1      7  1996   \n",
      "1996-10-01  SCN104_PIBPM104  1996-10-01T00:00:00-03:00    1     10  1996   \n",
      "1997-01-01  SCN104_PIBPM104  1997-01-01T00:00:00-02:00    1      1  1997   \n",
      "...                     ...                        ...  ...    ...   ...   \n",
      "2023-10-01  SCN104_PIBPM104  2023-10-01T00:00:00-03:00    1     10  2023   \n",
      "2024-01-01  SCN104_PIBPM104  2024-01-01T00:00:00-03:00    1      1  2024   \n",
      "2024-04-01  SCN104_PIBPM104  2024-04-01T00:00:00-03:00    1      4  2024   \n",
      "2024-07-01  SCN104_PIBPM104  2024-07-01T00:00:00-03:00    1      7  2024   \n",
      "2024-10-01  SCN104_PIBPM104  2024-10-01T00:00:00-03:00    1     10  2024   \n",
      "\n",
      "             VALUE (-)  \n",
      "DATE                    \n",
      "1996-01-01   96.839684  \n",
      "1996-04-01  100.119468  \n",
      "1996-07-01  107.561773  \n",
      "1996-10-01  104.314530  \n",
      "1997-01-01  100.132786  \n",
      "...                ...  \n",
      "2023-10-01  182.899151  \n",
      "2024-01-01  185.363642  \n",
      "2024-04-01  190.428581  \n",
      "2024-07-01  194.935559  \n",
      "2024-10-01  189.513950  \n",
      "\n",
      "[116 rows x 6 columns]                        CODE                   RAW DATE  DAY  MONTH  YEAR  \\\n",
      "DATE                                                                       \n",
      "1979-12-01  PRECOS12_IPCA12  1979-12-01T00:00:00-02:00    1     12  1979   \n",
      "1980-01-01  PRECOS12_IPCA12  1980-01-01T00:00:00-02:00    1      1  1980   \n",
      "1980-02-01  PRECOS12_IPCA12  1980-02-01T00:00:00-02:00    1      2  1980   \n",
      "1980-03-01  PRECOS12_IPCA12  1980-03-01T00:00:00-03:00    1      3  1980   \n",
      "1980-04-01  PRECOS12_IPCA12  1980-04-01T00:00:00-03:00    1      4  1980   \n",
      "...                     ...                        ...  ...    ...   ...   \n",
      "2024-10-01  PRECOS12_IPCA12  2024-10-01T00:00:00-03:00    1     10  2024   \n",
      "2024-11-01  PRECOS12_IPCA12  2024-11-01T00:00:00-03:00    1     11  2024   \n",
      "2024-12-01  PRECOS12_IPCA12  2024-12-01T00:00:00-03:00    1     12  2024   \n",
      "2025-01-01  PRECOS12_IPCA12  2025-01-01T00:00:00-03:00    1      1  2025   \n",
      "2025-02-01  PRECOS12_IPCA12  2025-02-01T00:00:00-03:00    1      2  2025   \n",
      "\n",
      "               VALUE (-)  \n",
      "DATE                      \n",
      "1979-12-01  7.618300e-09  \n",
      "1980-01-01  8.122300e-09  \n",
      "1980-02-01  8.497300e-09  \n",
      "1980-03-01  9.010400e-09  \n",
      "1980-04-01  9.486700e-09  \n",
      "...                  ...  \n",
      "2024-10-01  7.036330e+03  \n",
      "2024-11-01  7.063770e+03  \n",
      "2024-12-01  7.100500e+03  \n",
      "2025-01-01  7.111860e+03  \n",
      "2025-02-01  7.205030e+03  \n",
      "\n",
      "[543 rows x 6 columns]\n"
     ]
    }
   ],
   "source": [
    "# Valores das séries\n",
    "\n",
    "print(pib, ipca)\n",
    "# print(selicover)\n",
    "# print(ipca)"
   ]
  },
  {
   "cell_type": "code",
   "execution_count": 67,
   "id": "30f07f47-a6c6-4a00-8a18-fb996ac22d00",
   "metadata": {},
   "outputs": [
    {
     "name": "stdout",
     "output_type": "stream",
     "text": [
      "                       CODE                   RAW DATE  DAY  MONTH  YEAR  \\\n",
      "DATE                                                                       \n",
      "1979-12-01  PRECOS12_IPCA12  1979-12-01T00:00:00-02:00    1     12  1979   \n",
      "1980-01-01  PRECOS12_IPCA12  1980-01-01T00:00:00-02:00    1      1  1980   \n",
      "1980-02-01  PRECOS12_IPCA12  1980-02-01T00:00:00-02:00    1      2  1980   \n",
      "1980-03-01  PRECOS12_IPCA12  1980-03-01T00:00:00-03:00    1      3  1980   \n",
      "1980-04-01  PRECOS12_IPCA12  1980-04-01T00:00:00-03:00    1      4  1980   \n",
      "...                     ...                        ...  ...    ...   ...   \n",
      "2024-10-01  PRECOS12_IPCA12  2024-10-01T00:00:00-03:00    1     10  2024   \n",
      "2024-11-01  PRECOS12_IPCA12  2024-11-01T00:00:00-03:00    1     11  2024   \n",
      "2024-12-01  PRECOS12_IPCA12  2024-12-01T00:00:00-03:00    1     12  2024   \n",
      "2025-01-01  PRECOS12_IPCA12  2025-01-01T00:00:00-03:00    1      1  2025   \n",
      "2025-02-01  PRECOS12_IPCA12  2025-02-01T00:00:00-03:00    1      2  2025   \n",
      "\n",
      "               VALUE (-)  mes_ano  \n",
      "DATE                               \n",
      "1979-12-01  7.618300e-09  12/1979  \n",
      "1980-01-01  8.122300e-09  01/1980  \n",
      "1980-02-01  8.497300e-09  02/1980  \n",
      "1980-03-01  9.010400e-09  03/1980  \n",
      "1980-04-01  9.486700e-09  04/1980  \n",
      "...                  ...      ...  \n",
      "2024-10-01  7.036330e+03  10/2024  \n",
      "2024-11-01  7.063770e+03  11/2024  \n",
      "2024-12-01  7.100500e+03  12/2024  \n",
      "2025-01-01  7.111860e+03  01/2025  \n",
      "2025-02-01  7.205030e+03  02/2025  \n",
      "\n",
      "[543 rows x 7 columns]\n"
     ]
    }
   ],
   "source": [
    "# criando uma variável data para o df da inflação\n",
    "\n",
    "ipca['mes_ano'] = ipca['MONTH'].astype(str).str.zfill(2) + '/' + ipca['YEAR'].astype(str)\n",
    "print(ipca)"
   ]
  },
  {
   "cell_type": "code",
   "execution_count": 68,
   "id": "86c1e04a-5531-42cc-bb80-4482b6747612",
   "metadata": {},
   "outputs": [
    {
     "name": "stdout",
     "output_type": "stream",
     "text": [
      "                       CODE                   RAW DATE  DAY  MONTH  YEAR  \\\n",
      "DATE                                                                       \n",
      "1996-01-01  SCN104_PIBPM104  1996-01-01T00:00:00-02:00    1      1  1996   \n",
      "1996-04-01  SCN104_PIBPM104  1996-04-01T00:00:00-03:00    1      4  1996   \n",
      "1996-07-01  SCN104_PIBPM104  1996-07-01T00:00:00-03:00    1      7  1996   \n",
      "1996-10-01  SCN104_PIBPM104  1996-10-01T00:00:00-03:00    1     10  1996   \n",
      "1997-01-01  SCN104_PIBPM104  1997-01-01T00:00:00-02:00    1      1  1997   \n",
      "...                     ...                        ...  ...    ...   ...   \n",
      "2023-10-01  SCN104_PIBPM104  2023-10-01T00:00:00-03:00    1     10  2023   \n",
      "2024-01-01  SCN104_PIBPM104  2024-01-01T00:00:00-03:00    1      1  2024   \n",
      "2024-04-01  SCN104_PIBPM104  2024-04-01T00:00:00-03:00    1      4  2024   \n",
      "2024-07-01  SCN104_PIBPM104  2024-07-01T00:00:00-03:00    1      7  2024   \n",
      "2024-10-01  SCN104_PIBPM104  2024-10-01T00:00:00-03:00    1     10  2024   \n",
      "\n",
      "             VALUE (-)  mes_ano  \n",
      "DATE                             \n",
      "1996-01-01   96.839684  01/1996  \n",
      "1996-04-01  100.119468  04/1996  \n",
      "1996-07-01  107.561773  07/1996  \n",
      "1996-10-01  104.314530  10/1996  \n",
      "1997-01-01  100.132786  01/1997  \n",
      "...                ...      ...  \n",
      "2023-10-01  182.899151  10/2023  \n",
      "2024-01-01  185.363642  01/2024  \n",
      "2024-04-01  190.428581  04/2024  \n",
      "2024-07-01  194.935559  07/2024  \n",
      "2024-10-01  189.513950  10/2024  \n",
      "\n",
      "[116 rows x 7 columns]\n"
     ]
    }
   ],
   "source": [
    "# Criar a coluna 'mes_ano' no formato 'MM/AAAA' (ex: '01/2020')\n",
    "pib['mes_ano'] = pib['MONTH'].astype(str).str.zfill(2) + '/' + pib['YEAR'].astype(str)\n",
    "\n",
    "# Mostrar o DataFrame\n",
    "print(pib)"
   ]
  },
  {
   "cell_type": "markdown",
   "id": "dda16659-95a2-4d98-895d-8aeefe5212f7",
   "metadata": {},
   "source": [
    "#### Plote das séries"
   ]
  },
  {
   "cell_type": "code",
   "execution_count": 70,
   "id": "f839824c-c4f1-4704-8e97-5d2e022b6c79",
   "metadata": {},
   "outputs": [
    {
     "data": {
      "application/vnd.plotly.v1+json": {
       "config": {
        "plotlyServerURL": "https://plot.ly"
       },
       "data": [
        {
         "hovertemplate": "mes_ano=%{x}<br>VALUE (-)=%{y}<extra></extra>",
         "legendgroup": "",
         "line": {
          "color": "#636efa",
          "dash": "solid"
         },
         "marker": {
          "symbol": "circle"
         },
         "mode": "lines",
         "name": "",
         "orientation": "v",
         "showlegend": false,
         "type": "scatter",
         "x": [
          "01/1996",
          "04/1996",
          "07/1996",
          "10/1996",
          "01/1997",
          "04/1997",
          "07/1997",
          "10/1997",
          "01/1998",
          "04/1998",
          "07/1998",
          "10/1998",
          "01/1999",
          "04/1999",
          "07/1999",
          "10/1999",
          "01/2000",
          "04/2000",
          "07/2000",
          "10/2000",
          "01/2001",
          "04/2001",
          "07/2001",
          "10/2001",
          "01/2002",
          "04/2002",
          "07/2002",
          "10/2002",
          "01/2003",
          "04/2003",
          "07/2003",
          "10/2003",
          "01/2004",
          "04/2004",
          "07/2004",
          "10/2004",
          "01/2005",
          "04/2005",
          "07/2005",
          "10/2005",
          "01/2006",
          "04/2006",
          "07/2006",
          "10/2006",
          "01/2007",
          "04/2007",
          "07/2007",
          "10/2007",
          "01/2008",
          "04/2008",
          "07/2008",
          "10/2008",
          "01/2009",
          "04/2009",
          "07/2009",
          "10/2009",
          "01/2010",
          "04/2010",
          "07/2010",
          "10/2010",
          "01/2011",
          "04/2011",
          "07/2011",
          "10/2011",
          "01/2012",
          "04/2012",
          "07/2012",
          "10/2012",
          "01/2013",
          "04/2013",
          "07/2013",
          "10/2013",
          "01/2014",
          "04/2014",
          "07/2014",
          "10/2014",
          "01/2015",
          "04/2015",
          "07/2015",
          "10/2015",
          "01/2016",
          "04/2016",
          "07/2016",
          "10/2016",
          "01/2017",
          "04/2017",
          "07/2017",
          "10/2017",
          "01/2018",
          "04/2018",
          "07/2018",
          "10/2018",
          "01/2019",
          "04/2019",
          "07/2019",
          "10/2019",
          "01/2020",
          "04/2020",
          "07/2020",
          "10/2020",
          "01/2021",
          "04/2021",
          "07/2021",
          "10/2021",
          "01/2022",
          "04/2022",
          "07/2022",
          "10/2022",
          "01/2023",
          "04/2023",
          "07/2023",
          "10/2023",
          "01/2024",
          "04/2024",
          "07/2024",
          "10/2024"
         ],
         "xaxis": "x",
         "y": [
          96.8396836197719,
          100.119467514028,
          107.561773309359,
          104.314529544694,
          100.132786447406,
          104.879149330001,
          109.488505220113,
          108.214346986587,
          101.14169920072,
          106.462460870289,
          109.877846013711,
          106.661971728804,
          101.918131048489,
          106.035824103128,
          109.2007423431,
          108.974009327805,
          106.403247281882,
          110.254362002232,
          114.185307545381,
          113.984102213273,
          110.100856213943,
          112.818939536169,
          114.71192532909,
          113.377932707301,
          110.625948256604,
          115.411747258377,
          119.500814406253,
          119.242551614289,
          113.576373705926,
          116.313392744013,
          120.249105456057,
          119.944546760319,
          117.980959022535,
          123.65074002038,
          128.136011631165,
          127.392346671157,
          122.917666112379,
          129.184080790893,
          130.84605837323,
          130.131989439967,
          128.177431913352,
          132.133737487325,
          136.724694388845,
          136.372094340542,
          134.835853105682,
          140.771659617858,
          144.750778301082,
          145.426840064151,
          143.138241946732,
          149.691126428651,
          154.855556983237,
          146.922406121677,
          139.665630318986,
          146.393452862581,
          153.055128570474,
          154.745032323487,
          152.527567822777,
          158.862863817609,
          163.626890472144,
          163.548986893568,
          160.451553673832,
          166.330213240623,
          169.414939112875,
          167.748929756853,
          163.190790548475,
          167.971026325928,
          173.625614578102,
          171.913768396182,
          167.6313730752,
          174.726549274464,
          178.415858785986,
          176.26108981056,
          173.44712259246,
          173.966011674964,
          177.276149778553,
          175.858334174846,
          170.63830527997,
          169.19869503081,
          169.719148648215,
          166.151708233901,
          161.870504374927,
          163.753034389359,
          165.553919176281,
          162.394771431084,
          162.326973434035,
          165.042539553125,
          168.270172090362,
          166.57844899575,
          165.419265345197,
          167.71144485026,
          171.731158082837,
          169.168030516855,
          166.91022607139,
          169.677935950353,
          173.636608251354,
          172.033536010326,
          167.601192913168,
          152.47648707987,
          168.365545861063,
          171.459121457283,
          170.533849835623,
          171.378306079862,
          175.458714408045,
          173.960015001624,
          173.046458934135,
          177.451702100118,
          183.041712363066,
          178.646351713458,
          180.737231404294,
          184.284071754152,
          187.352393615227,
          182.899151049656,
          185.36364203916,
          190.42858073869,
          194.935559176014,
          189.513949866152
         ],
         "yaxis": "y"
        }
       ],
       "layout": {
        "autosize": true,
        "legend": {
         "tracegroupgap": 0
        },
        "template": {
         "data": {
          "bar": [
           {
            "error_x": {
             "color": "#2a3f5f"
            },
            "error_y": {
             "color": "#2a3f5f"
            },
            "marker": {
             "line": {
              "color": "#E5ECF6",
              "width": 0.5
             },
             "pattern": {
              "fillmode": "overlay",
              "size": 10,
              "solidity": 0.2
             }
            },
            "type": "bar"
           }
          ],
          "barpolar": [
           {
            "marker": {
             "line": {
              "color": "#E5ECF6",
              "width": 0.5
             },
             "pattern": {
              "fillmode": "overlay",
              "size": 10,
              "solidity": 0.2
             }
            },
            "type": "barpolar"
           }
          ],
          "carpet": [
           {
            "aaxis": {
             "endlinecolor": "#2a3f5f",
             "gridcolor": "white",
             "linecolor": "white",
             "minorgridcolor": "white",
             "startlinecolor": "#2a3f5f"
            },
            "baxis": {
             "endlinecolor": "#2a3f5f",
             "gridcolor": "white",
             "linecolor": "white",
             "minorgridcolor": "white",
             "startlinecolor": "#2a3f5f"
            },
            "type": "carpet"
           }
          ],
          "choropleth": [
           {
            "colorbar": {
             "outlinewidth": 0,
             "ticks": ""
            },
            "type": "choropleth"
           }
          ],
          "contour": [
           {
            "colorbar": {
             "outlinewidth": 0,
             "ticks": ""
            },
            "colorscale": [
             [
              0,
              "#0d0887"
             ],
             [
              0.1111111111111111,
              "#46039f"
             ],
             [
              0.2222222222222222,
              "#7201a8"
             ],
             [
              0.3333333333333333,
              "#9c179e"
             ],
             [
              0.4444444444444444,
              "#bd3786"
             ],
             [
              0.5555555555555556,
              "#d8576b"
             ],
             [
              0.6666666666666666,
              "#ed7953"
             ],
             [
              0.7777777777777778,
              "#fb9f3a"
             ],
             [
              0.8888888888888888,
              "#fdca26"
             ],
             [
              1,
              "#f0f921"
             ]
            ],
            "type": "contour"
           }
          ],
          "contourcarpet": [
           {
            "colorbar": {
             "outlinewidth": 0,
             "ticks": ""
            },
            "type": "contourcarpet"
           }
          ],
          "heatmap": [
           {
            "colorbar": {
             "outlinewidth": 0,
             "ticks": ""
            },
            "colorscale": [
             [
              0,
              "#0d0887"
             ],
             [
              0.1111111111111111,
              "#46039f"
             ],
             [
              0.2222222222222222,
              "#7201a8"
             ],
             [
              0.3333333333333333,
              "#9c179e"
             ],
             [
              0.4444444444444444,
              "#bd3786"
             ],
             [
              0.5555555555555556,
              "#d8576b"
             ],
             [
              0.6666666666666666,
              "#ed7953"
             ],
             [
              0.7777777777777778,
              "#fb9f3a"
             ],
             [
              0.8888888888888888,
              "#fdca26"
             ],
             [
              1,
              "#f0f921"
             ]
            ],
            "type": "heatmap"
           }
          ],
          "heatmapgl": [
           {
            "colorbar": {
             "outlinewidth": 0,
             "ticks": ""
            },
            "colorscale": [
             [
              0,
              "#0d0887"
             ],
             [
              0.1111111111111111,
              "#46039f"
             ],
             [
              0.2222222222222222,
              "#7201a8"
             ],
             [
              0.3333333333333333,
              "#9c179e"
             ],
             [
              0.4444444444444444,
              "#bd3786"
             ],
             [
              0.5555555555555556,
              "#d8576b"
             ],
             [
              0.6666666666666666,
              "#ed7953"
             ],
             [
              0.7777777777777778,
              "#fb9f3a"
             ],
             [
              0.8888888888888888,
              "#fdca26"
             ],
             [
              1,
              "#f0f921"
             ]
            ],
            "type": "heatmapgl"
           }
          ],
          "histogram": [
           {
            "marker": {
             "pattern": {
              "fillmode": "overlay",
              "size": 10,
              "solidity": 0.2
             }
            },
            "type": "histogram"
           }
          ],
          "histogram2d": [
           {
            "colorbar": {
             "outlinewidth": 0,
             "ticks": ""
            },
            "colorscale": [
             [
              0,
              "#0d0887"
             ],
             [
              0.1111111111111111,
              "#46039f"
             ],
             [
              0.2222222222222222,
              "#7201a8"
             ],
             [
              0.3333333333333333,
              "#9c179e"
             ],
             [
              0.4444444444444444,
              "#bd3786"
             ],
             [
              0.5555555555555556,
              "#d8576b"
             ],
             [
              0.6666666666666666,
              "#ed7953"
             ],
             [
              0.7777777777777778,
              "#fb9f3a"
             ],
             [
              0.8888888888888888,
              "#fdca26"
             ],
             [
              1,
              "#f0f921"
             ]
            ],
            "type": "histogram2d"
           }
          ],
          "histogram2dcontour": [
           {
            "colorbar": {
             "outlinewidth": 0,
             "ticks": ""
            },
            "colorscale": [
             [
              0,
              "#0d0887"
             ],
             [
              0.1111111111111111,
              "#46039f"
             ],
             [
              0.2222222222222222,
              "#7201a8"
             ],
             [
              0.3333333333333333,
              "#9c179e"
             ],
             [
              0.4444444444444444,
              "#bd3786"
             ],
             [
              0.5555555555555556,
              "#d8576b"
             ],
             [
              0.6666666666666666,
              "#ed7953"
             ],
             [
              0.7777777777777778,
              "#fb9f3a"
             ],
             [
              0.8888888888888888,
              "#fdca26"
             ],
             [
              1,
              "#f0f921"
             ]
            ],
            "type": "histogram2dcontour"
           }
          ],
          "mesh3d": [
           {
            "colorbar": {
             "outlinewidth": 0,
             "ticks": ""
            },
            "type": "mesh3d"
           }
          ],
          "parcoords": [
           {
            "line": {
             "colorbar": {
              "outlinewidth": 0,
              "ticks": ""
             }
            },
            "type": "parcoords"
           }
          ],
          "pie": [
           {
            "automargin": true,
            "type": "pie"
           }
          ],
          "scatter": [
           {
            "fillpattern": {
             "fillmode": "overlay",
             "size": 10,
             "solidity": 0.2
            },
            "type": "scatter"
           }
          ],
          "scatter3d": [
           {
            "line": {
             "colorbar": {
              "outlinewidth": 0,
              "ticks": ""
             }
            },
            "marker": {
             "colorbar": {
              "outlinewidth": 0,
              "ticks": ""
             }
            },
            "type": "scatter3d"
           }
          ],
          "scattercarpet": [
           {
            "marker": {
             "colorbar": {
              "outlinewidth": 0,
              "ticks": ""
             }
            },
            "type": "scattercarpet"
           }
          ],
          "scattergeo": [
           {
            "marker": {
             "colorbar": {
              "outlinewidth": 0,
              "ticks": ""
             }
            },
            "type": "scattergeo"
           }
          ],
          "scattergl": [
           {
            "marker": {
             "colorbar": {
              "outlinewidth": 0,
              "ticks": ""
             }
            },
            "type": "scattergl"
           }
          ],
          "scattermapbox": [
           {
            "marker": {
             "colorbar": {
              "outlinewidth": 0,
              "ticks": ""
             }
            },
            "type": "scattermapbox"
           }
          ],
          "scatterpolar": [
           {
            "marker": {
             "colorbar": {
              "outlinewidth": 0,
              "ticks": ""
             }
            },
            "type": "scatterpolar"
           }
          ],
          "scatterpolargl": [
           {
            "marker": {
             "colorbar": {
              "outlinewidth": 0,
              "ticks": ""
             }
            },
            "type": "scatterpolargl"
           }
          ],
          "scatterternary": [
           {
            "marker": {
             "colorbar": {
              "outlinewidth": 0,
              "ticks": ""
             }
            },
            "type": "scatterternary"
           }
          ],
          "surface": [
           {
            "colorbar": {
             "outlinewidth": 0,
             "ticks": ""
            },
            "colorscale": [
             [
              0,
              "#0d0887"
             ],
             [
              0.1111111111111111,
              "#46039f"
             ],
             [
              0.2222222222222222,
              "#7201a8"
             ],
             [
              0.3333333333333333,
              "#9c179e"
             ],
             [
              0.4444444444444444,
              "#bd3786"
             ],
             [
              0.5555555555555556,
              "#d8576b"
             ],
             [
              0.6666666666666666,
              "#ed7953"
             ],
             [
              0.7777777777777778,
              "#fb9f3a"
             ],
             [
              0.8888888888888888,
              "#fdca26"
             ],
             [
              1,
              "#f0f921"
             ]
            ],
            "type": "surface"
           }
          ],
          "table": [
           {
            "cells": {
             "fill": {
              "color": "#EBF0F8"
             },
             "line": {
              "color": "white"
             }
            },
            "header": {
             "fill": {
              "color": "#C8D4E3"
             },
             "line": {
              "color": "white"
             }
            },
            "type": "table"
           }
          ]
         },
         "layout": {
          "annotationdefaults": {
           "arrowcolor": "#2a3f5f",
           "arrowhead": 0,
           "arrowwidth": 1
          },
          "autotypenumbers": "strict",
          "coloraxis": {
           "colorbar": {
            "outlinewidth": 0,
            "ticks": ""
           }
          },
          "colorscale": {
           "diverging": [
            [
             0,
             "#8e0152"
            ],
            [
             0.1,
             "#c51b7d"
            ],
            [
             0.2,
             "#de77ae"
            ],
            [
             0.3,
             "#f1b6da"
            ],
            [
             0.4,
             "#fde0ef"
            ],
            [
             0.5,
             "#f7f7f7"
            ],
            [
             0.6,
             "#e6f5d0"
            ],
            [
             0.7,
             "#b8e186"
            ],
            [
             0.8,
             "#7fbc41"
            ],
            [
             0.9,
             "#4d9221"
            ],
            [
             1,
             "#276419"
            ]
           ],
           "sequential": [
            [
             0,
             "#0d0887"
            ],
            [
             0.1111111111111111,
             "#46039f"
            ],
            [
             0.2222222222222222,
             "#7201a8"
            ],
            [
             0.3333333333333333,
             "#9c179e"
            ],
            [
             0.4444444444444444,
             "#bd3786"
            ],
            [
             0.5555555555555556,
             "#d8576b"
            ],
            [
             0.6666666666666666,
             "#ed7953"
            ],
            [
             0.7777777777777778,
             "#fb9f3a"
            ],
            [
             0.8888888888888888,
             "#fdca26"
            ],
            [
             1,
             "#f0f921"
            ]
           ],
           "sequentialminus": [
            [
             0,
             "#0d0887"
            ],
            [
             0.1111111111111111,
             "#46039f"
            ],
            [
             0.2222222222222222,
             "#7201a8"
            ],
            [
             0.3333333333333333,
             "#9c179e"
            ],
            [
             0.4444444444444444,
             "#bd3786"
            ],
            [
             0.5555555555555556,
             "#d8576b"
            ],
            [
             0.6666666666666666,
             "#ed7953"
            ],
            [
             0.7777777777777778,
             "#fb9f3a"
            ],
            [
             0.8888888888888888,
             "#fdca26"
            ],
            [
             1,
             "#f0f921"
            ]
           ]
          },
          "colorway": [
           "#636efa",
           "#EF553B",
           "#00cc96",
           "#ab63fa",
           "#FFA15A",
           "#19d3f3",
           "#FF6692",
           "#B6E880",
           "#FF97FF",
           "#FECB52"
          ],
          "font": {
           "color": "#2a3f5f"
          },
          "geo": {
           "bgcolor": "white",
           "lakecolor": "white",
           "landcolor": "#E5ECF6",
           "showlakes": true,
           "showland": true,
           "subunitcolor": "white"
          },
          "hoverlabel": {
           "align": "left"
          },
          "hovermode": "closest",
          "mapbox": {
           "style": "light"
          },
          "paper_bgcolor": "white",
          "plot_bgcolor": "#E5ECF6",
          "polar": {
           "angularaxis": {
            "gridcolor": "white",
            "linecolor": "white",
            "ticks": ""
           },
           "bgcolor": "#E5ECF6",
           "radialaxis": {
            "gridcolor": "white",
            "linecolor": "white",
            "ticks": ""
           }
          },
          "scene": {
           "xaxis": {
            "backgroundcolor": "#E5ECF6",
            "gridcolor": "white",
            "gridwidth": 2,
            "linecolor": "white",
            "showbackground": true,
            "ticks": "",
            "zerolinecolor": "white"
           },
           "yaxis": {
            "backgroundcolor": "#E5ECF6",
            "gridcolor": "white",
            "gridwidth": 2,
            "linecolor": "white",
            "showbackground": true,
            "ticks": "",
            "zerolinecolor": "white"
           },
           "zaxis": {
            "backgroundcolor": "#E5ECF6",
            "gridcolor": "white",
            "gridwidth": 2,
            "linecolor": "white",
            "showbackground": true,
            "ticks": "",
            "zerolinecolor": "white"
           }
          },
          "shapedefaults": {
           "line": {
            "color": "#2a3f5f"
           }
          },
          "ternary": {
           "aaxis": {
            "gridcolor": "white",
            "linecolor": "white",
            "ticks": ""
           },
           "baxis": {
            "gridcolor": "white",
            "linecolor": "white",
            "ticks": ""
           },
           "bgcolor": "#E5ECF6",
           "caxis": {
            "gridcolor": "white",
            "linecolor": "white",
            "ticks": ""
           }
          },
          "title": {
           "x": 0.05
          },
          "xaxis": {
           "automargin": true,
           "gridcolor": "white",
           "linecolor": "white",
           "ticks": "",
           "title": {
            "standoff": 15
           },
           "zerolinecolor": "white",
           "zerolinewidth": 2
          },
          "yaxis": {
           "automargin": true,
           "gridcolor": "white",
           "linecolor": "white",
           "ticks": "",
           "title": {
            "standoff": 15
           },
           "zerolinecolor": "white",
           "zerolinewidth": 2
          }
         }
        },
        "title": {
         "text": "Produto interno bruto (PIB) a preços de mercado: índice real encadeado (média 1995 = 100)"
        },
        "xaxis": {
         "anchor": "y",
         "autorange": true,
         "domain": [
          0,
          1
         ],
         "range": [
          0,
          115
         ],
         "title": {
          "text": "mes_ano"
         },
         "type": "category"
        },
        "yaxis": {
         "anchor": "x",
         "autorange": true,
         "domain": [
          0,
          1
         ],
         "range": [
          91.38991275553623,
          200.38533004024967
         ],
         "title": {
          "text": "VALUE (-)"
         },
         "type": "linear"
        }
       }
      },
      "image/png": "[encoded data removed]",
      "text/html": [
       "<div>                            <div id=\"c7ff5310-cbdd-48bf-864d-3d41479a4b11\" class=\"plotly-graph-div\" style=\"height:525px; width:100%;\"></div>            <script type=\"text/javascript\">                require([\"plotly\"], function(Plotly) {                    window.PLOTLYENV=window.PLOTLYENV || {};                                    if (document.getElementById(\"c7ff5310-cbdd-48bf-864d-3d41479a4b11\")) {                    Plotly.newPlot(                        \"c7ff5310-cbdd-48bf-864d-3d41479a4b11\",                        [{\"hovertemplate\":\"mes_ano=%{x}\\u003cbr\\u003eVALUE (-)=%{y}\\u003cextra\\u003e\\u003c\\u002fextra\\u003e\",\"legendgroup\":\"\",\"line\":{\"color\":\"#636efa\",\"dash\":\"solid\"},\"marker\":{\"symbol\":\"circle\"},\"mode\":\"lines\",\"name\":\"\",\"orientation\":\"v\",\"showlegend\":false,\"x\":[\"01\\u002f1996\",\"04\\u002f1996\",\"07\\u002f1996\",\"10\\u002f1996\",\"01\\u002f1997\",\"04\\u002f1997\",\"07\\u002f1997\",\"10\\u002f1997\",\"01\\u002f1998\",\"04\\u002f1998\",\"07\\u002f1998\",\"10\\u002f1998\",\"01\\u002f1999\",\"04\\u002f1999\",\"07\\u002f1999\",\"10\\u002f1999\",\"01\\u002f2000\",\"04\\u002f2000\",\"07\\u002f2000\",\"10\\u002f2000\",\"01\\u002f2001\",\"04\\u002f2001\",\"07\\u002f2001\",\"10\\u002f2001\",\"01\\u002f2002\",\"04\\u002f2002\",\"07\\u002f2002\",\"10\\u002f2002\",\"01\\u002f2003\",\"04\\u002f2003\",\"07\\u002f2003\",\"10\\u002f2003\",\"01\\u002f2004\",\"04\\u002f2004\",\"07\\u002f2004\",\"10\\u002f2004\",\"01\\u002f2005\",\"04\\u002f2005\",\"07\\u002f2005\",\"10\\u002f2005\",\"01\\u002f2006\",\"04\\u002f2006\",\"07\\u002f2006\",\"10\\u002f2006\",\"01\\u002f2007\",\"04\\u002f2007\",\"07\\u002f2007\",\"10\\u002f2007\",\"01\\u002f2008\",\"04\\u002f2008\",\"07\\u002f2008\",\"10\\u002f2008\",\"01\\u002f2009\",\"04\\u002f2009\",\"07\\u002f2009\",\"10\\u002f2009\",\"01\\u002f2010\",\"04\\u002f2010\",\"07\\u002f2010\",\"10\\u002f2010\",\"01\\u002f2011\",\"04\\u002f2011\",\"07\\u002f2011\",\"10\\u002f2011\",\"01\\u002f2012\",\"04\\u002f2012\",\"07\\u002f2012\",\"10\\u002f2012\",\"01\\u002f2013\",\"04\\u002f2013\",\"07\\u002f2013\",\"10\\u002f2013\",\"01\\u002f2014\",\"04\\u002f2014\",\"07\\u002f2014\",\"10\\u002f2014\",\"01\\u002f2015\",\"04\\u002f2015\",\"07\\u002f2015\",\"10\\u002f2015\",\"01\\u002f2016\",\"04\\u002f2016\",\"07\\u002f2016\",\"10\\u002f2016\",\"01\\u002f2017\",\"04\\u002f2017\",\"07\\u002f2017\",\"10\\u002f2017\",\"01\\u002f2018\",\"04\\u002f2018\",\"07\\u002f2018\",\"10\\u002f2018\",\"01\\u002f2019\",\"04\\u002f2019\",\"07\\u002f2019\",\"10\\u002f2019\",\"01\\u002f2020\",\"04\\u002f2020\",\"07\\u002f2020\",\"10\\u002f2020\",\"01\\u002f2021\",\"04\\u002f2021\",\"07\\u002f2021\",\"10\\u002f2021\",\"01\\u002f2022\",\"04\\u002f2022\",\"07\\u002f2022\",\"10\\u002f2022\",\"01\\u002f2023\",\"04\\u002f2023\",\"07\\u002f2023\",\"10\\u002f2023\",\"01\\u002f2024\",\"04\\u002f2024\",\"07\\u002f2024\",\"10\\u002f2024\"],\"xaxis\":\"x\",\"y\":[96.8396836197719,100.119467514028,107.561773309359,104.314529544694,100.132786447406,104.879149330001,109.488505220113,108.214346986587,101.14169920072,106.462460870289,109.877846013711,106.661971728804,101.918131048489,106.035824103128,109.2007423431,108.974009327805,106.403247281882,110.254362002232,114.185307545381,113.984102213273,110.100856213943,112.818939536169,114.71192532909,113.377932707301,110.625948256604,115.411747258377,119.500814406253,119.242551614289,113.576373705926,116.313392744013,120.249105456057,119.944546760319,117.980959022535,123.65074002038,128.136011631165,127.392346671157,122.917666112379,129.184080790893,130.84605837323,130.131989439967,128.177431913352,132.133737487325,136.724694388845,136.372094340542,134.835853105682,140.771659617858,144.750778301082,145.426840064151,143.138241946732,149.691126428651,154.855556983237,146.922406121677,139.665630318986,146.393452862581,153.055128570474,154.745032323487,152.527567822777,158.862863817609,163.626890472144,163.548986893568,160.451553673832,166.330213240623,169.414939112875,167.748929756853,163.190790548475,167.971026325928,173.625614578102,171.913768396182,167.6313730752,174.726549274464,178.415858785986,176.26108981056,173.44712259246,173.966011674964,177.276149778553,175.858334174846,170.63830527997,169.19869503081,169.719148648215,166.151708233901,161.870504374927,163.753034389359,165.553919176281,162.394771431084,162.326973434035,165.042539553125,168.270172090362,166.57844899575,165.419265345197,167.71144485026,171.731158082837,169.168030516855,166.91022607139,169.677935950353,173.636608251354,172.033536010326,167.601192913168,152.47648707987,168.365545861063,171.459121457283,170.533849835623,171.378306079862,175.458714408045,173.960015001624,173.046458934135,177.451702100118,183.041712363066,178.646351713458,180.737231404294,184.284071754152,187.352393615227,182.899151049656,185.36364203916,190.42858073869,194.935559176014,189.513949866152],\"yaxis\":\"y\",\"type\":\"scatter\"}],                        {\"template\":{\"data\":{\"histogram2dcontour\":[{\"type\":\"histogram2dcontour\",\"colorbar\":{\"outlinewidth\":0,\"ticks\":\"\"},\"colorscale\":[[0.0,\"#0d0887\"],[0.1111111111111111,\"#46039f\"],[0.2222222222222222,\"#7201a8\"],[0.3333333333333333,\"#9c179e\"],[0.4444444444444444,\"#bd3786\"],[0.5555555555555556,\"#d8576b\"],[0.6666666666666666,\"#ed7953\"],[0.7777777777777778,\"#fb9f3a\"],[0.8888888888888888,\"#fdca26\"],[1.0,\"#f0f921\"]]}],\"choropleth\":[{\"type\":\"choropleth\",\"colorbar\":{\"outlinewidth\":0,\"ticks\":\"\"}}],\"histogram2d\":[{\"type\":\"histogram2d\",\"colorbar\":{\"outlinewidth\":0,\"ticks\":\"\"},\"colorscale\":[[0.0,\"#0d0887\"],[0.1111111111111111,\"#46039f\"],[0.2222222222222222,\"#7201a8\"],[0.3333333333333333,\"#9c179e\"],[0.4444444444444444,\"#bd3786\"],[0.5555555555555556,\"#d8576b\"],[0.6666666666666666,\"#ed7953\"],[0.7777777777777778,\"#fb9f3a\"],[0.8888888888888888,\"#fdca26\"],[1.0,\"#f0f921\"]]}],\"heatmap\":[{\"type\":\"heatmap\",\"colorbar\":{\"outlinewidth\":0,\"ticks\":\"\"},\"colorscale\":[[0.0,\"#0d0887\"],[0.1111111111111111,\"#46039f\"],[0.2222222222222222,\"#7201a8\"],[0.3333333333333333,\"#9c179e\"],[0.4444444444444444,\"#bd3786\"],[0.5555555555555556,\"#d8576b\"],[0.6666666666666666,\"#ed7953\"],[0.7777777777777778,\"#fb9f3a\"],[0.8888888888888888,\"#fdca26\"],[1.0,\"#f0f921\"]]}],\"heatmapgl\":[{\"type\":\"heatmapgl\",\"colorbar\":{\"outlinewidth\":0,\"ticks\":\"\"},\"colorscale\":[[0.0,\"#0d0887\"],[0.1111111111111111,\"#46039f\"],[0.2222222222222222,\"#7201a8\"],[0.3333333333333333,\"#9c179e\"],[0.4444444444444444,\"#bd3786\"],[0.5555555555555556,\"#d8576b\"],[0.6666666666666666,\"#ed7953\"],[0.7777777777777778,\"#fb9f3a\"],[0.8888888888888888,\"#fdca26\"],[1.0,\"#f0f921\"]]}],\"contourcarpet\":[{\"type\":\"contourcarpet\",\"colorbar\":{\"outlinewidth\":0,\"ticks\":\"\"}}],\"contour\":[{\"type\":\"contour\",\"colorbar\":{\"outlinewidth\":0,\"ticks\":\"\"},\"colorscale\":[[0.0,\"#0d0887\"],[0.1111111111111111,\"#46039f\"],[0.2222222222222222,\"#7201a8\"],[0.3333333333333333,\"#9c179e\"],[0.4444444444444444,\"#bd3786\"],[0.5555555555555556,\"#d8576b\"],[0.6666666666666666,\"#ed7953\"],[0.7777777777777778,\"#fb9f3a\"],[0.8888888888888888,\"#fdca26\"],[1.0,\"#f0f921\"]]}],\"surface\":[{\"type\":\"surface\",\"colorbar\":{\"outlinewidth\":0,\"ticks\":\"\"},\"colorscale\":[[0.0,\"#0d0887\"],[0.1111111111111111,\"#46039f\"],[0.2222222222222222,\"#7201a8\"],[0.3333333333333333,\"#9c179e\"],[0.4444444444444444,\"#bd3786\"],[0.5555555555555556,\"#d8576b\"],[0.6666666666666666,\"#ed7953\"],[0.7777777777777778,\"#fb9f3a\"],[0.8888888888888888,\"#fdca26\"],[1.0,\"#f0f921\"]]}],\"mesh3d\":[{\"type\":\"mesh3d\",\"colorbar\":{\"outlinewidth\":0,\"ticks\":\"\"}}],\"scatter\":[{\"fillpattern\":{\"fillmode\":\"overlay\",\"size\":10,\"solidity\":0.2},\"type\":\"scatter\"}],\"parcoords\":[{\"type\":\"parcoords\",\"line\":{\"colorbar\":{\"outlinewidth\":0,\"ticks\":\"\"}}}],\"scatterpolargl\":[{\"type\":\"scatterpolargl\",\"marker\":{\"colorbar\":{\"outlinewidth\":0,\"ticks\":\"\"}}}],\"bar\":[{\"error_x\":{\"color\":\"#2a3f5f\"},\"error_y\":{\"color\":\"#2a3f5f\"},\"marker\":{\"line\":{\"color\":\"#E5ECF6\",\"width\":0.5},\"pattern\":{\"fillmode\":\"overlay\",\"size\":10,\"solidity\":0.2}},\"type\":\"bar\"}],\"scattergeo\":[{\"type\":\"scattergeo\",\"marker\":{\"colorbar\":{\"outlinewidth\":0,\"ticks\":\"\"}}}],\"scatterpolar\":[{\"type\":\"scatterpolar\",\"marker\":{\"colorbar\":{\"outlinewidth\":0,\"ticks\":\"\"}}}],\"histogram\":[{\"marker\":{\"pattern\":{\"fillmode\":\"overlay\",\"size\":10,\"solidity\":0.2}},\"type\":\"histogram\"}],\"scattergl\":[{\"type\":\"scattergl\",\"marker\":{\"colorbar\":{\"outlinewidth\":0,\"ticks\":\"\"}}}],\"scatter3d\":[{\"type\":\"scatter3d\",\"line\":{\"colorbar\":{\"outlinewidth\":0,\"ticks\":\"\"}},\"marker\":{\"colorbar\":{\"outlinewidth\":0,\"ticks\":\"\"}}}],\"scattermapbox\":[{\"type\":\"scattermapbox\",\"marker\":{\"colorbar\":{\"outlinewidth\":0,\"ticks\":\"\"}}}],\"scatterternary\":[{\"type\":\"scatterternary\",\"marker\":{\"colorbar\":{\"outlinewidth\":0,\"ticks\":\"\"}}}],\"scattercarpet\":[{\"type\":\"scattercarpet\",\"marker\":{\"colorbar\":{\"outlinewidth\":0,\"ticks\":\"\"}}}],\"carpet\":[{\"aaxis\":{\"endlinecolor\":\"#2a3f5f\",\"gridcolor\":\"white\",\"linecolor\":\"white\",\"minorgridcolor\":\"white\",\"startlinecolor\":\"#2a3f5f\"},\"baxis\":{\"endlinecolor\":\"#2a3f5f\",\"gridcolor\":\"white\",\"linecolor\":\"white\",\"minorgridcolor\":\"white\",\"startlinecolor\":\"#2a3f5f\"},\"type\":\"carpet\"}],\"table\":[{\"cells\":{\"fill\":{\"color\":\"#EBF0F8\"},\"line\":{\"color\":\"white\"}},\"header\":{\"fill\":{\"color\":\"#C8D4E3\"},\"line\":{\"color\":\"white\"}},\"type\":\"table\"}],\"barpolar\":[{\"marker\":{\"line\":{\"color\":\"#E5ECF6\",\"width\":0.5},\"pattern\":{\"fillmode\":\"overlay\",\"size\":10,\"solidity\":0.2}},\"type\":\"barpolar\"}],\"pie\":[{\"automargin\":true,\"type\":\"pie\"}]},\"layout\":{\"autotypenumbers\":\"strict\",\"colorway\":[\"#636efa\",\"#EF553B\",\"#00cc96\",\"#ab63fa\",\"#FFA15A\",\"#19d3f3\",\"#FF6692\",\"#B6E880\",\"#FF97FF\",\"#FECB52\"],\"font\":{\"color\":\"#2a3f5f\"},\"hovermode\":\"closest\",\"hoverlabel\":{\"align\":\"left\"},\"paper_bgcolor\":\"white\",\"plot_bgcolor\":\"#E5ECF6\",\"polar\":{\"bgcolor\":\"#E5ECF6\",\"angularaxis\":{\"gridcolor\":\"white\",\"linecolor\":\"white\",\"ticks\":\"\"},\"radialaxis\":{\"gridcolor\":\"white\",\"linecolor\":\"white\",\"ticks\":\"\"}},\"ternary\":{\"bgcolor\":\"#E5ECF6\",\"aaxis\":{\"gridcolor\":\"white\",\"linecolor\":\"white\",\"ticks\":\"\"},\"baxis\":{\"gridcolor\":\"white\",\"linecolor\":\"white\",\"ticks\":\"\"},\"caxis\":{\"gridcolor\":\"white\",\"linecolor\":\"white\",\"ticks\":\"\"}},\"coloraxis\":{\"colorbar\":{\"outlinewidth\":0,\"ticks\":\"\"}},\"colorscale\":{\"sequential\":[[0.0,\"#0d0887\"],[0.1111111111111111,\"#46039f\"],[0.2222222222222222,\"#7201a8\"],[0.3333333333333333,\"#9c179e\"],[0.4444444444444444,\"#bd3786\"],[0.5555555555555556,\"#d8576b\"],[0.6666666666666666,\"#ed7953\"],[0.7777777777777778,\"#fb9f3a\"],[0.8888888888888888,\"#fdca26\"],[1.0,\"#f0f921\"]],\"sequentialminus\":[[0.0,\"#0d0887\"],[0.1111111111111111,\"#46039f\"],[0.2222222222222222,\"#7201a8\"],[0.3333333333333333,\"#9c179e\"],[0.4444444444444444,\"#bd3786\"],[0.5555555555555556,\"#d8576b\"],[0.6666666666666666,\"#ed7953\"],[0.7777777777777778,\"#fb9f3a\"],[0.8888888888888888,\"#fdca26\"],[1.0,\"#f0f921\"]],\"diverging\":[[0,\"#8e0152\"],[0.1,\"#c51b7d\"],[0.2,\"#de77ae\"],[0.3,\"#f1b6da\"],[0.4,\"#fde0ef\"],[0.5,\"#f7f7f7\"],[0.6,\"#e6f5d0\"],[0.7,\"#b8e186\"],[0.8,\"#7fbc41\"],[0.9,\"#4d9221\"],[1,\"#276419\"]]},\"xaxis\":{\"gridcolor\":\"white\",\"linecolor\":\"white\",\"ticks\":\"\",\"title\":{\"standoff\":15},\"zerolinecolor\":\"white\",\"automargin\":true,\"zerolinewidth\":2},\"yaxis\":{\"gridcolor\":\"white\",\"linecolor\":\"white\",\"ticks\":\"\",\"title\":{\"standoff\":15},\"zerolinecolor\":\"white\",\"automargin\":true,\"zerolinewidth\":2},\"scene\":{\"xaxis\":{\"backgroundcolor\":\"#E5ECF6\",\"gridcolor\":\"white\",\"linecolor\":\"white\",\"showbackground\":true,\"ticks\":\"\",\"zerolinecolor\":\"white\",\"gridwidth\":2},\"yaxis\":{\"backgroundcolor\":\"#E5ECF6\",\"gridcolor\":\"white\",\"linecolor\":\"white\",\"showbackground\":true,\"ticks\":\"\",\"zerolinecolor\":\"white\",\"gridwidth\":2},\"zaxis\":{\"backgroundcolor\":\"#E5ECF6\",\"gridcolor\":\"white\",\"linecolor\":\"white\",\"showbackground\":true,\"ticks\":\"\",\"zerolinecolor\":\"white\",\"gridwidth\":2}},\"shapedefaults\":{\"line\":{\"color\":\"#2a3f5f\"}},\"annotationdefaults\":{\"arrowcolor\":\"#2a3f5f\",\"arrowhead\":0,\"arrowwidth\":1},\"geo\":{\"bgcolor\":\"white\",\"landcolor\":\"#E5ECF6\",\"subunitcolor\":\"white\",\"showland\":true,\"showlakes\":true,\"lakecolor\":\"white\"},\"title\":{\"x\":0.05},\"mapbox\":{\"style\":\"light\"}}},\"xaxis\":{\"anchor\":\"y\",\"domain\":[0.0,1.0],\"title\":{\"text\":\"mes_ano\"}},\"yaxis\":{\"anchor\":\"x\",\"domain\":[0.0,1.0],\"title\":{\"text\":\"VALUE (-)\"}},\"legend\":{\"tracegroupgap\":0},\"title\":{\"text\":\"Produto interno bruto (PIB) a pre\\u00e7os de mercado: \\u00edndice real encadeado (m\\u00e9dia 1995 = 100)\"}},                        {\"responsive\": true}                    ).then(function(){\n",
       "                            \n",
       "var gd = document.getElementById('c7ff5310-cbdd-48bf-864d-3d41479a4b11');\n",
       "var x = new MutationObserver(function (mutations, observer) {{\n",
       "        var display = window.getComputedStyle(gd).display;\n",
       "        if (!display || display === 'none') {{\n",
       "            console.log([gd, 'removed!']);\n",
       "            Plotly.purge(gd);\n",
       "            observer.disconnect();\n",
       "        }}\n",
       "}});\n",
       "\n",
       "// Listen for the removal of the full notebook cells\n",
       "var notebookContainer = gd.closest('#notebook-container');\n",
       "if (notebookContainer) {{\n",
       "    x.observe(notebookContainer, {childList: true});\n",
       "}}\n",
       "\n",
       "// Listen for the clearing of the current output cell\n",
       "var outputEl = gd.closest('.output');\n",
       "if (outputEl) {{\n",
       "    x.observe(outputEl, {childList: true});\n",
       "}}\n",
       "\n",
       "                        })                };                });            </script>        </div>"
      ]
     },
     "metadata": {},
     "output_type": "display_data"
    }
   ],
   "source": [
    "fig_pib = px.line(pib, x = 'mes_ano', y = 'VALUE (-)', title  = 'Produto interno bruto (PIB) a preços de mercado: índice real encadeado (média 1995 = 100)')\n",
    "fig_pib.show()"
   ]
  },
  {
   "cell_type": "code",
   "execution_count": 130,
   "id": "c42086d9-ad11-40b3-9ec6-52fe4f7b2942",
   "metadata": {},
   "outputs": [
    {
     "data": {
      "application/vnd.plotly.v1+json": {
       "config": {
        "plotlyServerURL": "https://plot.ly"
       },
       "data": [
        {
         "hovertemplate": "mes_ano=%{x}<br>VALUE (-)=%{y}<extra></extra>",
         "legendgroup": "",
         "line": {
          "color": "#636efa",
          "dash": "solid"
         },
         "marker": {
          "symbol": "circle"
         },
         "mode": "lines",
         "name": "",
         "orientation": "v",
         "showlegend": false,
         "type": "scatter",
         "x": [
          "12/1979",
          "01/1980",
          "02/1980",
          "03/1980",
          "04/1980",
          "05/1980",
          "06/1980",
          "07/1980",
          "08/1980",
          "09/1980",
          "10/1980",
          "11/1980",
          "12/1980",
          "01/1981",
          "02/1981",
          "03/1981",
          "04/1981",
          "05/1981",
          "06/1981",
          "07/1981",
          "08/1981",
          "09/1981",
          "10/1981",
          "11/1981",
          "12/1981",
          "01/1982",
          "02/1982",
          "03/1982",
          "04/1982",
          "05/1982",
          "06/1982",
          "07/1982",
          "08/1982",
          "09/1982",
          "10/1982",
          "11/1982",
          "12/1982",
          "01/1983",
          "02/1983",
          "03/1983",
          "04/1983",
          "05/1983",
          "06/1983",
          "07/1983",
          "08/1983",
          "09/1983",
          "10/1983",
          "11/1983",
          "12/1983",
          "01/1984",
          "02/1984",
          "03/1984",
          "04/1984",
          "05/1984",
          "06/1984",
          "07/1984",
          "08/1984",
          "09/1984",
          "10/1984",
          "11/1984",
          "12/1984",
          "01/1985",
          "02/1985",
          "03/1985",
          "04/1985",
          "05/1985",
          "06/1985",
          "07/1985",
          "08/1985",
          "09/1985",
          "10/1985",
          "11/1985",
          "12/1985",
          "01/1986",
          "02/1986",
          "03/1986",
          "04/1986",
          "05/1986",
          "06/1986",
          "07/1986",
          "08/1986",
          "09/1986",
          "10/1986",
          "11/1986",
          "12/1986",
          "01/1987",
          "02/1987",
          "03/1987",
          "04/1987",
          "05/1987",
          "06/1987",
          "07/1987",
          "08/1987",
          "09/1987",
          "10/1987",
          "11/1987",
          "12/1987",
          "01/1988",
          "02/1988",
          "03/1988",
          "04/1988",
          "05/1988",
          "06/1988",
          "07/1988",
          "08/1988",
          "09/1988",
          "10/1988",
          "11/1988",
          "12/1988",
          "01/1989",
          "02/1989",
          "03/1989",
          "04/1989",
          "05/1989",
          "06/1989",
          "07/1989",
          "08/1989",
          "09/1989",
          "10/1989",
          "11/1989",
          "12/1989",
          "01/1990",
          "02/1990",
          "03/1990",
          "04/1990",
          "05/1990",
          "06/1990",
          "07/1990",
          "08/1990",
          "09/1990",
          "10/1990",
          "11/1990",
          "12/1990",
          "01/1991",
          "02/1991",
          "03/1991",
          "04/1991",
          "05/1991",
          "06/1991",
          "07/1991",
          "08/1991",
          "09/1991",
          "10/1991",
          "11/1991",
          "12/1991",
          "01/1992",
          "02/1992",
          "03/1992",
          "04/1992",
          "05/1992",
          "06/1992",
          "07/1992",
          "08/1992",
          "09/1992",
          "10/1992",
          "11/1992",
          "12/1992",
          "01/1993",
          "02/1993",
          "03/1993",
          "04/1993",
          "05/1993",
          "06/1993",
          "07/1993",
          "08/1993",
          "09/1993",
          "10/1993",
          "11/1993",
          "12/1993",
          "01/1994",
          "02/1994",
          "03/1994",
          "04/1994",
          "05/1994",
          "06/1994",
          "07/1994",
          "08/1994",
          "09/1994",
          "10/1994",
          "11/1994",
          "12/1994",
          "01/1995",
          "02/1995",
          "03/1995",
          "04/1995",
          "05/1995",
          "06/1995",
          "07/1995",
          "08/1995",
          "09/1995",
          "10/1995",
          "11/1995",
          "12/1995",
          "01/1996",
          "02/1996",
          "03/1996",
          "04/1996",
          "05/1996",
          "06/1996",
          "07/1996",
          "08/1996",
          "09/1996",
          "10/1996",
          "11/1996",
          "12/1996",
          "01/1997",
          "02/1997",
          "03/1997",
          "04/1997",
          "05/1997",
          "06/1997",
          "07/1997",
          "08/1997",
          "09/1997",
          "10/1997",
          "11/1997",
          "12/1997",
          "01/1998",
          "02/1998",
          "03/1998",
          "04/1998",
          "05/1998",
          "06/1998",
          "07/1998",
          "08/1998",
          "09/1998",
          "10/1998",
          "11/1998",
          "12/1998",
          "01/1999",
          "02/1999",
          "03/1999",
          "04/1999",
          "05/1999",
          "06/1999",
          "07/1999",
          "08/1999",
          "09/1999",
          "10/1999",
          "11/1999",
          "12/1999",
          "01/2000",
          "02/2000",
          "03/2000",
          "04/2000",
          "05/2000",
          "06/2000",
          "07/2000",
          "08/2000",
          "09/2000",
          "10/2000",
          "11/2000",
          "12/2000",
          "01/2001",
          "02/2001",
          "03/2001",
          "04/2001",
          "05/2001",
          "06/2001",
          "07/2001",
          "08/2001",
          "09/2001",
          "10/2001",
          "11/2001",
          "12/2001",
          "01/2002",
          "02/2002",
          "03/2002",
          "04/2002",
          "05/2002",
          "06/2002",
          "07/2002",
          "08/2002",
          "09/2002",
          "10/2002",
          "11/2002",
          "12/2002",
          "01/2003",
          "02/2003",
          "03/2003",
          "04/2003",
          "05/2003",
          "06/2003",
          "07/2003",
          "08/2003",
          "09/2003",
          "10/2003",
          "11/2003",
          "12/2003",
          "01/2004",
          "02/2004",
          "03/2004",
          "04/2004",
          "05/2004",
          "06/2004",
          "07/2004",
          "08/2004",
          "09/2004",
          "10/2004",
          "11/2004",
          "12/2004",
          "01/2005",
          "02/2005",
          "03/2005",
          "04/2005",
          "05/2005",
          "06/2005",
          "07/2005",
          "08/2005",
          "09/2005",
          "10/2005",
          "11/2005",
          "12/2005",
          "01/2006",
          "02/2006",
          "03/2006",
          "04/2006",
          "05/2006",
          "06/2006",
          "07/2006",
          "08/2006",
          "09/2006",
          "10/2006",
          "11/2006",
          "12/2006",
          "01/2007",
          "02/2007",
          "03/2007",
          "04/2007",
          "05/2007",
          "06/2007",
          "07/2007",
          "08/2007",
          "09/2007",
          "10/2007",
          "11/2007",
          "12/2007",
          "01/2008",
          "02/2008",
          "03/2008",
          "04/2008",
          "05/2008",
          "06/2008",
          "07/2008",
          "08/2008",
          "09/2008",
          "10/2008",
          "11/2008",
          "12/2008",
          "01/2009",
          "02/2009",
          "03/2009",
          "04/2009",
          "05/2009",
          "06/2009",
          "07/2009",
          "08/2009",
          "09/2009",
          "10/2009",
          "11/2009",
          "12/2009",
          "01/2010",
          "02/2010",
          "03/2010",
          "04/2010",
          "05/2010",
          "06/2010",
          "07/2010",
          "08/2010",
          "09/2010",
          "10/2010",
          "11/2010",
          "12/2010",
          "01/2011",
          "02/2011",
          "03/2011",
          "04/2011",
          "05/2011",
          "06/2011",
          "07/2011",
          "08/2011",
          "09/2011",
          "10/2011",
          "11/2011",
          "12/2011",
          "01/2012",
          "02/2012",
          "03/2012",
          "04/2012",
          "05/2012",
          "06/2012",
          "07/2012",
          "08/2012",
          "09/2012",
          "10/2012",
          "11/2012",
          "12/2012",
          "01/2013",
          "02/2013",
          "03/2013",
          "04/2013",
          "05/2013",
          "06/2013",
          "07/2013",
          "08/2013",
          "09/2013",
          "10/2013",
          "11/2013",
          "12/2013",
          "01/2014",
          "02/2014",
          "03/2014",
          "04/2014",
          "05/2014",
          "06/2014",
          "07/2014",
          "08/2014",
          "09/2014",
          "10/2014",
          "11/2014",
          "12/2014",
          "01/2015",
          "02/2015",
          "03/2015",
          "04/2015",
          "05/2015",
          "06/2015",
          "07/2015",
          "08/2015",
          "09/2015",
          "10/2015",
          "11/2015",
          "12/2015",
          "01/2016",
          "02/2016",
          "03/2016",
          "04/2016",
          "05/2016",
          "06/2016",
          "07/2016",
          "08/2016",
          "09/2016",
          "10/2016",
          "11/2016",
          "12/2016",
          "01/2017",
          "02/2017",
          "03/2017",
          "04/2017",
          "05/2017",
          "06/2017",
          "07/2017",
          "08/2017",
          "09/2017",
          "10/2017",
          "11/2017",
          "12/2017",
          "01/2018",
          "02/2018",
          "03/2018",
          "04/2018",
          "05/2018",
          "06/2018",
          "07/2018",
          "08/2018",
          "09/2018",
          "10/2018",
          "11/2018",
          "12/2018",
          "01/2019",
          "02/2019",
          "03/2019",
          "04/2019",
          "05/2019",
          "06/2019",
          "07/2019",
          "08/2019",
          "09/2019",
          "10/2019",
          "11/2019",
          "12/2019",
          "01/2020",
          "02/2020",
          "03/2020",
          "04/2020",
          "05/2020",
          "06/2020",
          "07/2020",
          "08/2020",
          "09/2020",
          "10/2020",
          "11/2020",
          "12/2020",
          "01/2021",
          "02/2021",
          "03/2021",
          "04/2021",
          "05/2021",
          "06/2021",
          "07/2021",
          "08/2021",
          "09/2021",
          "10/2021",
          "11/2021",
          "12/2021",
          "01/2022",
          "02/2022",
          "03/2022",
          "04/2022",
          "05/2022",
          "06/2022",
          "07/2022",
          "08/2022",
          "09/2022",
          "10/2022",
          "11/2022",
          "12/2022",
          "01/2023",
          "02/2023",
          "03/2023",
          "04/2023",
          "05/2023",
          "06/2023",
          "07/2023",
          "08/2023",
          "09/2023",
          "10/2023",
          "11/2023",
          "12/2023",
          "01/2024",
          "02/2024",
          "03/2024",
          "04/2024",
          "05/2024",
          "06/2024",
          "07/2024",
          "08/2024",
          "09/2024",
          "10/2024",
          "11/2024",
          "12/2024",
          "01/2025",
          "02/2025"
         ],
         "xaxis": "x",
         "y": [
          7.6183e-09,
          8.1223e-09,
          8.4973e-09,
          9.0104e-09,
          9.4867e-09,
          1.00277e-08,
          1.05597e-08,
          1.11453e-08,
          1.16965e-08,
          1.21913e-08,
          1.33471e-08,
          1.42378e-08,
          1.51795e-08,
          1.62174e-08,
          1.72555e-08,
          1.81134e-08,
          1.92839e-08,
          2.0356e-08,
          2.14792e-08,
          2.28229e-08,
          2.40772e-08,
          2.53429e-08,
          2.66297e-08,
          2.80335e-08,
          2.96946e-08,
          3.17628e-08,
          3.38708e-08,
          3.58057e-08,
          3.79137e-08,
          4.04382e-08,
          4.33113e-08,
          4.6065e-08,
          4.88164e-08,
          5.12964e-08,
          5.35752e-08,
          5.64085e-08,
          6.08117e-08,
          6.60665e-08,
          7.12581e-08,
          7.64919e-08,
          8.15245e-08,
          8.68097e-08,
          9.53868e-08,
          1.050003e-07,
          1.145671e-07,
          1.263682e-07,
          1.375727e-07,
          1.477314e-07,
          1.605502e-07,
          1.760737e-07,
          1.92802e-07,
          2.100357e-07,
          2.300794e-07,
          2.509021e-07,
          2.761935e-07,
          3.030524e-07,
          3.313854e-07,
          3.703168e-07,
          4.089675e-07,
          4.520168e-07,
          5.061559e-07,
          5.656761e-07,
          6.271382e-07,
          6.908698e-07,
          7.474889e-07,
          8.01277e-07,
          8.693369e-07,
          9.589916e-07,
          1.0745459e-06,
          1.1940075e-06,
          1.3207687e-06,
          1.5053189e-06,
          1.7322163e-06,
          1.9811765e-06,
          2.233108e-06,
          2.3396314e-06,
          2.3578806e-06,
          2.3908694e-06,
          2.4212846e-06,
          2.462696e-06,
          2.5501983e-06,
          2.5939494e-06,
          2.6433156e-06,
          2.7874369e-06,
          3.1121777e-06,
          3.523251e-06,
          3.9684829e-06,
          4.6181985e-06,
          5.5002395e-06,
          6.6801157e-06,
          7.9968603e-06,
          8.7333762e-06,
          9.1587212e-06,
          9.871373e-06,
          1.09789545e-05,
          1.26344777e-05,
          1.44221901e-05,
          1.7146457e-05,
          1.98384369e-05,
          2.33301029e-05,
          2.7830389e-05,
          3.26783343e-05,
          3.98675537e-05,
          4.86025677e-05,
          5.90958147e-05,
          7.53176493e-05,
          9.46139936e-05,
          0.0001210492553,
          0.0001557904426,
          0.0002141963,
          0.0002501384201,
          0.0002671978428,
          0.0002894554586,
          0.0003413257896,
          0.0004391155989,
          0.0005609261703,
          0.0007500144816,
          0.001031719911,
          0.0014420348808,
          0.0021316159803,
          0.0032293981927,
          0.0054108567454,
          0.0095084984833,
          0.017342550351,
          0.0200341140678,
          0.0215547032441,
          0.0240873809519,
          0.027199470492,
          0.0307027623187,
          0.0351270304097,
          0.0401712720553,
          0.0469240627842,
          0.0555768600186,
          0.0671090584724,
          0.0810143888491,
          0.0906736471203,
          0.0951976035258,
          0.1022725378062,
          0.113715813284,
          0.1278267780427,
          0.1478066592194,
          0.1709099599291,
          0.2054843245466,
          0.2572875157699,
          0.3182886773263,
          0.4008536605699,
          0.4983410307284,
          0.6049874674181,
          0.7255614652283,
          0.9059361644186,
          1.0890285720637,
          1.3267641484791,
          1.6205100844213,
          2.0196408623306,
          2.5293973801068,
          3.0982598885128,
          3.88025965509,
          5.0579166458253,
          6.3213843084293,
          8.0445948724789,
          10.2769672819025,
          13.1226581300609,
          17.0686429798089,
          22.3121307612362,
          29.6662109364145,
          40.2540807309468,
          53.9082648348533,
          73.078046584524,
          100,
          141.31,
          198.22,
          282.96,
          403.73,
          581.49,
          857.29,
          915.93,
          932.97,
          947.24,
          972.06,
          999.37,
          1016.46,
          1033.74,
          1044.28,
          1060.47,
          1086.24,
          1115.24,
          1140.44,
          1167.35,
          1178.91,
          1190.58,
          1207.37,
          1225.12,
          1244.23,
          1260.9,
          1273.89,
          1278.35,
          1294.46,
          1310.25,
          1325.84,
          1340.56,
          1346.46,
          1348.48,
          1352.53,
          1356.86,
          1363.24,
          1379.33,
          1386.23,
          1393.3,
          1405.56,
          1411.32,
          1418.94,
          1422.06,
          1421.78,
          1422.63,
          1425.9,
          1428.32,
          1434.46,
          1444.64,
          1451.29,
          1456.22,
          1459.71,
          1467.01,
          1467.3,
          1465.54,
          1458.07,
          1454.86,
          1455.15,
          1453.4,
          1458.2,
          1468.41,
          1483.83,
          1500.15,
          1508.55,
          1513.08,
          1515.95,
          1532.47,
          1541.05,
          1545.83,
          1564.23,
          1579.09,
          1588.56,
          1598.41,
          1600.49,
          1604.01,
          1610.75,
          1610.91,
          1614.62,
          1640.62,
          1662.11,
          1665.93,
          1668.26,
          1673.6,
          1683.47,
          1693.07,
          1700.86,
          1707.32,
          1717.22,
          1724.26,
          1733.23,
          1756.28,
          1768.57,
          1773.52,
          1788.24,
          1800.94,
          1812.65,
          1822.08,
          1828.64,
          1839.61,
          1854.33,
          1858.22,
          1866.02,
          1888.23,
          1900.5,
          1914.18,
          1939.26,
          1997.83,
          2039.78,
          2085.68,
          2118.43,
          2144.49,
          2165.29,
          2178.5,
          2175.23,
          2179.58,
          2186.99,
          2204.05,
          2210.44,
          2217.96,
          2229.49,
          2246.43,
          2260.13,
          2270.75,
          2279.15,
          2290.77,
          2307.03,
          2328.02,
          2344.08,
          2351.82,
          2362.17,
          2378.47,
          2398.92,
          2412.83,
          2427.07,
          2441.87,
          2463.11,
          2475.18,
          2474.68,
          2480.87,
          2485.09,
          2493.79,
          2512.49,
          2526.31,
          2535.4,
          2550.36,
          2560.82,
          2571.83,
          2577.23,
          2579.81,
          2574.39,
          2579.28,
          2580.57,
          2585.99,
          2594.52,
          2602.56,
          2615.05,
          2626.56,
          2638.12,
          2647.88,
          2654.5,
          2661.93,
          2669.38,
          2675.79,
          2688.37,
          2693.21,
          2701.29,
          2711.55,
          2731.62,
          2746.37,
          2759.83,
          2773.08,
          2788.33,
          2810.36,
          2831.16,
          2846.16,
          2854.13,
          2861.55,
          2874.43,
          2884.78,
          2892.86,
          2906.74,
          2922.73,
          2928.57,
          2942.63,
          2956.46,
          2967.1,
          2974.22,
          2978.68,
          2985.83,
          2994.19,
          3006.47,
          3017.59,
          3040.22,
          3063.93,
          3079.86,
          3097.42,
          3110.74,
          3110.74,
          3111.05,
          3112.29,
          3126.29,
          3149.74,
          3175.88,
          3195.89,
          3222.42,
          3248.2,
          3273.86,
          3299.07,
          3314.58,
          3319.55,
          3324.86,
          3337.16,
          3354.85,
          3369.28,
          3386.8,
          3403.73,
          3422.79,
          3438.19,
          3445.41,
          3467.46,
          3479.94,
          3482.72,
          3497.7,
          3512.04,
          3532.06,
          3552.9,
          3574.22,
          3602.46,
          3633.44,
          3655.24,
          3672.42,
          3692.62,
          3706.28,
          3715.92,
          3717.03,
          3725.95,
          3738.99,
          3760.3,
          3780.61,
          3815.39,
          3836.37,
          3862.84,
          3898.38,
          3924.5,
          3942.55,
          3958.32,
          3958.72,
          3968.62,
          3991.24,
          4008,
          4028.44,
          4059.86,
          4110.2,
          4160.34,
          4215.26,
          4245.19,
          4276.6,
          4310.39,
          4337.11,
          4346.65,
          4370.12,
          4405.95,
          4450.45,
          4493.17,
          4550.23,
          4591.18,
          4610.92,
          4639.05,
          4675.23,
          4691.59,
          4715.99,
          4736.74,
          4740.53,
          4752.86,
          4761.42,
          4775.7,
          4793.85,
          4809.67,
          4821.69,
          4828.44,
          4843.41,
          4832.27,
          4843.87,
          4853.07,
          4860.83,
          4881.25,
          4894.92,
          4916.46,
          4930.72,
          4946.5,
          4950.95,
          4961.84,
          4981.69,
          5044.46,
          5061.11,
          5056.56,
          5080.83,
          5103.69,
          5092.97,
          5100.61,
          5116.93,
          5138.93,
          5177.47,
          5206.98,
          5213.75,
          5214.27,
          5224.18,
          5229.93,
          5227.84,
          5233.07,
          5259.76,
          5320.25,
          5331.42,
          5344.75,
          5348.49,
          5331.91,
          5311.65,
          5325.46,
          5344.63,
          5357.46,
          5391.75,
          5438.12,
          5486.52,
          5560.59,
          5574.49,
          5622.43,
          5674.72,
          5692.31,
          5739.56,
          5769.98,
          5825.37,
          5876.05,
          5944.21,
          6018.51,
          6075.69,
          6120.04,
          6153.09,
          6215.24,
          6315.93,
          6382.88,
          6412.88,
          6455.85,
          6411.95,
          6388.87,
          6370.34,
          6407.93,
          6434.2,
          6474.09,
          6508.4,
          6563.07,
          6609.67,
          6649.99,
          6665.28,
          6659.95,
          6667.94,
          6683.28,
          6700.66,
          6716.74,
          6735.55,
          6773.27,
          6801.72,
          6858.17,
          6869.14,
          6895.24,
          6926.96,
          6941.51,
          6967.89,
          6966.5,
          6997.15,
          7036.33,
          7063.77,
          7100.5,
          7111.86,
          7205.03
         ],
         "yaxis": "y"
        }
       ],
       "layout": {
        "autosize": true,
        "legend": {
         "tracegroupgap": 0
        },
        "template": {
         "data": {
          "bar": [
           {
            "error_x": {
             "color": "#2a3f5f"
            },
            "error_y": {
             "color": "#2a3f5f"
            },
            "marker": {
             "line": {
              "color": "#E5ECF6",
              "width": 0.5
             },
             "pattern": {
              "fillmode": "overlay",
              "size": 10,
              "solidity": 0.2
             }
            },
            "type": "bar"
           }
          ],
          "barpolar": [
           {
            "marker": {
             "line": {
              "color": "#E5ECF6",
              "width": 0.5
             },
             "pattern": {
              "fillmode": "overlay",
              "size": 10,
              "solidity": 0.2
             }
            },
            "type": "barpolar"
           }
          ],
          "carpet": [
           {
            "aaxis": {
             "endlinecolor": "#2a3f5f",
             "gridcolor": "white",
             "linecolor": "white",
             "minorgridcolor": "white",
             "startlinecolor": "#2a3f5f"
            },
            "baxis": {
             "endlinecolor": "#2a3f5f",
             "gridcolor": "white",
             "linecolor": "white",
             "minorgridcolor": "white",
             "startlinecolor": "#2a3f5f"
            },
            "type": "carpet"
           }
          ],
          "choropleth": [
           {
            "colorbar": {
             "outlinewidth": 0,
             "ticks": ""
            },
            "type": "choropleth"
           }
          ],
          "contour": [
           {
            "colorbar": {
             "outlinewidth": 0,
             "ticks": ""
            },
            "colorscale": [
             [
              0,
              "#0d0887"
             ],
             [
              0.1111111111111111,
              "#46039f"
             ],
             [
              0.2222222222222222,
              "#7201a8"
             ],
             [
              0.3333333333333333,
              "#9c179e"
             ],
             [
              0.4444444444444444,
              "#bd3786"
             ],
             [
              0.5555555555555556,
              "#d8576b"
             ],
             [
              0.6666666666666666,
              "#ed7953"
             ],
             [
              0.7777777777777778,
              "#fb9f3a"
             ],
             [
              0.8888888888888888,
              "#fdca26"
             ],
             [
              1,
              "#f0f921"
             ]
            ],
            "type": "contour"
           }
          ],
          "contourcarpet": [
           {
            "colorbar": {
             "outlinewidth": 0,
             "ticks": ""
            },
            "type": "contourcarpet"
           }
          ],
          "heatmap": [
           {
            "colorbar": {
             "outlinewidth": 0,
             "ticks": ""
            },
            "colorscale": [
             [
              0,
              "#0d0887"
             ],
             [
              0.1111111111111111,
              "#46039f"
             ],
             [
              0.2222222222222222,
              "#7201a8"
             ],
             [
              0.3333333333333333,
              "#9c179e"
             ],
             [
              0.4444444444444444,
              "#bd3786"
             ],
             [
              0.5555555555555556,
              "#d8576b"
             ],
             [
              0.6666666666666666,
              "#ed7953"
             ],
             [
              0.7777777777777778,
              "#fb9f3a"
             ],
             [
              0.8888888888888888,
              "#fdca26"
             ],
             [
              1,
              "#f0f921"
             ]
            ],
            "type": "heatmap"
           }
          ],
          "heatmapgl": [
           {
            "colorbar": {
             "outlinewidth": 0,
             "ticks": ""
            },
            "colorscale": [
             [
              0,
              "#0d0887"
             ],
             [
              0.1111111111111111,
              "#46039f"
             ],
             [
              0.2222222222222222,
              "#7201a8"
             ],
             [
              0.3333333333333333,
              "#9c179e"
             ],
             [
              0.4444444444444444,
              "#bd3786"
             ],
             [
              0.5555555555555556,
              "#d8576b"
             ],
             [
              0.6666666666666666,
              "#ed7953"
             ],
             [
              0.7777777777777778,
              "#fb9f3a"
             ],
             [
              0.8888888888888888,
              "#fdca26"
             ],
             [
              1,
              "#f0f921"
             ]
            ],
            "type": "heatmapgl"
           }
          ],
          "histogram": [
           {
            "marker": {
             "pattern": {
              "fillmode": "overlay",
              "size": 10,
              "solidity": 0.2
             }
            },
            "type": "histogram"
           }
          ],
          "histogram2d": [
           {
            "colorbar": {
             "outlinewidth": 0,
             "ticks": ""
            },
            "colorscale": [
             [
              0,
              "#0d0887"
             ],
             [
              0.1111111111111111,
              "#46039f"
             ],
             [
              0.2222222222222222,
              "#7201a8"
             ],
             [
              0.3333333333333333,
              "#9c179e"
             ],
             [
              0.4444444444444444,
              "#bd3786"
             ],
             [
              0.5555555555555556,
              "#d8576b"
             ],
             [
              0.6666666666666666,
              "#ed7953"
             ],
             [
              0.7777777777777778,
              "#fb9f3a"
             ],
             [
              0.8888888888888888,
              "#fdca26"
             ],
             [
              1,
              "#f0f921"
             ]
            ],
            "type": "histogram2d"
           }
          ],
          "histogram2dcontour": [
           {
            "colorbar": {
             "outlinewidth": 0,
             "ticks": ""
            },
            "colorscale": [
             [
              0,
              "#0d0887"
             ],
             [
              0.1111111111111111,
              "#46039f"
             ],
             [
              0.2222222222222222,
              "#7201a8"
             ],
             [
              0.3333333333333333,
              "#9c179e"
             ],
             [
              0.4444444444444444,
              "#bd3786"
             ],
             [
              0.5555555555555556,
              "#d8576b"
             ],
             [
              0.6666666666666666,
              "#ed7953"
             ],
             [
              0.7777777777777778,
              "#fb9f3a"
             ],
             [
              0.8888888888888888,
              "#fdca26"
             ],
             [
              1,
              "#f0f921"
             ]
            ],
            "type": "histogram2dcontour"
           }
          ],
          "mesh3d": [
           {
            "colorbar": {
             "outlinewidth": 0,
             "ticks": ""
            },
            "type": "mesh3d"
           }
          ],
          "parcoords": [
           {
            "line": {
             "colorbar": {
              "outlinewidth": 0,
              "ticks": ""
             }
            },
            "type": "parcoords"
           }
          ],
          "pie": [
           {
            "automargin": true,
            "type": "pie"
           }
          ],
          "scatter": [
           {
            "fillpattern": {
             "fillmode": "overlay",
             "size": 10,
             "solidity": 0.2
            },
            "type": "scatter"
           }
          ],
          "scatter3d": [
           {
            "line": {
             "colorbar": {
              "outlinewidth": 0,
              "ticks": ""
             }
            },
            "marker": {
             "colorbar": {
              "outlinewidth": 0,
              "ticks": ""
             }
            },
            "type": "scatter3d"
           }
          ],
          "scattercarpet": [
           {
            "marker": {
             "colorbar": {
              "outlinewidth": 0,
              "ticks": ""
             }
            },
            "type": "scattercarpet"
           }
          ],
          "scattergeo": [
           {
            "marker": {
             "colorbar": {
              "outlinewidth": 0,
              "ticks": ""
             }
            },
            "type": "scattergeo"
           }
          ],
          "scattergl": [
           {
            "marker": {
             "colorbar": {
              "outlinewidth": 0,
              "ticks": ""
             }
            },
            "type": "scattergl"
           }
          ],
          "scattermapbox": [
           {
            "marker": {
             "colorbar": {
              "outlinewidth": 0,
              "ticks": ""
             }
            },
            "type": "scattermapbox"
           }
          ],
          "scatterpolar": [
           {
            "marker": {
             "colorbar": {
              "outlinewidth": 0,
              "ticks": ""
             }
            },
            "type": "scatterpolar"
           }
          ],
          "scatterpolargl": [
           {
            "marker": {
             "colorbar": {
              "outlinewidth": 0,
              "ticks": ""
             }
            },
            "type": "scatterpolargl"
           }
          ],
          "scatterternary": [
           {
            "marker": {
             "colorbar": {
              "outlinewidth": 0,
              "ticks": ""
             }
            },
            "type": "scatterternary"
           }
          ],
          "surface": [
           {
            "colorbar": {
             "outlinewidth": 0,
             "ticks": ""
            },
            "colorscale": [
             [
              0,
              "#0d0887"
             ],
             [
              0.1111111111111111,
              "#46039f"
             ],
             [
              0.2222222222222222,
              "#7201a8"
             ],
             [
              0.3333333333333333,
              "#9c179e"
             ],
             [
              0.4444444444444444,
              "#bd3786"
             ],
             [
              0.5555555555555556,
              "#d8576b"
             ],
             [
              0.6666666666666666,
              "#ed7953"
             ],
             [
              0.7777777777777778,
              "#fb9f3a"
             ],
             [
              0.8888888888888888,
              "#fdca26"
             ],
             [
              1,
              "#f0f921"
             ]
            ],
            "type": "surface"
           }
          ],
          "table": [
           {
            "cells": {
             "fill": {
              "color": "#EBF0F8"
             },
             "line": {
              "color": "white"
             }
            },
            "header": {
             "fill": {
              "color": "#C8D4E3"
             },
             "line": {
              "color": "white"
             }
            },
            "type": "table"
           }
          ]
         },
         "layout": {
          "annotationdefaults": {
           "arrowcolor": "#2a3f5f",
           "arrowhead": 0,
           "arrowwidth": 1
          },
          "autotypenumbers": "strict",
          "coloraxis": {
           "colorbar": {
            "outlinewidth": 0,
            "ticks": ""
           }
          },
          "colorscale": {
           "diverging": [
            [
             0,
             "#8e0152"
            ],
            [
             0.1,
             "#c51b7d"
            ],
            [
             0.2,
             "#de77ae"
            ],
            [
             0.3,
             "#f1b6da"
            ],
            [
             0.4,
             "#fde0ef"
            ],
            [
             0.5,
             "#f7f7f7"
            ],
            [
             0.6,
             "#e6f5d0"
            ],
            [
             0.7,
             "#b8e186"
            ],
            [
             0.8,
             "#7fbc41"
            ],
            [
             0.9,
             "#4d9221"
            ],
            [
             1,
             "#276419"
            ]
           ],
           "sequential": [
            [
             0,
             "#0d0887"
            ],
            [
             0.1111111111111111,
             "#46039f"
            ],
            [
             0.2222222222222222,
             "#7201a8"
            ],
            [
             0.3333333333333333,
             "#9c179e"
            ],
            [
             0.4444444444444444,
             "#bd3786"
            ],
            [
             0.5555555555555556,
             "#d8576b"
            ],
            [
             0.6666666666666666,
             "#ed7953"
            ],
            [
             0.7777777777777778,
             "#fb9f3a"
            ],
            [
             0.8888888888888888,
             "#fdca26"
            ],
            [
             1,
             "#f0f921"
            ]
           ],
           "sequentialminus": [
            [
             0,
             "#0d0887"
            ],
            [
             0.1111111111111111,
             "#46039f"
            ],
            [
             0.2222222222222222,
             "#7201a8"
            ],
            [
             0.3333333333333333,
             "#9c179e"
            ],
            [
             0.4444444444444444,
             "#bd3786"
            ],
            [
             0.5555555555555556,
             "#d8576b"
            ],
            [
             0.6666666666666666,
             "#ed7953"
            ],
            [
             0.7777777777777778,
             "#fb9f3a"
            ],
            [
             0.8888888888888888,
             "#fdca26"
            ],
            [
             1,
             "#f0f921"
            ]
           ]
          },
          "colorway": [
           "#636efa",
           "#EF553B",
           "#00cc96",
           "#ab63fa",
           "#FFA15A",
           "#19d3f3",
           "#FF6692",
           "#B6E880",
           "#FF97FF",
           "#FECB52"
          ],
          "font": {
           "color": "#2a3f5f"
          },
          "geo": {
           "bgcolor": "white",
           "lakecolor": "white",
           "landcolor": "#E5ECF6",
           "showlakes": true,
           "showland": true,
           "subunitcolor": "white"
          },
          "hoverlabel": {
           "align": "left"
          },
          "hovermode": "closest",
          "mapbox": {
           "style": "light"
          },
          "paper_bgcolor": "white",
          "plot_bgcolor": "#E5ECF6",
          "polar": {
           "angularaxis": {
            "gridcolor": "white",
            "linecolor": "white",
            "ticks": ""
           },
           "bgcolor": "#E5ECF6",
           "radialaxis": {
            "gridcolor": "white",
            "linecolor": "white",
            "ticks": ""
           }
          },
          "scene": {
           "xaxis": {
            "backgroundcolor": "#E5ECF6",
            "gridcolor": "white",
            "gridwidth": 2,
            "linecolor": "white",
            "showbackground": true,
            "ticks": "",
            "zerolinecolor": "white"
           },
           "yaxis": {
            "backgroundcolor": "#E5ECF6",
            "gridcolor": "white",
            "gridwidth": 2,
            "linecolor": "white",
            "showbackground": true,
            "ticks": "",
            "zerolinecolor": "white"
           },
           "zaxis": {
            "backgroundcolor": "#E5ECF6",
            "gridcolor": "white",
            "gridwidth": 2,
            "linecolor": "white",
            "showbackground": true,
            "ticks": "",
            "zerolinecolor": "white"
           }
          },
          "shapedefaults": {
           "line": {
            "color": "#2a3f5f"
           }
          },
          "ternary": {
           "aaxis": {
            "gridcolor": "white",
            "linecolor": "white",
            "ticks": ""
           },
           "baxis": {
            "gridcolor": "white",
            "linecolor": "white",
            "ticks": ""
           },
           "bgcolor": "#E5ECF6",
           "caxis": {
            "gridcolor": "white",
            "linecolor": "white",
            "ticks": ""
           }
          },
          "title": {
           "x": 0.05
          },
          "xaxis": {
           "automargin": true,
           "gridcolor": "white",
           "linecolor": "white",
           "ticks": "",
           "title": {
            "standoff": 15
           },
           "zerolinecolor": "white",
           "zerolinewidth": 2
          },
          "yaxis": {
           "automargin": true,
           "gridcolor": "white",
           "linecolor": "white",
           "ticks": "",
           "title": {
            "standoff": 15
           },
           "zerolinecolor": "white",
           "zerolinewidth": 2
          }
         }
        },
        "title": {
         "text": "Índice nacional de preços ao consumidor amplo (IPCA) geral: índice (dez. 1993 = 100)"
        },
        "xaxis": {
         "anchor": "y",
         "autorange": true,
         "domain": [
          0,
          1
         ],
         "range": [
          0,
          542
         ],
         "title": {
          "text": "mes_ano"
         },
         "type": "category"
        },
        "yaxis": {
         "anchor": "x",
         "autorange": true,
         "domain": [
          0,
          1
         ],
         "range": [
          -400.27944443640285,
          7605.309444444021
         ],
         "title": {
          "text": "VALUE (-)"
         },
         "type": "linear"
        }
       }
      },
      "image/png": "[encoded data removed]",
      "text/html": [
       "<div>                            <div id=\"9edd1e01-bd91-4d6a-992a-140c61100f83\" class=\"plotly-graph-div\" style=\"height:525px; width:100%;\"></div>            <script type=\"text/javascript\">                require([\"plotly\"], function(Plotly) {                    window.PLOTLYENV=window.PLOTLYENV || {};                                    if (document.getElementById(\"9edd1e01-bd91-4d6a-992a-140c61100f83\")) {                    Plotly.newPlot(                        \"9edd1e01-bd91-4d6a-992a-140c61100f83\",                        [{\"hovertemplate\":\"mes_ano=%{x}\\u003cbr\\u003eVALUE (-)=%{y}\\u003cextra\\u003e\\u003c\\u002fextra\\u003e\",\"legendgroup\":\"\",\"line\":{\"color\":\"#636efa\",\"dash\":\"solid\"},\"marker\":{\"symbol\":\"circle\"},\"mode\":\"lines\",\"name\":\"\",\"orientation\":\"v\",\"showlegend\":false,\"x\":[\"12\\u002f1979\",\"01\\u002f1980\",\"02\\u002f1980\",\"03\\u002f1980\",\"04\\u002f1980\",\"05\\u002f1980\",\"06\\u002f1980\",\"07\\u002f1980\",\"08\\u002f1980\",\"09\\u002f1980\",\"10\\u002f1980\",\"11\\u002f1980\",\"12\\u002f1980\",\"01\\u002f1981\",\"02\\u002f1981\",\"03\\u002f1981\",\"04\\u002f1981\",\"05\\u002f1981\",\"06\\u002f1981\",\"07\\u002f1981\",\"08\\u002f1981\",\"09\\u002f1981\",\"10\\u002f1981\",\"11\\u002f1981\",\"12\\u002f1981\",\"01\\u002f1982\",\"02\\u002f1982\",\"03\\u002f1982\",\"04\\u002f1982\",\"05\\u002f1982\",\"06\\u002f1982\",\"07\\u002f1982\",\"08\\u002f1982\",\"09\\u002f1982\",\"10\\u002f1982\",\"11\\u002f1982\",\"12\\u002f1982\",\"01\\u002f1983\",\"02\\u002f1983\",\"03\\u002f1983\",\"04\\u002f1983\",\"05\\u002f1983\",\"06\\u002f1983\",\"07\\u002f1983\",\"08\\u002f1983\",\"09\\u002f1983\",\"10\\u002f1983\",\"11\\u002f1983\",\"12\\u002f1983\",\"01\\u002f1984\",\"02\\u002f1984\",\"03\\u002f1984\",\"04\\u002f1984\",\"05\\u002f1984\",\"06\\u002f1984\",\"07\\u002f1984\",\"08\\u002f1984\",\"09\\u002f1984\",\"10\\u002f1984\",\"11\\u002f1984\",\"12\\u002f1984\",\"01\\u002f1985\",\"02\\u002f1985\",\"03\\u002f1985\",\"04\\u002f1985\",\"05\\u002f1985\",\"06\\u002f1985\",\"07\\u002f1985\",\"08\\u002f1985\",\"09\\u002f1985\",\"10\\u002f1985\",\"11\\u002f1985\",\"12\\u002f1985\",\"01\\u002f1986\",\"02\\u002f1986\",\"03\\u002f1986\",\"04\\u002f1986\",\"05\\u002f1986\",\"06\\u002f1986\",\"07\\u002f1986\",\"08\\u002f1986\",\"09\\u002f1986\",\"10\\u002f1986\",\"11\\u002f1986\",\"12\\u002f1986\",\"01\\u002f1987\",\"02\\u002f1987\",\"03\\u002f1987\",\"04\\u002f1987\",\"05\\u002f1987\",\"06\\u002f1987\",\"07\\u002f1987\",\"08\\u002f1987\",\"09\\u002f1987\",\"10\\u002f1987\",\"11\\u002f1987\",\"12\\u002f1987\",\"01\\u002f1988\",\"02\\u002f1988\",\"03\\u002f1988\",\"04\\u002f1988\",\"05\\u002f1988\",\"06\\u002f1988\",\"07\\u002f1988\",\"08\\u002f1988\",\"09\\u002f1988\",\"10\\u002f1988\",\"11\\u002f1988\",\"12\\u002f1988\",\"01\\u002f1989\",\"02\\u002f1989\",\"03\\u002f1989\",\"04\\u002f1989\",\"05\\u002f1989\",\"06\\u002f1989\",\"07\\u002f1989\",\"08\\u002f1989\",\"09\\u002f1989\",\"10\\u002f1989\",\"11\\u002f1989\",\"12\\u002f1989\",\"01\\u002f1990\",\"02\\u002f1990\",\"03\\u002f1990\",\"04\\u002f1990\",\"05\\u002f1990\",\"06\\u002f1990\",\"07\\u002f1990\",\"08\\u002f1990\",\"09\\u002f1990\",\"10\\u002f1990\",\"11\\u002f1990\",\"12\\u002f1990\",\"01\\u002f1991\",\"02\\u002f1991\",\"03\\u002f1991\",\"04\\u002f1991\",\"05\\u002f1991\",\"06\\u002f1991\",\"07\\u002f1991\",\"08\\u002f1991\",\"09\\u002f1991\",\"10\\u002f1991\",\"11\\u002f1991\",\"12\\u002f1991\",\"01\\u002f1992\",\"02\\u002f1992\",\"03\\u002f1992\",\"04\\u002f1992\",\"05\\u002f1992\",\"06\\u002f1992\",\"07\\u002f1992\",\"08\\u002f1992\",\"09\\u002f1992\",\"10\\u002f1992\",\"11\\u002f1992\",\"12\\u002f1992\",\"01\\u002f1993\",\"02\\u002f1993\",\"03\\u002f1993\",\"04\\u002f1993\",\"05\\u002f1993\",\"06\\u002f1993\",\"07\\u002f1993\",\"08\\u002f1993\",\"09\\u002f1993\",\"10\\u002f1993\",\"11\\u002f1993\",\"12\\u002f1993\",\"01\\u002f1994\",\"02\\u002f1994\",\"03\\u002f1994\",\"04\\u002f1994\",\"05\\u002f1994\",\"06\\u002f1994\",\"07\\u002f1994\",\"08\\u002f1994\",\"09\\u002f1994\",\"10\\u002f1994\",\"11\\u002f1994\",\"12\\u002f1994\",\"01\\u002f1995\",\"02\\u002f1995\",\"03\\u002f1995\",\"04\\u002f1995\",\"05\\u002f1995\",\"06\\u002f1995\",\"07\\u002f1995\",\"08\\u002f1995\",\"09\\u002f1995\",\"10\\u002f1995\",\"11\\u002f1995\",\"12\\u002f1995\",\"01\\u002f1996\",\"02\\u002f1996\",\"03\\u002f1996\",\"04\\u002f1996\",\"05\\u002f1996\",\"06\\u002f1996\",\"07\\u002f1996\",\"08\\u002f1996\",\"09\\u002f1996\",\"10\\u002f1996\",\"11\\u002f1996\",\"12\\u002f1996\",\"01\\u002f1997\",\"02\\u002f1997\",\"03\\u002f1997\",\"04\\u002f1997\",\"05\\u002f1997\",\"06\\u002f1997\",\"07\\u002f1997\",\"08\\u002f1997\",\"09\\u002f1997\",\"10\\u002f1997\",\"11\\u002f1997\",\"12\\u002f1997\",\"01\\u002f1998\",\"02\\u002f1998\",\"03\\u002f1998\",\"04\\u002f1998\",\"05\\u002f1998\",\"06\\u002f1998\",\"07\\u002f1998\",\"08\\u002f1998\",\"09\\u002f1998\",\"10\\u002f1998\",\"11\\u002f1998\",\"12\\u002f1998\",\"01\\u002f1999\",\"02\\u002f1999\",\"03\\u002f1999\",\"04\\u002f1999\",\"05\\u002f1999\",\"06\\u002f1999\",\"07\\u002f1999\",\"08\\u002f1999\",\"09\\u002f1999\",\"10\\u002f1999\",\"11\\u002f1999\",\"12\\u002f1999\",\"01\\u002f2000\",\"02\\u002f2000\",\"03\\u002f2000\",\"04\\u002f2000\",\"05\\u002f2000\",\"06\\u002f2000\",\"07\\u002f2000\",\"08\\u002f2000\",\"09\\u002f2000\",\"10\\u002f2000\",\"11\\u002f2000\",\"12\\u002f2000\",\"01\\u002f2001\",\"02\\u002f2001\",\"03\\u002f2001\",\"04\\u002f2001\",\"05\\u002f2001\",\"06\\u002f2001\",\"07\\u002f2001\",\"08\\u002f2001\",\"09\\u002f2001\",\"10\\u002f2001\",\"11\\u002f2001\",\"12\\u002f2001\",\"01\\u002f2002\",\"02\\u002f2002\",\"03\\u002f2002\",\"04\\u002f2002\",\"05\\u002f2002\",\"06\\u002f2002\",\"07\\u002f2002\",\"08\\u002f2002\",\"09\\u002f2002\",\"10\\u002f2002\",\"11\\u002f2002\",\"12\\u002f2002\",\"01\\u002f2003\",\"02\\u002f2003\",\"03\\u002f2003\",\"04\\u002f2003\",\"05\\u002f2003\",\"06\\u002f2003\",\"07\\u002f2003\",\"08\\u002f2003\",\"09\\u002f2003\",\"10\\u002f2003\",\"11\\u002f2003\",\"12\\u002f2003\",\"01\\u002f2004\",\"02\\u002f2004\",\"03\\u002f2004\",\"04\\u002f2004\",\"05\\u002f2004\",\"06\\u002f2004\",\"07\\u002f2004\",\"08\\u002f2004\",\"09\\u002f2004\",\"10\\u002f2004\",\"11\\u002f2004\",\"12\\u002f2004\",\"01\\u002f2005\",\"02\\u002f2005\",\"03\\u002f2005\",\"04\\u002f2005\",\"05\\u002f2005\",\"06\\u002f2005\",\"07\\u002f2005\",\"08\\u002f2005\",\"09\\u002f2005\",\"10\\u002f2005\",\"11\\u002f2005\",\"12\\u002f2005\",\"01\\u002f2006\",\"02\\u002f2006\",\"03\\u002f2006\",\"04\\u002f2006\",\"05\\u002f2006\",\"06\\u002f2006\",\"07\\u002f2006\",\"08\\u002f2006\",\"09\\u002f2006\",\"10\\u002f2006\",\"11\\u002f2006\",\"12\\u002f2006\",\"01\\u002f2007\",\"02\\u002f2007\",\"03\\u002f2007\",\"04\\u002f2007\",\"05\\u002f2007\",\"06\\u002f2007\",\"07\\u002f2007\",\"08\\u002f2007\",\"09\\u002f2007\",\"10\\u002f2007\",\"11\\u002f2007\",\"12\\u002f2007\",\"01\\u002f2008\",\"02\\u002f2008\",\"03\\u002f2008\",\"04\\u002f2008\",\"05\\u002f2008\",\"06\\u002f2008\",\"07\\u002f2008\",\"08\\u002f2008\",\"09\\u002f2008\",\"10\\u002f2008\",\"11\\u002f2008\",\"12\\u002f2008\",\"01\\u002f2009\",\"02\\u002f2009\",\"03\\u002f2009\",\"04\\u002f2009\",\"05\\u002f2009\",\"06\\u002f2009\",\"07\\u002f2009\",\"08\\u002f2009\",\"09\\u002f2009\",\"10\\u002f2009\",\"11\\u002f2009\",\"12\\u002f2009\",\"01\\u002f2010\",\"02\\u002f2010\",\"03\\u002f2010\",\"04\\u002f2010\",\"05\\u002f2010\",\"06\\u002f2010\",\"07\\u002f2010\",\"08\\u002f2010\",\"09\\u002f2010\",\"10\\u002f2010\",\"11\\u002f2010\",\"12\\u002f2010\",\"01\\u002f2011\",\"02\\u002f2011\",\"03\\u002f2011\",\"04\\u002f2011\",\"05\\u002f2011\",\"06\\u002f2011\",\"07\\u002f2011\",\"08\\u002f2011\",\"09\\u002f2011\",\"10\\u002f2011\",\"11\\u002f2011\",\"12\\u002f2011\",\"01\\u002f2012\",\"02\\u002f2012\",\"03\\u002f2012\",\"04\\u002f2012\",\"05\\u002f2012\",\"06\\u002f2012\",\"07\\u002f2012\",\"08\\u002f2012\",\"09\\u002f2012\",\"10\\u002f2012\",\"11\\u002f2012\",\"12\\u002f2012\",\"01\\u002f2013\",\"02\\u002f2013\",\"03\\u002f2013\",\"04\\u002f2013\",\"05\\u002f2013\",\"06\\u002f2013\",\"07\\u002f2013\",\"08\\u002f2013\",\"09\\u002f2013\",\"10\\u002f2013\",\"11\\u002f2013\",\"12\\u002f2013\",\"01\\u002f2014\",\"02\\u002f2014\",\"03\\u002f2014\",\"04\\u002f2014\",\"05\\u002f2014\",\"06\\u002f2014\",\"07\\u002f2014\",\"08\\u002f2014\",\"09\\u002f2014\",\"10\\u002f2014\",\"11\\u002f2014\",\"12\\u002f2014\",\"01\\u002f2015\",\"02\\u002f2015\",\"03\\u002f2015\",\"04\\u002f2015\",\"05\\u002f2015\",\"06\\u002f2015\",\"07\\u002f2015\",\"08\\u002f2015\",\"09\\u002f2015\",\"10\\u002f2015\",\"11\\u002f2015\",\"12\\u002f2015\",\"01\\u002f2016\",\"02\\u002f2016\",\"03\\u002f2016\",\"04\\u002f2016\",\"05\\u002f2016\",\"06\\u002f2016\",\"07\\u002f2016\",\"08\\u002f2016\",\"09\\u002f2016\",\"10\\u002f2016\",\"11\\u002f2016\",\"12\\u002f2016\",\"01\\u002f2017\",\"02\\u002f2017\",\"03\\u002f2017\",\"04\\u002f2017\",\"05\\u002f2017\",\"06\\u002f2017\",\"07\\u002f2017\",\"08\\u002f2017\",\"09\\u002f2017\",\"10\\u002f2017\",\"11\\u002f2017\",\"12\\u002f2017\",\"01\\u002f2018\",\"02\\u002f2018\",\"03\\u002f2018\",\"04\\u002f2018\",\"05\\u002f2018\",\"06\\u002f2018\",\"07\\u002f2018\",\"08\\u002f2018\",\"09\\u002f2018\",\"10\\u002f2018\",\"11\\u002f2018\",\"12\\u002f2018\",\"01\\u002f2019\",\"02\\u002f2019\",\"03\\u002f2019\",\"04\\u002f2019\",\"05\\u002f2019\",\"06\\u002f2019\",\"07\\u002f2019\",\"08\\u002f2019\",\"09\\u002f2019\",\"10\\u002f2019\",\"11\\u002f2019\",\"12\\u002f2019\",\"01\\u002f2020\",\"02\\u002f2020\",\"03\\u002f2020\",\"04\\u002f2020\",\"05\\u002f2020\",\"06\\u002f2020\",\"07\\u002f2020\",\"08\\u002f2020\",\"09\\u002f2020\",\"10\\u002f2020\",\"11\\u002f2020\",\"12\\u002f2020\",\"01\\u002f2021\",\"02\\u002f2021\",\"03\\u002f2021\",\"04\\u002f2021\",\"05\\u002f2021\",\"06\\u002f2021\",\"07\\u002f2021\",\"08\\u002f2021\",\"09\\u002f2021\",\"10\\u002f2021\",\"11\\u002f2021\",\"12\\u002f2021\",\"01\\u002f2022\",\"02\\u002f2022\",\"03\\u002f2022\",\"04\\u002f2022\",\"05\\u002f2022\",\"06\\u002f2022\",\"07\\u002f2022\",\"08\\u002f2022\",\"09\\u002f2022\",\"10\\u002f2022\",\"11\\u002f2022\",\"12\\u002f2022\",\"01\\u002f2023\",\"02\\u002f2023\",\"03\\u002f2023\",\"04\\u002f2023\",\"05\\u002f2023\",\"06\\u002f2023\",\"07\\u002f2023\",\"08\\u002f2023\",\"09\\u002f2023\",\"10\\u002f2023\",\"11\\u002f2023\",\"12\\u002f2023\",\"01\\u002f2024\",\"02\\u002f2024\",\"03\\u002f2024\",\"04\\u002f2024\",\"05\\u002f2024\",\"06\\u002f2024\",\"07\\u002f2024\",\"08\\u002f2024\",\"09\\u002f2024\",\"10\\u002f2024\",\"11\\u002f2024\",\"12\\u002f2024\",\"01\\u002f2025\",\"02\\u002f2025\"],\"xaxis\":\"x\",\"y\":[7.6183e-09,8.1223e-09,8.4973e-09,9.0104e-09,9.4867e-09,1.00277e-08,1.05597e-08,1.11453e-08,1.16965e-08,1.21913e-08,1.33471e-08,1.42378e-08,1.51795e-08,1.62174e-08,1.72555e-08,1.81134e-08,1.92839e-08,2.0356e-08,2.14792e-08,2.28229e-08,2.40772e-08,2.53429e-08,2.66297e-08,2.80335e-08,2.96946e-08,3.17628e-08,3.38708e-08,3.58057e-08,3.79137e-08,4.04382e-08,4.33113e-08,4.6065e-08,4.88164e-08,5.12964e-08,5.35752e-08,5.64085e-08,6.08117e-08,6.60665e-08,7.12581e-08,7.64919e-08,8.15245e-08,8.68097e-08,9.53868e-08,1.050003e-07,1.145671e-07,1.263682e-07,1.375727e-07,1.477314e-07,1.605502e-07,1.760737e-07,1.92802e-07,2.100357e-07,2.300794e-07,2.509021e-07,2.761935e-07,3.030524e-07,3.313854e-07,3.703168e-07,4.089675e-07,4.520168e-07,5.061559e-07,5.656761e-07,6.271382e-07,6.908698e-07,7.474889e-07,8.01277e-07,8.693369e-07,9.589916e-07,1.0745459e-06,1.1940075e-06,1.3207687e-06,1.5053189e-06,1.7322163e-06,1.9811765e-06,2.233108e-06,2.3396314e-06,2.3578806e-06,2.3908694e-06,2.4212846e-06,2.462696e-06,2.5501983e-06,2.5939494e-06,2.6433156e-06,2.7874369e-06,3.1121777e-06,3.523251e-06,3.9684829e-06,4.6181985e-06,5.5002395e-06,6.6801157e-06,7.9968603e-06,8.7333762e-06,9.1587212e-06,9.871373e-06,1.09789545e-05,1.26344777e-05,1.44221901e-05,1.7146457e-05,1.98384369e-05,2.33301029e-05,2.7830389e-05,3.26783343e-05,3.98675537e-05,4.86025677e-05,5.90958147e-05,7.53176493e-05,9.46139936e-05,0.0001210492553,0.0001557904426,0.0002141963,0.0002501384201,0.0002671978428,0.0002894554586,0.0003413257896,0.0004391155989,0.0005609261703,0.0007500144816,0.001031719911,0.0014420348808,0.0021316159803,0.0032293981927,0.0054108567454,0.0095084984833,0.017342550351,0.0200341140678,0.0215547032441,0.0240873809519,0.027199470492,0.0307027623187,0.0351270304097,0.0401712720553,0.0469240627842,0.0555768600186,0.0671090584724,0.0810143888491,0.0906736471203,0.0951976035258,0.1022725378062,0.113715813284,0.1278267780427,0.1478066592194,0.1709099599291,0.2054843245466,0.2572875157699,0.3182886773263,0.4008536605699,0.4983410307284,0.6049874674181,0.7255614652283,0.9059361644186,1.0890285720637,1.3267641484791,1.6205100844213,2.0196408623306,2.5293973801068,3.0982598885128,3.88025965509,5.0579166458253,6.3213843084293,8.0445948724789,10.2769672819025,13.1226581300609,17.0686429798089,22.3121307612362,29.6662109364145,40.2540807309468,53.9082648348533,73.078046584524,100.0,141.31,198.22,282.96,403.73,581.49,857.29,915.93,932.97,947.24,972.06,999.37,1016.46,1033.74,1044.28,1060.47,1086.24,1115.24,1140.44,1167.35,1178.91,1190.58,1207.37,1225.12,1244.23,1260.9,1273.89,1278.35,1294.46,1310.25,1325.84,1340.56,1346.46,1348.48,1352.53,1356.86,1363.24,1379.33,1386.23,1393.3,1405.56,1411.32,1418.94,1422.06,1421.78,1422.63,1425.9,1428.32,1434.46,1444.64,1451.29,1456.22,1459.71,1467.01,1467.3,1465.54,1458.07,1454.86,1455.15,1453.4,1458.2,1468.41,1483.83,1500.15,1508.55,1513.08,1515.95,1532.47,1541.05,1545.83,1564.23,1579.09,1588.56,1598.41,1600.49,1604.01,1610.75,1610.91,1614.62,1640.62,1662.11,1665.93,1668.26,1673.6,1683.47,1693.07,1700.86,1707.32,1717.22,1724.26,1733.23,1756.28,1768.57,1773.52,1788.24,1800.94,1812.65,1822.08,1828.64,1839.61,1854.33,1858.22,1866.02,1888.23,1900.5,1914.18,1939.26,1997.83,2039.78,2085.68,2118.43,2144.49,2165.29,2178.5,2175.23,2179.58,2186.99,2204.05,2210.44,2217.96,2229.49,2246.43,2260.13,2270.75,2279.15,2290.77,2307.03,2328.02,2344.08,2351.82,2362.17,2378.47,2398.92,2412.83,2427.07,2441.87,2463.11,2475.18,2474.68,2480.87,2485.09,2493.79,2512.49,2526.31,2535.4,2550.36,2560.82,2571.83,2577.23,2579.81,2574.39,2579.28,2580.57,2585.99,2594.52,2602.56,2615.05,2626.56,2638.12,2647.88,2654.5,2661.93,2669.38,2675.79,2688.37,2693.21,2701.29,2711.55,2731.62,2746.37,2759.83,2773.08,2788.33,2810.36,2831.16,2846.16,2854.13,2861.55,2874.43,2884.78,2892.86,2906.74,2922.73,2928.57,2942.63,2956.46,2967.1,2974.22,2978.68,2985.83,2994.19,3006.47,3017.59,3040.22,3063.93,3079.86,3097.42,3110.74,3110.74,3111.05,3112.29,3126.29,3149.74,3175.88,3195.89,3222.42,3248.2,3273.86,3299.07,3314.58,3319.55,3324.86,3337.16,3354.85,3369.28,3386.8,3403.73,3422.79,3438.19,3445.41,3467.46,3479.94,3482.72,3497.7,3512.04,3532.06,3552.9,3574.22,3602.46,3633.44,3655.24,3672.42,3692.62,3706.28,3715.92,3717.03,3725.95,3738.99,3760.3,3780.61,3815.39,3836.37,3862.84,3898.38,3924.5,3942.55,3958.32,3958.72,3968.62,3991.24,4008.0,4028.44,4059.86,4110.2,4160.34,4215.26,4245.19,4276.6,4310.39,4337.11,4346.65,4370.12,4405.95,4450.45,4493.17,4550.23,4591.18,4610.92,4639.05,4675.23,4691.59,4715.99,4736.74,4740.53,4752.86,4761.42,4775.7,4793.85,4809.67,4821.69,4828.44,4843.41,4832.27,4843.87,4853.07,4860.83,4881.25,4894.92,4916.46,4930.72,4946.5,4950.95,4961.84,4981.69,5044.46,5061.11,5056.56,5080.83,5103.69,5092.97,5100.61,5116.93,5138.93,5177.47,5206.98,5213.75,5214.27,5224.18,5229.93,5227.84,5233.07,5259.76,5320.25,5331.42,5344.75,5348.49,5331.91,5311.65,5325.46,5344.63,5357.46,5391.75,5438.12,5486.52,5560.59,5574.49,5622.43,5674.72,5692.31,5739.56,5769.98,5825.37,5876.05,5944.21,6018.51,6075.69,6120.04,6153.09,6215.24,6315.93,6382.88,6412.88,6455.85,6411.95,6388.87,6370.34,6407.93,6434.2,6474.09,6508.4,6563.07,6609.67,6649.99,6665.28,6659.95,6667.94,6683.28,6700.66,6716.74,6735.55,6773.27,6801.72,6858.17,6869.14,6895.24,6926.96,6941.51,6967.89,6966.5,6997.15,7036.33,7063.77,7100.5,7111.86,7205.03],\"yaxis\":\"y\",\"type\":\"scatter\"}],                        {\"template\":{\"data\":{\"histogram2dcontour\":[{\"type\":\"histogram2dcontour\",\"colorbar\":{\"outlinewidth\":0,\"ticks\":\"\"},\"colorscale\":[[0.0,\"#0d0887\"],[0.1111111111111111,\"#46039f\"],[0.2222222222222222,\"#7201a8\"],[0.3333333333333333,\"#9c179e\"],[0.4444444444444444,\"#bd3786\"],[0.5555555555555556,\"#d8576b\"],[0.6666666666666666,\"#ed7953\"],[0.7777777777777778,\"#fb9f3a\"],[0.8888888888888888,\"#fdca26\"],[1.0,\"#f0f921\"]]}],\"choropleth\":[{\"type\":\"choropleth\",\"colorbar\":{\"outlinewidth\":0,\"ticks\":\"\"}}],\"histogram2d\":[{\"type\":\"histogram2d\",\"colorbar\":{\"outlinewidth\":0,\"ticks\":\"\"},\"colorscale\":[[0.0,\"#0d0887\"],[0.1111111111111111,\"#46039f\"],[0.2222222222222222,\"#7201a8\"],[0.3333333333333333,\"#9c179e\"],[0.4444444444444444,\"#bd3786\"],[0.5555555555555556,\"#d8576b\"],[0.6666666666666666,\"#ed7953\"],[0.7777777777777778,\"#fb9f3a\"],[0.8888888888888888,\"#fdca26\"],[1.0,\"#f0f921\"]]}],\"heatmap\":[{\"type\":\"heatmap\",\"colorbar\":{\"outlinewidth\":0,\"ticks\":\"\"},\"colorscale\":[[0.0,\"#0d0887\"],[0.1111111111111111,\"#46039f\"],[0.2222222222222222,\"#7201a8\"],[0.3333333333333333,\"#9c179e\"],[0.4444444444444444,\"#bd3786\"],[0.5555555555555556,\"#d8576b\"],[0.6666666666666666,\"#ed7953\"],[0.7777777777777778,\"#fb9f3a\"],[0.8888888888888888,\"#fdca26\"],[1.0,\"#f0f921\"]]}],\"heatmapgl\":[{\"type\":\"heatmapgl\",\"colorbar\":{\"outlinewidth\":0,\"ticks\":\"\"},\"colorscale\":[[0.0,\"#0d0887\"],[0.1111111111111111,\"#46039f\"],[0.2222222222222222,\"#7201a8\"],[0.3333333333333333,\"#9c179e\"],[0.4444444444444444,\"#bd3786\"],[0.5555555555555556,\"#d8576b\"],[0.6666666666666666,\"#ed7953\"],[0.7777777777777778,\"#fb9f3a\"],[0.8888888888888888,\"#fdca26\"],[1.0,\"#f0f921\"]]}],\"contourcarpet\":[{\"type\":\"contourcarpet\",\"colorbar\":{\"outlinewidth\":0,\"ticks\":\"\"}}],\"contour\":[{\"type\":\"contour\",\"colorbar\":{\"outlinewidth\":0,\"ticks\":\"\"},\"colorscale\":[[0.0,\"#0d0887\"],[0.1111111111111111,\"#46039f\"],[0.2222222222222222,\"#7201a8\"],[0.3333333333333333,\"#9c179e\"],[0.4444444444444444,\"#bd3786\"],[0.5555555555555556,\"#d8576b\"],[0.6666666666666666,\"#ed7953\"],[0.7777777777777778,\"#fb9f3a\"],[0.8888888888888888,\"#fdca26\"],[1.0,\"#f0f921\"]]}],\"surface\":[{\"type\":\"surface\",\"colorbar\":{\"outlinewidth\":0,\"ticks\":\"\"},\"colorscale\":[[0.0,\"#0d0887\"],[0.1111111111111111,\"#46039f\"],[0.2222222222222222,\"#7201a8\"],[0.3333333333333333,\"#9c179e\"],[0.4444444444444444,\"#bd3786\"],[0.5555555555555556,\"#d8576b\"],[0.6666666666666666,\"#ed7953\"],[0.7777777777777778,\"#fb9f3a\"],[0.8888888888888888,\"#fdca26\"],[1.0,\"#f0f921\"]]}],\"mesh3d\":[{\"type\":\"mesh3d\",\"colorbar\":{\"outlinewidth\":0,\"ticks\":\"\"}}],\"scatter\":[{\"fillpattern\":{\"fillmode\":\"overlay\",\"size\":10,\"solidity\":0.2},\"type\":\"scatter\"}],\"parcoords\":[{\"type\":\"parcoords\",\"line\":{\"colorbar\":{\"outlinewidth\":0,\"ticks\":\"\"}}}],\"scatterpolargl\":[{\"type\":\"scatterpolargl\",\"marker\":{\"colorbar\":{\"outlinewidth\":0,\"ticks\":\"\"}}}],\"bar\":[{\"error_x\":{\"color\":\"#2a3f5f\"},\"error_y\":{\"color\":\"#2a3f5f\"},\"marker\":{\"line\":{\"color\":\"#E5ECF6\",\"width\":0.5},\"pattern\":{\"fillmode\":\"overlay\",\"size\":10,\"solidity\":0.2}},\"type\":\"bar\"}],\"scattergeo\":[{\"type\":\"scattergeo\",\"marker\":{\"colorbar\":{\"outlinewidth\":0,\"ticks\":\"\"}}}],\"scatterpolar\":[{\"type\":\"scatterpolar\",\"marker\":{\"colorbar\":{\"outlinewidth\":0,\"ticks\":\"\"}}}],\"histogram\":[{\"marker\":{\"pattern\":{\"fillmode\":\"overlay\",\"size\":10,\"solidity\":0.2}},\"type\":\"histogram\"}],\"scattergl\":[{\"type\":\"scattergl\",\"marker\":{\"colorbar\":{\"outlinewidth\":0,\"ticks\":\"\"}}}],\"scatter3d\":[{\"type\":\"scatter3d\",\"line\":{\"colorbar\":{\"outlinewidth\":0,\"ticks\":\"\"}},\"marker\":{\"colorbar\":{\"outlinewidth\":0,\"ticks\":\"\"}}}],\"scattermapbox\":[{\"type\":\"scattermapbox\",\"marker\":{\"colorbar\":{\"outlinewidth\":0,\"ticks\":\"\"}}}],\"scatterternary\":[{\"type\":\"scatterternary\",\"marker\":{\"colorbar\":{\"outlinewidth\":0,\"ticks\":\"\"}}}],\"scattercarpet\":[{\"type\":\"scattercarpet\",\"marker\":{\"colorbar\":{\"outlinewidth\":0,\"ticks\":\"\"}}}],\"carpet\":[{\"aaxis\":{\"endlinecolor\":\"#2a3f5f\",\"gridcolor\":\"white\",\"linecolor\":\"white\",\"minorgridcolor\":\"white\",\"startlinecolor\":\"#2a3f5f\"},\"baxis\":{\"endlinecolor\":\"#2a3f5f\",\"gridcolor\":\"white\",\"linecolor\":\"white\",\"minorgridcolor\":\"white\",\"startlinecolor\":\"#2a3f5f\"},\"type\":\"carpet\"}],\"table\":[{\"cells\":{\"fill\":{\"color\":\"#EBF0F8\"},\"line\":{\"color\":\"white\"}},\"header\":{\"fill\":{\"color\":\"#C8D4E3\"},\"line\":{\"color\":\"white\"}},\"type\":\"table\"}],\"barpolar\":[{\"marker\":{\"line\":{\"color\":\"#E5ECF6\",\"width\":0.5},\"pattern\":{\"fillmode\":\"overlay\",\"size\":10,\"solidity\":0.2}},\"type\":\"barpolar\"}],\"pie\":[{\"automargin\":true,\"type\":\"pie\"}]},\"layout\":{\"autotypenumbers\":\"strict\",\"colorway\":[\"#636efa\",\"#EF553B\",\"#00cc96\",\"#ab63fa\",\"#FFA15A\",\"#19d3f3\",\"#FF6692\",\"#B6E880\",\"#FF97FF\",\"#FECB52\"],\"font\":{\"color\":\"#2a3f5f\"},\"hovermode\":\"closest\",\"hoverlabel\":{\"align\":\"left\"},\"paper_bgcolor\":\"white\",\"plot_bgcolor\":\"#E5ECF6\",\"polar\":{\"bgcolor\":\"#E5ECF6\",\"angularaxis\":{\"gridcolor\":\"white\",\"linecolor\":\"white\",\"ticks\":\"\"},\"radialaxis\":{\"gridcolor\":\"white\",\"linecolor\":\"white\",\"ticks\":\"\"}},\"ternary\":{\"bgcolor\":\"#E5ECF6\",\"aaxis\":{\"gridcolor\":\"white\",\"linecolor\":\"white\",\"ticks\":\"\"},\"baxis\":{\"gridcolor\":\"white\",\"linecolor\":\"white\",\"ticks\":\"\"},\"caxis\":{\"gridcolor\":\"white\",\"linecolor\":\"white\",\"ticks\":\"\"}},\"coloraxis\":{\"colorbar\":{\"outlinewidth\":0,\"ticks\":\"\"}},\"colorscale\":{\"sequential\":[[0.0,\"#0d0887\"],[0.1111111111111111,\"#46039f\"],[0.2222222222222222,\"#7201a8\"],[0.3333333333333333,\"#9c179e\"],[0.4444444444444444,\"#bd3786\"],[0.5555555555555556,\"#d8576b\"],[0.6666666666666666,\"#ed7953\"],[0.7777777777777778,\"#fb9f3a\"],[0.8888888888888888,\"#fdca26\"],[1.0,\"#f0f921\"]],\"sequentialminus\":[[0.0,\"#0d0887\"],[0.1111111111111111,\"#46039f\"],[0.2222222222222222,\"#7201a8\"],[0.3333333333333333,\"#9c179e\"],[0.4444444444444444,\"#bd3786\"],[0.5555555555555556,\"#d8576b\"],[0.6666666666666666,\"#ed7953\"],[0.7777777777777778,\"#fb9f3a\"],[0.8888888888888888,\"#fdca26\"],[1.0,\"#f0f921\"]],\"diverging\":[[0,\"#8e0152\"],[0.1,\"#c51b7d\"],[0.2,\"#de77ae\"],[0.3,\"#f1b6da\"],[0.4,\"#fde0ef\"],[0.5,\"#f7f7f7\"],[0.6,\"#e6f5d0\"],[0.7,\"#b8e186\"],[0.8,\"#7fbc41\"],[0.9,\"#4d9221\"],[1,\"#276419\"]]},\"xaxis\":{\"gridcolor\":\"white\",\"linecolor\":\"white\",\"ticks\":\"\",\"title\":{\"standoff\":15},\"zerolinecolor\":\"white\",\"automargin\":true,\"zerolinewidth\":2},\"yaxis\":{\"gridcolor\":\"white\",\"linecolor\":\"white\",\"ticks\":\"\",\"title\":{\"standoff\":15},\"zerolinecolor\":\"white\",\"automargin\":true,\"zerolinewidth\":2},\"scene\":{\"xaxis\":{\"backgroundcolor\":\"#E5ECF6\",\"gridcolor\":\"white\",\"linecolor\":\"white\",\"showbackground\":true,\"ticks\":\"\",\"zerolinecolor\":\"white\",\"gridwidth\":2},\"yaxis\":{\"backgroundcolor\":\"#E5ECF6\",\"gridcolor\":\"white\",\"linecolor\":\"white\",\"showbackground\":true,\"ticks\":\"\",\"zerolinecolor\":\"white\",\"gridwidth\":2},\"zaxis\":{\"backgroundcolor\":\"#E5ECF6\",\"gridcolor\":\"white\",\"linecolor\":\"white\",\"showbackground\":true,\"ticks\":\"\",\"zerolinecolor\":\"white\",\"gridwidth\":2}},\"shapedefaults\":{\"line\":{\"color\":\"#2a3f5f\"}},\"annotationdefaults\":{\"arrowcolor\":\"#2a3f5f\",\"arrowhead\":0,\"arrowwidth\":1},\"geo\":{\"bgcolor\":\"white\",\"landcolor\":\"#E5ECF6\",\"subunitcolor\":\"white\",\"showland\":true,\"showlakes\":true,\"lakecolor\":\"white\"},\"title\":{\"x\":0.05},\"mapbox\":{\"style\":\"light\"}}},\"xaxis\":{\"anchor\":\"y\",\"domain\":[0.0,1.0],\"title\":{\"text\":\"mes_ano\"}},\"yaxis\":{\"anchor\":\"x\",\"domain\":[0.0,1.0],\"title\":{\"text\":\"VALUE (-)\"}},\"legend\":{\"tracegroupgap\":0},\"title\":{\"text\":\"\\u00cdndice nacional de pre\\u00e7os ao consumidor amplo (IPCA) geral: \\u00edndice (dez. 1993 = 100)\"}},                        {\"responsive\": true}                    ).then(function(){\n",
       "                            \n",
       "var gd = document.getElementById('9edd1e01-bd91-4d6a-992a-140c61100f83');\n",
       "var x = new MutationObserver(function (mutations, observer) {{\n",
       "        var display = window.getComputedStyle(gd).display;\n",
       "        if (!display || display === 'none') {{\n",
       "            console.log([gd, 'removed!']);\n",
       "            Plotly.purge(gd);\n",
       "            observer.disconnect();\n",
       "        }}\n",
       "}});\n",
       "\n",
       "// Listen for the removal of the full notebook cells\n",
       "var notebookContainer = gd.closest('#notebook-container');\n",
       "if (notebookContainer) {{\n",
       "    x.observe(notebookContainer, {childList: true});\n",
       "}}\n",
       "\n",
       "// Listen for the clearing of the current output cell\n",
       "var outputEl = gd.closest('.output');\n",
       "if (outputEl) {{\n",
       "    x.observe(outputEl, {childList: true});\n",
       "}}\n",
       "\n",
       "                        })                };                });            </script>        </div>"
      ]
     },
     "metadata": {},
     "output_type": "display_data"
    }
   ],
   "source": [
    "fig_ipca = px.line(ipca, x = 'mes_ano', y = 'VALUE (-)', title  = 'Índice nacional de preços ao consumidor amplo (IPCA) geral: índice (dez. 1993 = 100)')\n",
    "fig_ipca.show()"
   ]
  },
  {
   "cell_type": "code",
   "execution_count": null,
   "id": "9fd868ab-4a89-4c10-ab03-f7d4fe011dce",
   "metadata": {},
   "outputs": [],
   "source": []
  },
  {
   "cell_type": "markdown",
   "id": "db50cc00-37de-4727-9130-487285263f35",
   "metadata": {},
   "source": [
    "## Etapa 2 \n",
    "\n",
    "Usando o programa de sua preferência, aplique a\n",
    "metodologia Box Jenkins: identificação, estimação, e diagnóstico. Ignore a sazonalidade da inflação,\n",
    "por enquanto. (ou use um modelo SARIMA)"
   ]
  },
  {
   "cell_type": "markdown",
   "id": "8cdba129-01db-478d-b3ff-fc28a7ea0805",
   "metadata": {},
   "source": [
    "### Identificação"
   ]
  },
  {
   "cell_type": "code",
   "execution_count": 74,
   "id": "ab4976cd-24ec-4733-9c2f-96d9dbba0030",
   "metadata": {
    "scrolled": true
   },
   "outputs": [
    {
     "data": {
      "image/png": "[encoded data removed]",
      "text/plain": [
       "<Figure size 1400x800 with 4 Axes>"
      ]
     },
     "metadata": {},
     "output_type": "display_data"
    }
   ],
   "source": [
    "import matplotlib.pyplot as plt\n",
    "from statsmodels.graphics.tsaplots import plot_acf, plot_pacf\n",
    "\n",
    "# Criar figura com 4 subplots (2 linhas × 2 colunas)\n",
    "fig, axes = plt.subplots(nrows=2, ncols=2, figsize=(14, 8))\n",
    "plt.suptitle(\"ACF e PACF do IPCA (mensal) e PIB (trimestral)\", fontsize=14)\n",
    "\n",
    "# --- Gráfico 1: ACF do IPCA ---\n",
    "plot_acf(ipca['VALUE (-)'], lags=24, ax=axes[0, 0], title=\"ACF - IPCA (24 lags)\")\n",
    "axes[0, 0].set_xlabel(\"Lags (meses)\")\n",
    "\n",
    "# --- Gráfico 2: PACF do IPCA ---\n",
    "plot_pacf(ipca['VALUE (-)'], lags=24, ax=axes[0, 1], title=\"PACF - IPCA (24 lags)\")\n",
    "axes[0, 1].set_xlabel(\"Lags (meses)\")\n",
    "\n",
    "# --- Gráfico 3: ACF do PIB ---\n",
    "plot_acf(pib['VALUE (-)'], lags=8, ax=axes[1, 0], title=\"ACF - PIB (8 lags = 2 anos)\")\n",
    "axes[1, 0].set_xlabel(\"Lags (trimestres)\")\n",
    "\n",
    "# --- Gráfico 4: PACF do PIB ---\n",
    "plot_pacf(pib['VALUE (-)'], lags=8, ax=axes[1, 1], title=\"PACF - PIB (8 lags)\")\n",
    "axes[1, 1].set_xlabel(\"Lags (trimestres)\")\n",
    "\n",
    "# Ajustar layout para evitar sobreposição\n",
    "plt.tight_layout()\n",
    "plt.show()"
   ]
  },
  {
   "cell_type": "markdown",
   "id": "e18afdbb-2dfe-4b29-a5ef-3a8cfd2e8f11",
   "metadata": {},
   "source": [
    "Ambas as séries apresentam decaimento no acf após o primeiro lag, indicando comportamento do AR teórico com PHI próximo a 1. Na série do IPCA, o PACF decai a zero após a primeira defasagem, já com relação ao PIB, o 3° e 5° lags são maiores que zero."
   ]
  },
  {
   "cell_type": "code",
   "execution_count": null,
   "id": "99e1e1ac-0a8e-4a8e-a1c8-c3bf23ddad2c",
   "metadata": {},
   "outputs": [],
   "source": []
  },
  {
   "cell_type": "markdown",
   "id": "7e50370d-cf1b-4acc-9556-2adf1fa1f366",
   "metadata": {},
   "source": [
    "### Estimação e diagnóstico\n",
    "\n",
    "Aqui eu vou rodar os modelos e ver quais possuem menor BIC, AIC e HQ, além de analisar seus resíduos."
   ]
  },
  {
   "cell_type": "markdown",
   "id": "6c1dc751-95cc-4207-9890-2298583e7a08",
   "metadata": {},
   "source": [
    "#### 1. Estimação PIB"
   ]
  },
  {
   "cell_type": "code",
   "execution_count": 189,
   "id": "0f597508-9752-4883-989f-a95c7e15c3c9",
   "metadata": {},
   "outputs": [
    {
     "name": "stderr",
     "output_type": "stream",
     "text": [
      "C:\\Users\\KAWAN\\anaconda3\\Lib\\site-packages\\statsmodels\\tsa\\base\\tsa_model.py:473: ValueWarning:\n",
      "\n",
      "No frequency information was provided, so inferred frequency QS-OCT will be used.\n",
      "\n",
      "C:\\Users\\KAWAN\\anaconda3\\Lib\\site-packages\\statsmodels\\tsa\\base\\tsa_model.py:473: ValueWarning:\n",
      "\n",
      "No frequency information was provided, so inferred frequency QS-OCT will be used.\n",
      "\n",
      "C:\\Users\\KAWAN\\anaconda3\\Lib\\site-packages\\statsmodels\\tsa\\statespace\\sarimax.py:966: UserWarning:\n",
      "\n",
      "Non-stationary starting autoregressive parameters found. Using zeros as starting parameters.\n",
      "\n",
      "C:\\Users\\KAWAN\\anaconda3\\Lib\\site-packages\\statsmodels\\tsa\\statespace\\sarimax.py:997: UserWarning:\n",
      "\n",
      "Non-stationary starting seasonal autoregressive Using zeros as starting parameters.\n",
      "\n",
      "C:\\Users\\KAWAN\\anaconda3\\Lib\\site-packages\\statsmodels\\tsa\\base\\tsa_model.py:473: ValueWarning:\n",
      "\n",
      "No frequency information was provided, so inferred frequency QS-OCT will be used.\n",
      "\n",
      "C:\\Users\\KAWAN\\anaconda3\\Lib\\site-packages\\statsmodels\\tsa\\base\\tsa_model.py:473: ValueWarning:\n",
      "\n",
      "No frequency information was provided, so inferred frequency QS-OCT will be used.\n",
      "\n",
      "C:\\Users\\KAWAN\\anaconda3\\Lib\\site-packages\\statsmodels\\tsa\\statespace\\sarimax.py:978: UserWarning:\n",
      "\n",
      "Non-invertible starting MA parameters found. Using zeros as starting parameters.\n",
      "\n",
      "C:\\Users\\KAWAN\\anaconda3\\Lib\\site-packages\\statsmodels\\tsa\\statespace\\sarimax.py:997: UserWarning:\n",
      "\n",
      "Non-stationary starting seasonal autoregressive Using zeros as starting parameters.\n",
      "\n",
      "C:\\Users\\KAWAN\\anaconda3\\Lib\\site-packages\\statsmodels\\tsa\\base\\tsa_model.py:473: ValueWarning:\n",
      "\n",
      "No frequency information was provided, so inferred frequency QS-OCT will be used.\n",
      "\n",
      "C:\\Users\\KAWAN\\anaconda3\\Lib\\site-packages\\statsmodels\\tsa\\base\\tsa_model.py:473: ValueWarning:\n",
      "\n",
      "No frequency information was provided, so inferred frequency QS-OCT will be used.\n",
      "\n",
      "C:\\Users\\KAWAN\\anaconda3\\Lib\\site-packages\\statsmodels\\tsa\\statespace\\sarimax.py:966: UserWarning:\n",
      "\n",
      "Non-stationary starting autoregressive parameters found. Using zeros as starting parameters.\n",
      "\n",
      "C:\\Users\\KAWAN\\anaconda3\\Lib\\site-packages\\statsmodels\\tsa\\statespace\\sarimax.py:997: UserWarning:\n",
      "\n",
      "Non-stationary starting seasonal autoregressive Using zeros as starting parameters.\n",
      "\n",
      "C:\\Users\\KAWAN\\anaconda3\\Lib\\site-packages\\statsmodels\\base\\model.py:607: ConvergenceWarning:\n",
      "\n",
      "Maximum Likelihood optimization failed to converge. Check mle_retvals\n",
      "\n",
      "C:\\Users\\KAWAN\\anaconda3\\Lib\\site-packages\\statsmodels\\tsa\\base\\tsa_model.py:473: ValueWarning:\n",
      "\n",
      "No frequency information was provided, so inferred frequency QS-OCT will be used.\n",
      "\n",
      "C:\\Users\\KAWAN\\anaconda3\\Lib\\site-packages\\statsmodels\\tsa\\base\\tsa_model.py:473: ValueWarning:\n",
      "\n",
      "No frequency information was provided, so inferred frequency QS-OCT will be used.\n",
      "\n",
      "C:\\Users\\KAWAN\\anaconda3\\Lib\\site-packages\\statsmodels\\tsa\\base\\tsa_model.py:473: ValueWarning:\n",
      "\n",
      "No frequency information was provided, so inferred frequency QS-OCT will be used.\n",
      "\n",
      "C:\\Users\\KAWAN\\anaconda3\\Lib\\site-packages\\statsmodels\\tsa\\base\\tsa_model.py:473: ValueWarning:\n",
      "\n",
      "No frequency information was provided, so inferred frequency QS-OCT will be used.\n",
      "\n",
      "C:\\Users\\KAWAN\\anaconda3\\Lib\\site-packages\\statsmodels\\tsa\\base\\tsa_model.py:473: ValueWarning:\n",
      "\n",
      "No frequency information was provided, so inferred frequency QS-OCT will be used.\n",
      "\n",
      "C:\\Users\\KAWAN\\anaconda3\\Lib\\site-packages\\statsmodels\\tsa\\base\\tsa_model.py:473: ValueWarning:\n",
      "\n",
      "No frequency information was provided, so inferred frequency QS-OCT will be used.\n",
      "\n",
      "C:\\Users\\KAWAN\\anaconda3\\Lib\\site-packages\\statsmodels\\tsa\\base\\tsa_model.py:473: ValueWarning:\n",
      "\n",
      "No frequency information was provided, so inferred frequency QS-OCT will be used.\n",
      "\n",
      "C:\\Users\\KAWAN\\anaconda3\\Lib\\site-packages\\statsmodels\\tsa\\base\\tsa_model.py:473: ValueWarning:\n",
      "\n",
      "No frequency information was provided, so inferred frequency QS-OCT will be used.\n",
      "\n"
     ]
    },
    {
     "name": "stdout",
     "output_type": "stream",
     "text": [
      "                      AIC         BIC        HQIC  Log Likelihood  \\\n",
      "SARIMA(1,0,0)  414.502027  424.365659  418.473807     -203.251013   \n",
      "SARIMA(0,0,1)  457.363065  467.226697  461.334845     -224.681532   \n",
      "SARIMA(1,0,1)  411.348781  423.678321  416.313507     -200.674390   \n",
      "SARIMA(1,1,0)  399.351411  409.168800  403.302455     -195.675706   \n",
      "SARIMA(0,1,1)  398.203206  408.020595  402.154250     -195.101603   \n",
      "SARIMA(1,1,1)  394.402418  406.674155  399.341224     -192.201209   \n",
      "SARIMA(3,1,3)  396.810430  418.899556  405.700280     -189.405215   \n",
      "\n",
      "               Convergência  Iterações  \n",
      "SARIMA(1,0,0)          True         42  \n",
      "SARIMA(0,0,1)          True         39  \n",
      "SARIMA(1,0,1)         False         50  \n",
      "SARIMA(1,1,0)          True         19  \n",
      "SARIMA(0,1,1)          True         21  \n",
      "SARIMA(1,1,1)          True         38  \n",
      "SARIMA(3,1,3)         False         50  \n"
     ]
    },
    {
     "name": "stderr",
     "output_type": "stream",
     "text": [
      "C:\\Users\\KAWAN\\anaconda3\\Lib\\site-packages\\statsmodels\\base\\model.py:607: ConvergenceWarning:\n",
      "\n",
      "Maximum Likelihood optimization failed to converge. Check mle_retvals\n",
      "\n"
     ]
    }
   ],
   "source": [
    "import pandas as pd\n",
    "from statsmodels.tsa.statespace.sarimax import SARIMAX\n",
    "\n",
    "dados = pib['VALUE (-)']\n",
    "tamanho_treino = int(len(dados) * 0.75)\n",
    "treino = dados[:tamanho_treino]\n",
    "\n",
    "modelos = [(1, 0, 0), (0, 0, 1), (1, 0, 1), (1, 1, 0), (0, 1, 1), (1, 1, 1),(3,1,3)]\n",
    "resultados = {}\n",
    "\n",
    "for p, d, q in modelos:\n",
    "    try:\n",
    "        modelo = SARIMAX(\n",
    "            treino,\n",
    "            order=(p, d, q),\n",
    "            seasonal_order=(1, 0, 0, 4),\n",
    "            trend='t'\n",
    "        )\n",
    "        resultado = modelo.fit(disp=False)\n",
    "        \n",
    "        resultados[f'SARIMA({p},{d},{q})'] = {\n",
    "            'AIC': resultado.aic,\n",
    "            'BIC': resultado.bic,\n",
    "            'HQIC': resultado.hqic,\n",
    "            'Log Likelihood': resultado.llf,\n",
    "            'Convergência': resultado.mle_retvals['converged'],\n",
    "            'Iterações': resultado.mle_retvals['iterations']\n",
    "        }\n",
    "    except Exception as e:\n",
    "        resultados[f'SARIMA({p},{d},{q})'] = {'Erro': str(e)}\n",
    "\n",
    "df_resultados = pd.DataFrame.from_dict(resultados, orient='index')\n",
    "print(df_resultados)"
   ]
  },
  {
   "cell_type": "code",
   "execution_count": null,
   "id": "d8a4dc16-8b19-42d4-b837-10f2098c8de1",
   "metadata": {},
   "outputs": [],
   "source": []
  },
  {
   "cell_type": "code",
   "execution_count": 191,
   "id": "e7ae9054-d05f-4e76-bf53-952818972e6b",
   "metadata": {},
   "outputs": [
    {
     "name": "stderr",
     "output_type": "stream",
     "text": [
      "C:\\Users\\KAWAN\\anaconda3\\Lib\\site-packages\\statsmodels\\tsa\\base\\tsa_model.py:473: ValueWarning:\n",
      "\n",
      "No frequency information was provided, so inferred frequency QS-OCT will be used.\n",
      "\n",
      "C:\\Users\\KAWAN\\anaconda3\\Lib\\site-packages\\statsmodels\\tsa\\base\\tsa_model.py:473: ValueWarning:\n",
      "\n",
      "No frequency information was provided, so inferred frequency QS-OCT will be used.\n",
      "\n",
      "C:\\Users\\KAWAN\\anaconda3\\Lib\\site-packages\\statsmodels\\tsa\\base\\tsa_model.py:473: ValueWarning:\n",
      "\n",
      "No frequency information was provided, so inferred frequency QS-OCT will be used.\n",
      "\n",
      "C:\\Users\\KAWAN\\anaconda3\\Lib\\site-packages\\statsmodels\\tsa\\base\\tsa_model.py:473: ValueWarning:\n",
      "\n",
      "No frequency information was provided, so inferred frequency QS-OCT will be used.\n",
      "\n",
      "C:\\Users\\KAWAN\\anaconda3\\Lib\\site-packages\\statsmodels\\tsa\\base\\tsa_model.py:473: ValueWarning:\n",
      "\n",
      "No frequency information was provided, so inferred frequency QS-OCT will be used.\n",
      "\n",
      "C:\\Users\\KAWAN\\anaconda3\\Lib\\site-packages\\statsmodels\\tsa\\base\\tsa_model.py:473: ValueWarning:\n",
      "\n",
      "No frequency information was provided, so inferred frequency QS-OCT will be used.\n",
      "\n",
      "C:\\Users\\KAWAN\\anaconda3\\Lib\\site-packages\\statsmodels\\tsa\\statespace\\sarimax.py:978: UserWarning:\n",
      "\n",
      "Non-invertible starting MA parameters found. Using zeros as starting parameters.\n",
      "\n",
      "C:\\Users\\KAWAN\\anaconda3\\Lib\\site-packages\\statsmodels\\tsa\\base\\tsa_model.py:473: ValueWarning:\n",
      "\n",
      "No frequency information was provided, so inferred frequency QS-OCT will be used.\n",
      "\n",
      "C:\\Users\\KAWAN\\anaconda3\\Lib\\site-packages\\statsmodels\\tsa\\base\\tsa_model.py:473: ValueWarning:\n",
      "\n",
      "No frequency information was provided, so inferred frequency QS-OCT will be used.\n",
      "\n",
      "C:\\Users\\KAWAN\\anaconda3\\Lib\\site-packages\\statsmodels\\tsa\\base\\tsa_model.py:473: ValueWarning:\n",
      "\n",
      "No frequency information was provided, so inferred frequency QS-OCT will be used.\n",
      "\n",
      "C:\\Users\\KAWAN\\anaconda3\\Lib\\site-packages\\statsmodels\\tsa\\base\\tsa_model.py:473: ValueWarning:\n",
      "\n",
      "No frequency information was provided, so inferred frequency QS-OCT will be used.\n",
      "\n",
      "C:\\Users\\KAWAN\\anaconda3\\Lib\\site-packages\\statsmodels\\tsa\\base\\tsa_model.py:473: ValueWarning:\n",
      "\n",
      "No frequency information was provided, so inferred frequency QS-OCT will be used.\n",
      "\n",
      "C:\\Users\\KAWAN\\anaconda3\\Lib\\site-packages\\statsmodels\\tsa\\base\\tsa_model.py:473: ValueWarning:\n",
      "\n",
      "No frequency information was provided, so inferred frequency QS-OCT will be used.\n",
      "\n",
      "C:\\Users\\KAWAN\\anaconda3\\Lib\\site-packages\\statsmodels\\tsa\\base\\tsa_model.py:473: ValueWarning:\n",
      "\n",
      "No frequency information was provided, so inferred frequency QS-OCT will be used.\n",
      "\n",
      "C:\\Users\\KAWAN\\anaconda3\\Lib\\site-packages\\statsmodels\\tsa\\base\\tsa_model.py:473: ValueWarning:\n",
      "\n",
      "No frequency information was provided, so inferred frequency QS-OCT will be used.\n",
      "\n",
      "C:\\Users\\KAWAN\\anaconda3\\Lib\\site-packages\\statsmodels\\tsa\\base\\tsa_model.py:473: ValueWarning:\n",
      "\n",
      "No frequency information was provided, so inferred frequency QS-OCT will be used.\n",
      "\n",
      "C:\\Users\\KAWAN\\anaconda3\\Lib\\site-packages\\statsmodels\\tsa\\base\\tsa_model.py:473: ValueWarning:\n",
      "\n",
      "No frequency information was provided, so inferred frequency QS-OCT will be used.\n",
      "\n",
      "C:\\Users\\KAWAN\\anaconda3\\Lib\\site-packages\\statsmodels\\tsa\\base\\tsa_model.py:473: ValueWarning:\n",
      "\n",
      "No frequency information was provided, so inferred frequency QS-OCT will be used.\n",
      "\n",
      "C:\\Users\\KAWAN\\anaconda3\\Lib\\site-packages\\statsmodels\\tsa\\base\\tsa_model.py:473: ValueWarning:\n",
      "\n",
      "No frequency information was provided, so inferred frequency QS-OCT will be used.\n",
      "\n",
      "C:\\Users\\KAWAN\\anaconda3\\Lib\\site-packages\\statsmodels\\tsa\\base\\tsa_model.py:473: ValueWarning:\n",
      "\n",
      "No frequency information was provided, so inferred frequency QS-OCT will be used.\n",
      "\n",
      "C:\\Users\\KAWAN\\anaconda3\\Lib\\site-packages\\statsmodels\\tsa\\base\\tsa_model.py:473: ValueWarning:\n",
      "\n",
      "No frequency information was provided, so inferred frequency QS-OCT will be used.\n",
      "\n",
      "C:\\Users\\KAWAN\\anaconda3\\Lib\\site-packages\\statsmodels\\tsa\\base\\tsa_model.py:473: ValueWarning:\n",
      "\n",
      "No frequency information was provided, so inferred frequency QS-OCT will be used.\n",
      "\n"
     ]
    },
    {
     "name": "stdout",
     "output_type": "stream",
     "text": [
      "                     AIC         BIC        HQIC  Log Likelihood  \\\n",
      "ARIMA(1,0,0)  497.027973  504.425697  500.006808     -245.513986   \n",
      "ARIMA(0,0,1)  716.987314  724.385038  719.966149     -355.493657   \n",
      "ARIMA(1,0,1)  491.581997  501.445630  495.553778     -241.790999   \n",
      "ARIMA(1,1,0)  485.014782  489.923477  486.990304     -240.507391   \n",
      "ARIMA(0,1,1)  478.410773  483.319468  480.386295     -237.205386   \n",
      "ARIMA(1,1,1)  477.799301  485.162343  480.762584     -235.899651   \n",
      "ARIMA(3,1,3)  383.592291  400.772722  390.506619     -184.796146   \n",
      "\n",
      "              Convergência  Iterações  \n",
      "ARIMA(1,0,0)          True         15  \n",
      "ARIMA(0,0,1)          True         17  \n",
      "ARIMA(1,0,1)          True         25  \n",
      "ARIMA(1,1,0)          True          3  \n",
      "ARIMA(0,1,1)          True          6  \n",
      "ARIMA(1,1,1)          True          7  \n",
      "ARIMA(3,1,3)          True         49  \n"
     ]
    }
   ],
   "source": [
    "import pandas as pd\n",
    "from statsmodels.tsa.arima.model import ARIMA\n",
    "\n",
    "dados = pib['VALUE (-)']\n",
    "tamanho_treino = int(len(dados) * 0.75)\n",
    "treino = dados[:tamanho_treino]\n",
    "\n",
    "modelos = [(1, 0, 0), (0, 0, 1), (1, 0, 1), (1, 1, 0), (0, 1, 1), (1, 1, 1),(3,1,3)]\n",
    "resultados = {}\n",
    "\n",
    "for p, d, q in modelos:\n",
    "    try:\n",
    "        modelo = ARIMA(treino, order=(p, d, q))\n",
    "        resultado = modelo.fit()\n",
    "        \n",
    "        resultados[f'ARIMA({p},{d},{q})'] = {\n",
    "            'AIC': resultado.aic,\n",
    "            'BIC': resultado.bic,\n",
    "            'HQIC': getattr(resultado, 'hqic', float('nan')),  # Algumas versões não têm HQIC\n",
    "            'Log Likelihood': resultado.llf,\n",
    "            'Convergência': resultado.mle_retvals['converged'],\n",
    "            'Iterações': resultado.mle_retvals['iterations']\n",
    "        }\n",
    "    except Exception as e:\n",
    "        resultados[f'ARIMA({p},{d},{q})'] = {'Erro': str(e)}\n",
    "\n",
    "df_resultados = pd.DataFrame.from_dict(resultados, orient='index')\n",
    "print(df_resultados)"
   ]
  },
  {
   "cell_type": "code",
   "execution_count": null,
   "id": "9505f3ef-ddb6-4224-820c-9de2293d7fbd",
   "metadata": {},
   "outputs": [],
   "source": []
  },
  {
   "cell_type": "markdown",
   "id": "45a8e871-0bfb-4f42-ac08-0814d2e4dc79",
   "metadata": {},
   "source": [
    "#### 1. Diagnóstico PIB"
   ]
  },
  {
   "cell_type": "code",
   "execution_count": 193,
   "id": "3d6d4201-445f-42c1-befa-c8139b65ae0b",
   "metadata": {},
   "outputs": [
    {
     "name": "stderr",
     "output_type": "stream",
     "text": [
      "C:\\Users\\KAWAN\\anaconda3\\Lib\\site-packages\\statsmodels\\tsa\\base\\tsa_model.py:473: ValueWarning:\n",
      "\n",
      "No frequency information was provided, so inferred frequency QS-OCT will be used.\n",
      "\n",
      "C:\\Users\\KAWAN\\anaconda3\\Lib\\site-packages\\statsmodels\\tsa\\base\\tsa_model.py:473: ValueWarning:\n",
      "\n",
      "No frequency information was provided, so inferred frequency QS-OCT will be used.\n",
      "\n",
      "C:\\Users\\KAWAN\\anaconda3\\Lib\\site-packages\\statsmodels\\tsa\\base\\tsa_model.py:473: ValueWarning:\n",
      "\n",
      "No frequency information was provided, so inferred frequency QS-OCT will be used.\n",
      "\n",
      "C:\\Users\\KAWAN\\anaconda3\\Lib\\site-packages\\statsmodels\\graphics\\gofplots.py:1043: UserWarning:\n",
      "\n",
      "color is redundantly defined by the 'color' keyword argument and the fmt string \"b\" (-> color=(0.0, 0.0, 1.0, 1)). The keyword argument will take precedence.\n",
      "\n"
     ]
    },
    {
     "data": {
      "image/png": "[encoded data removed]",
      "text/plain": [
       "<Figure size 1200x800 with 4 Axes>"
      ]
     },
     "metadata": {},
     "output_type": "display_data"
    },
    {
     "name": "stdout",
     "output_type": "stream",
     "text": [
      "\n",
      "Teste de Ljung-Box para autocorrelação nos resíduos (lag=10):\n",
      "     lb_stat  lb_pvalue\n",
      "10  0.790132   0.999942\n",
      "\n",
      "Valor-p: 0.9999\n",
      "\n",
      "✅ Os resíduos parecem ser ruído branco (não rejeitamos H0)\n",
      "\n",
      "📊 Estatísticas do Modelo ARIMA(3,1,3):\n",
      "                               SARIMAX Results                                \n",
      "==============================================================================\n",
      "Dep. Variable:              VALUE (-)   No. Observations:                   87\n",
      "Model:                 ARIMA(3, 1, 3)   Log Likelihood                -184.796\n",
      "Date:                Tue, 25 Mar 2025   AIC                            383.592\n",
      "Time:                        15:45:48   BIC                            400.773\n",
      "Sample:                    01-01-1996   HQIC                           390.507\n",
      "                         - 07-01-2017                                         \n",
      "Covariance Type:                  opg                                         \n",
      "==============================================================================\n",
      "                 coef    std err          z      P>|z|      [0.025      0.975]\n",
      "------------------------------------------------------------------------------\n",
      "ar.L1          0.9569      0.049     19.664      0.000       0.862       1.052\n",
      "ar.L2         -0.9947      0.007   -148.652      0.000      -1.008      -0.982\n",
      "ar.L3          0.9615      0.047     20.345      0.000       0.869       1.054\n",
      "ma.L1         -0.8141      0.093     -8.730      0.000      -0.997      -0.631\n",
      "ma.L2          0.9411      0.779      1.208      0.227      -0.586       2.468\n",
      "ma.L3         -0.8692      0.699     -1.243      0.214      -2.240       0.501\n",
      "sigma2         3.8388      2.980      1.288      0.198      -2.002       9.680\n",
      "===================================================================================\n",
      "Ljung-Box (L1) (Q):                   0.08   Jarque-Bera (JB):                 5.30\n",
      "Prob(Q):                              0.77   Prob(JB):                         0.07\n",
      "Heteroskedasticity (H):               1.11   Skew:                            -0.57\n",
      "Prob(H) (two-sided):                  0.79   Kurtosis:                         3.40\n",
      "===================================================================================\n",
      "\n",
      "Warnings:\n",
      "[1] Covariance matrix calculated using the outer product of gradients (complex-step).\n"
     ]
    }
   ],
   "source": [
    "import pandas as pd\n",
    "from statsmodels.tsa.arima.model import ARIMA\n",
    "from statsmodels.stats.diagnostic import acorr_ljungbox\n",
    "import matplotlib.pyplot as plt\n",
    "from statsmodels.graphics.tsaplots import plot_acf\n",
    "from statsmodels.graphics.gofplots import qqplot\n",
    "\n",
    "dados = pib['VALUE (-)']\n",
    "tamanho_treino = int(len(dados) * 0.75)\n",
    "treino = dados[:tamanho_treino]\n",
    "\n",
    "# Ajustar o modelo ARIMA(3,1,3)\n",
    "try:\n",
    "    modelo = ARIMA(treino, order=(3, 1, 3))\n",
    "    resultado = modelo.fit()\n",
    "    \n",
    "    # Obter os resíduos\n",
    "    residuos = resultado.resid.dropna()\n",
    "    \n",
    "    # Teste de Ljung-Box para autocorrelação\n",
    "    lb_test = acorr_ljungbox(residuos, lags=[10], return_df=True)\n",
    "    \n",
    "    # Plot dos resíduos\n",
    "    fig, axes = plt.subplots(2, 2, figsize=(12, 8))\n",
    "    fig.suptitle('Diagnóstico dos Resíduos - ARIMA(3,1,3)', y=1.02)\n",
    "    \n",
    "    # Resíduos ao longo do tempo\n",
    "    axes[0,0].plot(residuos, color='blue')\n",
    "    axes[0,0].set_title('Série Temporal dos Resíduos')\n",
    "    axes[0,0].axhline(y=0, color='r', linestyle='--')\n",
    "    \n",
    "    # Histograma + densidade\n",
    "    residuos.plot(kind='hist', density=True, ax=axes[0,1], bins=20, color='blue', alpha=0.7)\n",
    "    residuos.plot(kind='kde', ax=axes[0,1], color='red')\n",
    "    axes[0,1].set_title('Distribuição dos Resíduos')\n",
    "    \n",
    "    # ACF dos resíduos\n",
    "    plot_acf(residuos, ax=axes[1,0], lags=20, color='blue')\n",
    "    axes[1,0].set_title('Autocorrelação dos Resíduos')\n",
    "    \n",
    "    # QQ plot\n",
    "    qqplot(residuos, line='s', ax=axes[1,1], color='blue')\n",
    "    axes[1,1].set_title('QQ Plot - Normalidade')\n",
    "    \n",
    "    plt.tight_layout()\n",
    "    plt.show()\n",
    "    \n",
    "    # Resultados do teste\n",
    "    print(\"\\nTeste de Ljung-Box para autocorrelação nos resíduos (lag=10):\")\n",
    "    print(lb_test)\n",
    "    print(f\"\\nValor-p: {lb_test['lb_pvalue'].values[0]:.4f}\")\n",
    "    \n",
    "    # Interpretação\n",
    "    if lb_test['lb_pvalue'].values[0] > 0.05:\n",
    "        print(\"\\n✅ Os resíduos parecem ser ruído branco (não rejeitamos H0)\")\n",
    "    else:\n",
    "        print(\"\\n❌ Os resíduos NÃO são ruído branco (rejeitamos H0)\")\n",
    "    \n",
    "    # Estatísticas adicionais do modelo\n",
    "    print(\"\\n📊 Estatísticas do Modelo ARIMA(3,1,3):\")\n",
    "    print(resultado.summary())\n",
    "    \n",
    "except Exception as e:\n",
    "    print(f\"Erro ao ajustar o modelo ARIMA(3,1,3): {e}\")"
   ]
  },
  {
   "cell_type": "code",
   "execution_count": null,
   "id": "43d8a59c-f861-468e-aa3f-d291e83dc5cc",
   "metadata": {},
   "outputs": [],
   "source": []
  },
  {
   "cell_type": "markdown",
   "id": "141eff06-1cc8-45e7-8e9d-c12ca51a1f4f",
   "metadata": {},
   "source": [
    "#### 2. Estimação IPCA"
   ]
  },
  {
   "cell_type": "markdown",
   "id": "817fa962-38e0-4dc1-bb58-35ee4432c7fc",
   "metadata": {},
   "source": [
    "#### Sarimax IPCA"
   ]
  },
  {
   "cell_type": "code",
   "execution_count": 254,
   "id": "bb1b70f9-d8f5-4bdf-b3d8-ab9fe84d34e1",
   "metadata": {
    "scrolled": true
   },
   "outputs": [
    {
     "name": "stderr",
     "output_type": "stream",
     "text": [
      "C:\\Users\\KAWAN\\anaconda3\\Lib\\site-packages\\statsmodels\\tsa\\base\\tsa_model.py:473: ValueWarning:\n",
      "\n",
      "No frequency information was provided, so inferred frequency MS will be used.\n",
      "\n",
      "C:\\Users\\KAWAN\\anaconda3\\Lib\\site-packages\\statsmodels\\tsa\\base\\tsa_model.py:473: ValueWarning:\n",
      "\n",
      "No frequency information was provided, so inferred frequency MS will be used.\n",
      "\n",
      "C:\\Users\\KAWAN\\anaconda3\\Lib\\site-packages\\statsmodels\\tsa\\statespace\\sarimax.py:997: UserWarning:\n",
      "\n",
      "Non-stationary starting seasonal autoregressive Using zeros as starting parameters.\n",
      "\n",
      "C:\\Users\\KAWAN\\anaconda3\\Lib\\site-packages\\statsmodels\\tsa\\base\\tsa_model.py:473: ValueWarning:\n",
      "\n",
      "No frequency information was provided, so inferred frequency MS will be used.\n",
      "\n",
      "C:\\Users\\KAWAN\\anaconda3\\Lib\\site-packages\\statsmodels\\tsa\\base\\tsa_model.py:473: ValueWarning:\n",
      "\n",
      "No frequency information was provided, so inferred frequency MS will be used.\n",
      "\n",
      "C:\\Users\\KAWAN\\anaconda3\\Lib\\site-packages\\statsmodels\\tsa\\statespace\\sarimax.py:978: UserWarning:\n",
      "\n",
      "Non-invertible starting MA parameters found. Using zeros as starting parameters.\n",
      "\n",
      "C:\\Users\\KAWAN\\anaconda3\\Lib\\site-packages\\statsmodels\\tsa\\statespace\\sarimax.py:997: UserWarning:\n",
      "\n",
      "Non-stationary starting seasonal autoregressive Using zeros as starting parameters.\n",
      "\n",
      "C:\\Users\\KAWAN\\anaconda3\\Lib\\site-packages\\statsmodels\\tsa\\base\\tsa_model.py:473: ValueWarning:\n",
      "\n",
      "No frequency information was provided, so inferred frequency MS will be used.\n",
      "\n",
      "C:\\Users\\KAWAN\\anaconda3\\Lib\\site-packages\\statsmodels\\tsa\\base\\tsa_model.py:473: ValueWarning:\n",
      "\n",
      "No frequency information was provided, so inferred frequency MS will be used.\n",
      "\n",
      "C:\\Users\\KAWAN\\anaconda3\\Lib\\site-packages\\statsmodels\\tsa\\statespace\\sarimax.py:997: UserWarning:\n",
      "\n",
      "Non-stationary starting seasonal autoregressive Using zeros as starting parameters.\n",
      "\n",
      "C:\\Users\\KAWAN\\anaconda3\\Lib\\site-packages\\statsmodels\\tsa\\base\\tsa_model.py:473: ValueWarning:\n",
      "\n",
      "No frequency information was provided, so inferred frequency MS will be used.\n",
      "\n",
      "C:\\Users\\KAWAN\\anaconda3\\Lib\\site-packages\\statsmodels\\tsa\\base\\tsa_model.py:473: ValueWarning:\n",
      "\n",
      "No frequency information was provided, so inferred frequency MS will be used.\n",
      "\n",
      "C:\\Users\\KAWAN\\anaconda3\\Lib\\site-packages\\statsmodels\\tsa\\base\\tsa_model.py:473: ValueWarning:\n",
      "\n",
      "No frequency information was provided, so inferred frequency MS will be used.\n",
      "\n",
      "C:\\Users\\KAWAN\\anaconda3\\Lib\\site-packages\\statsmodels\\tsa\\base\\tsa_model.py:473: ValueWarning:\n",
      "\n",
      "No frequency information was provided, so inferred frequency MS will be used.\n",
      "\n",
      "C:\\Users\\KAWAN\\anaconda3\\Lib\\site-packages\\statsmodels\\tsa\\base\\tsa_model.py:473: ValueWarning:\n",
      "\n",
      "No frequency information was provided, so inferred frequency MS will be used.\n",
      "\n",
      "C:\\Users\\KAWAN\\anaconda3\\Lib\\site-packages\\statsmodels\\tsa\\base\\tsa_model.py:473: ValueWarning:\n",
      "\n",
      "No frequency information was provided, so inferred frequency MS will be used.\n",
      "\n",
      "C:\\Users\\KAWAN\\anaconda3\\Lib\\site-packages\\statsmodels\\tsa\\base\\tsa_model.py:473: ValueWarning:\n",
      "\n",
      "No frequency information was provided, so inferred frequency MS will be used.\n",
      "\n",
      "C:\\Users\\KAWAN\\anaconda3\\Lib\\site-packages\\statsmodels\\tsa\\base\\tsa_model.py:473: ValueWarning:\n",
      "\n",
      "No frequency information was provided, so inferred frequency MS will be used.\n",
      "\n",
      "C:\\Users\\KAWAN\\anaconda3\\Lib\\site-packages\\statsmodels\\tsa\\statespace\\sarimax.py:997: UserWarning:\n",
      "\n",
      "Non-stationary starting seasonal autoregressive Using zeros as starting parameters.\n",
      "\n",
      "C:\\Users\\KAWAN\\anaconda3\\Lib\\site-packages\\statsmodels\\tsa\\base\\tsa_model.py:473: ValueWarning:\n",
      "\n",
      "No frequency information was provided, so inferred frequency MS will be used.\n",
      "\n",
      "C:\\Users\\KAWAN\\anaconda3\\Lib\\site-packages\\statsmodels\\tsa\\base\\tsa_model.py:473: ValueWarning:\n",
      "\n",
      "No frequency information was provided, so inferred frequency MS will be used.\n",
      "\n",
      "C:\\Users\\KAWAN\\anaconda3\\Lib\\site-packages\\statsmodels\\tsa\\base\\tsa_model.py:473: ValueWarning:\n",
      "\n",
      "No frequency information was provided, so inferred frequency MS will be used.\n",
      "\n",
      "C:\\Users\\KAWAN\\anaconda3\\Lib\\site-packages\\statsmodels\\tsa\\base\\tsa_model.py:473: ValueWarning:\n",
      "\n",
      "No frequency information was provided, so inferred frequency MS will be used.\n",
      "\n"
     ]
    },
    {
     "name": "stdout",
     "output_type": "stream",
     "text": [
      "                       AIC          BIC         HQIC  Log Likelihood  \\\n",
      "SARIMA(1,0,0)  3555.819465  3571.854717  3562.165283    -1773.909732   \n",
      "SARIMA(0,0,1)  4656.563121  4672.598374  4662.908939    -2324.281561   \n",
      "SARIMA(1,0,1)  3334.711731  3354.755797  3342.644004    -1662.355866   \n",
      "SARIMA(1,1,0)  3222.928155  3238.953567  3229.270697    -1607.464077   \n",
      "SARIMA(0,1,1)  3322.120136  3338.145549  3328.462678    -1657.060068   \n",
      "SARIMA(1,1,1)  3221.495116  3241.526882  3229.423294    -1605.747558   \n",
      "SARIMA(2,0,0)  3236.414709  3256.458775  3244.346982    -1613.207355   \n",
      "SARIMA(2,1,2)  3225.219138  3253.263610  3236.318587    -1605.609569   \n",
      "SARIMA(2,1,1)  3223.417472  3247.455591  3232.931285    -1605.708736   \n",
      "\n",
      "               Convergência  Iterações  \n",
      "SARIMA(1,0,0)          True         16  \n",
      "SARIMA(0,0,1)          True         46  \n",
      "SARIMA(1,0,1)          True         40  \n",
      "SARIMA(1,1,0)          True         12  \n",
      "SARIMA(0,1,1)          True         21  \n",
      "SARIMA(1,1,1)          True         24  \n",
      "SARIMA(2,0,0)          True         23  \n",
      "SARIMA(2,1,2)          True         37  \n",
      "SARIMA(2,1,1)          True         43  \n"
     ]
    }
   ],
   "source": [
    "import pandas as pd\n",
    "from statsmodels.tsa.statespace.sarimax import SARIMAX\n",
    "\n",
    "dados = ipca['VALUE (-)']\n",
    "tamanho_treino = int(len(dados) * 0.75)\n",
    "treino = dados[:tamanho_treino]\n",
    "\n",
    "modelos = [(1, 0, 0), (0, 0, 1), (1, 0, 1), (1, 1, 0), (0, 1, 1), (1, 1, 1), (2, 0, 0),(2,1,2),(2,1,1)]\n",
    "resultados = {}\n",
    "\n",
    "for p, d, q in modelos:\n",
    "    try:\n",
    "        modelo = SARIMAX(\n",
    "            treino,\n",
    "            order=(p, d, q),\n",
    "            seasonal_order=(1, 0, 0, 12),\n",
    "            trend='t'\n",
    "        )\n",
    "        resultado = modelo.fit(disp=False)\n",
    "        \n",
    "        resultados[f'SARIMA({p},{d},{q})'] = {\n",
    "            'AIC': resultado.aic,\n",
    "            'BIC': resultado.bic,\n",
    "            'HQIC': resultado.hqic,\n",
    "            'Log Likelihood': resultado.llf,\n",
    "            'Convergência': resultado.mle_retvals['converged'],\n",
    "            'Iterações': resultado.mle_retvals['iterations']\n",
    "        }\n",
    "    except Exception as e:\n",
    "        resultados[f'SARIMA({p},{d},{q})'] = {'Erro': str(e)}\n",
    "\n",
    "df_resultados = pd.DataFrame.from_dict(resultados, orient='index')\n",
    "print(df_resultados)"
   ]
  },
  {
   "cell_type": "code",
   "execution_count": null,
   "id": "301df074-70d3-4e02-a6dd-1c46b6f98a4e",
   "metadata": {},
   "outputs": [],
   "source": []
  },
  {
   "cell_type": "code",
   "execution_count": null,
   "id": "4741d749-3361-4ab3-9835-229da1b3a65c",
   "metadata": {},
   "outputs": [],
   "source": []
  },
  {
   "cell_type": "markdown",
   "id": "f7268485-96e7-4413-bc7f-0a06144fab11",
   "metadata": {},
   "source": [
    "#### Arima IPCA"
   ]
  },
  {
   "cell_type": "code",
   "execution_count": 256,
   "id": "525e83ec-5cb4-4eb6-bdff-ab367b9d0d9a",
   "metadata": {},
   "outputs": [
    {
     "name": "stderr",
     "output_type": "stream",
     "text": [
      "C:\\Users\\KAWAN\\anaconda3\\Lib\\site-packages\\statsmodels\\tsa\\base\\tsa_model.py:473: ValueWarning:\n",
      "\n",
      "No frequency information was provided, so inferred frequency MS will be used.\n",
      "\n",
      "C:\\Users\\KAWAN\\anaconda3\\Lib\\site-packages\\statsmodels\\tsa\\base\\tsa_model.py:473: ValueWarning:\n",
      "\n",
      "No frequency information was provided, so inferred frequency MS will be used.\n",
      "\n",
      "C:\\Users\\KAWAN\\anaconda3\\Lib\\site-packages\\statsmodels\\tsa\\base\\tsa_model.py:473: ValueWarning:\n",
      "\n",
      "No frequency information was provided, so inferred frequency MS will be used.\n",
      "\n",
      "C:\\Users\\KAWAN\\anaconda3\\Lib\\site-packages\\statsmodels\\tsa\\statespace\\sarimax.py:966: UserWarning:\n",
      "\n",
      "Non-stationary starting autoregressive parameters found. Using zeros as starting parameters.\n",
      "\n",
      "C:\\Users\\KAWAN\\anaconda3\\Lib\\site-packages\\statsmodels\\tsa\\base\\tsa_model.py:473: ValueWarning:\n",
      "\n",
      "No frequency information was provided, so inferred frequency MS will be used.\n",
      "\n",
      "C:\\Users\\KAWAN\\anaconda3\\Lib\\site-packages\\statsmodels\\tsa\\base\\tsa_model.py:473: ValueWarning:\n",
      "\n",
      "No frequency information was provided, so inferred frequency MS will be used.\n",
      "\n",
      "C:\\Users\\KAWAN\\anaconda3\\Lib\\site-packages\\statsmodels\\tsa\\base\\tsa_model.py:473: ValueWarning:\n",
      "\n",
      "No frequency information was provided, so inferred frequency MS will be used.\n",
      "\n",
      "C:\\Users\\KAWAN\\anaconda3\\Lib\\site-packages\\statsmodels\\tsa\\statespace\\sarimax.py:978: UserWarning:\n",
      "\n",
      "Non-invertible starting MA parameters found. Using zeros as starting parameters.\n",
      "\n",
      "C:\\Users\\KAWAN\\anaconda3\\Lib\\site-packages\\statsmodels\\tsa\\base\\tsa_model.py:473: ValueWarning:\n",
      "\n",
      "No frequency information was provided, so inferred frequency MS will be used.\n",
      "\n",
      "C:\\Users\\KAWAN\\anaconda3\\Lib\\site-packages\\statsmodels\\tsa\\base\\tsa_model.py:473: ValueWarning:\n",
      "\n",
      "No frequency information was provided, so inferred frequency MS will be used.\n",
      "\n",
      "C:\\Users\\KAWAN\\anaconda3\\Lib\\site-packages\\statsmodels\\tsa\\base\\tsa_model.py:473: ValueWarning:\n",
      "\n",
      "No frequency information was provided, so inferred frequency MS will be used.\n",
      "\n",
      "C:\\Users\\KAWAN\\anaconda3\\Lib\\site-packages\\statsmodels\\tsa\\statespace\\sarimax.py:966: UserWarning:\n",
      "\n",
      "Non-stationary starting autoregressive parameters found. Using zeros as starting parameters.\n",
      "\n",
      "C:\\Users\\KAWAN\\anaconda3\\Lib\\site-packages\\statsmodels\\tsa\\base\\tsa_model.py:473: ValueWarning:\n",
      "\n",
      "No frequency information was provided, so inferred frequency MS will be used.\n",
      "\n",
      "C:\\Users\\KAWAN\\anaconda3\\Lib\\site-packages\\statsmodels\\tsa\\base\\tsa_model.py:473: ValueWarning:\n",
      "\n",
      "No frequency information was provided, so inferred frequency MS will be used.\n",
      "\n",
      "C:\\Users\\KAWAN\\anaconda3\\Lib\\site-packages\\statsmodels\\tsa\\base\\tsa_model.py:473: ValueWarning:\n",
      "\n",
      "No frequency information was provided, so inferred frequency MS will be used.\n",
      "\n",
      "C:\\Users\\KAWAN\\anaconda3\\Lib\\site-packages\\statsmodels\\tsa\\base\\tsa_model.py:473: ValueWarning:\n",
      "\n",
      "No frequency information was provided, so inferred frequency MS will be used.\n",
      "\n",
      "C:\\Users\\KAWAN\\anaconda3\\Lib\\site-packages\\statsmodels\\tsa\\base\\tsa_model.py:473: ValueWarning:\n",
      "\n",
      "No frequency information was provided, so inferred frequency MS will be used.\n",
      "\n",
      "C:\\Users\\KAWAN\\anaconda3\\Lib\\site-packages\\statsmodels\\tsa\\base\\tsa_model.py:473: ValueWarning:\n",
      "\n",
      "No frequency information was provided, so inferred frequency MS will be used.\n",
      "\n",
      "C:\\Users\\KAWAN\\anaconda3\\Lib\\site-packages\\statsmodels\\tsa\\base\\tsa_model.py:473: ValueWarning:\n",
      "\n",
      "No frequency information was provided, so inferred frequency MS will be used.\n",
      "\n",
      "C:\\Users\\KAWAN\\anaconda3\\Lib\\site-packages\\statsmodels\\tsa\\base\\tsa_model.py:473: ValueWarning:\n",
      "\n",
      "No frequency information was provided, so inferred frequency MS will be used.\n",
      "\n",
      "C:\\Users\\KAWAN\\anaconda3\\Lib\\site-packages\\statsmodels\\tsa\\base\\tsa_model.py:473: ValueWarning:\n",
      "\n",
      "No frequency information was provided, so inferred frequency MS will be used.\n",
      "\n",
      "C:\\Users\\KAWAN\\anaconda3\\Lib\\site-packages\\statsmodels\\tsa\\base\\tsa_model.py:473: ValueWarning:\n",
      "\n",
      "No frequency information was provided, so inferred frequency MS will be used.\n",
      "\n",
      "C:\\Users\\KAWAN\\anaconda3\\Lib\\site-packages\\statsmodels\\tsa\\base\\tsa_model.py:473: ValueWarning:\n",
      "\n",
      "No frequency information was provided, so inferred frequency MS will be used.\n",
      "\n",
      "C:\\Users\\KAWAN\\anaconda3\\Lib\\site-packages\\statsmodels\\tsa\\base\\tsa_model.py:473: ValueWarning:\n",
      "\n",
      "No frequency information was provided, so inferred frequency MS will be used.\n",
      "\n",
      "C:\\Users\\KAWAN\\anaconda3\\Lib\\site-packages\\statsmodels\\tsa\\statespace\\sarimax.py:966: UserWarning:\n",
      "\n",
      "Non-stationary starting autoregressive parameters found. Using zeros as starting parameters.\n",
      "\n",
      "C:\\Users\\KAWAN\\anaconda3\\Lib\\site-packages\\statsmodels\\tsa\\base\\tsa_model.py:473: ValueWarning:\n",
      "\n",
      "No frequency information was provided, so inferred frequency MS will be used.\n",
      "\n",
      "C:\\Users\\KAWAN\\anaconda3\\Lib\\site-packages\\statsmodels\\tsa\\base\\tsa_model.py:473: ValueWarning:\n",
      "\n",
      "No frequency information was provided, so inferred frequency MS will be used.\n",
      "\n",
      "C:\\Users\\KAWAN\\anaconda3\\Lib\\site-packages\\statsmodels\\tsa\\base\\tsa_model.py:473: ValueWarning:\n",
      "\n",
      "No frequency information was provided, so inferred frequency MS will be used.\n",
      "\n",
      "C:\\Users\\KAWAN\\anaconda3\\Lib\\site-packages\\statsmodels\\tsa\\base\\tsa_model.py:473: ValueWarning:\n",
      "\n",
      "No frequency information was provided, so inferred frequency MS will be used.\n",
      "\n",
      "C:\\Users\\KAWAN\\anaconda3\\Lib\\site-packages\\statsmodels\\tsa\\base\\tsa_model.py:473: ValueWarning:\n",
      "\n",
      "No frequency information was provided, so inferred frequency MS will be used.\n",
      "\n",
      "C:\\Users\\KAWAN\\anaconda3\\Lib\\site-packages\\statsmodels\\tsa\\base\\tsa_model.py:473: ValueWarning:\n",
      "\n",
      "No frequency information was provided, so inferred frequency MS will be used.\n",
      "\n",
      "C:\\Users\\KAWAN\\anaconda3\\Lib\\site-packages\\statsmodels\\tsa\\statespace\\sarimax.py:966: UserWarning:\n",
      "\n",
      "Non-stationary starting autoregressive parameters found. Using zeros as starting parameters.\n",
      "\n",
      "C:\\Users\\KAWAN\\anaconda3\\Lib\\site-packages\\statsmodels\\tsa\\statespace\\sarimax.py:978: UserWarning:\n",
      "\n",
      "Non-invertible starting MA parameters found. Using zeros as starting parameters.\n",
      "\n"
     ]
    },
    {
     "name": "stdout",
     "output_type": "stream",
     "text": [
      "                      AIC          BIC         HQIC  Log Likelihood  \\\n",
      "ARIMA(1,0,0)  3675.196709  3687.223148  3679.956072    -1834.598354   \n",
      "ARIMA(0,0,1)  6416.895944  6428.922384  6421.655308    -3205.447972   \n",
      "ARIMA(1,0,1)  3414.922261  3430.957514  3421.268079    -1703.461131   \n",
      "ARIMA(1,1,0)  3234.262778  3242.275485  3237.434049    -1615.131389   \n",
      "ARIMA(0,1,1)  3392.934874  3400.947580  3396.106145    -1694.467437   \n",
      "ARIMA(1,1,1)  3234.815632  3246.834691  3239.572538    -1614.407816   \n",
      "ARIMA(2,0,0)  3256.143843  3272.179096  3262.489661    -1624.071921   \n",
      "ARIMA(2,1,2)  3228.361639  3248.393405  3236.289816    -1609.180819   \n",
      "ARIMA(2,1,1)  3236.278868  3252.304280  3242.621410    -1614.139434   \n",
      "\n",
      "              Convergência  Iterações  \n",
      "ARIMA(1,0,0)          True         31  \n",
      "ARIMA(0,0,1)          True         14  \n",
      "ARIMA(1,0,1)          True         33  \n",
      "ARIMA(1,1,0)          True          5  \n",
      "ARIMA(0,1,1)          True         11  \n",
      "ARIMA(1,1,1)          True          8  \n",
      "ARIMA(2,0,0)          True         41  \n",
      "ARIMA(2,1,2)          True         33  \n",
      "ARIMA(2,1,1)          True         24  \n"
     ]
    }
   ],
   "source": [
    "import pandas as pd\n",
    "from statsmodels.tsa.arima.model import ARIMA\n",
    "\n",
    "dados = ipca['VALUE (-)']\n",
    "tamanho_treino = int(len(dados) * 0.75)\n",
    "treino = dados[:tamanho_treino]\n",
    "\n",
    "modelos = [(1, 0, 0), (0, 0, 1), (1, 0, 1), (1, 1, 0), (0, 1, 1), (1, 1, 1),(2, 0, 0),(2,1,2),(2,1,1)]\n",
    "resultados = {}\n",
    "\n",
    "for p, d, q in modelos:\n",
    "    try:\n",
    "        modelo = ARIMA(treino, order=(p, d, q))\n",
    "        resultado = modelo.fit()\n",
    "        \n",
    "        resultados[f'ARIMA({p},{d},{q})'] = {\n",
    "            'AIC': resultado.aic,\n",
    "            'BIC': resultado.bic,\n",
    "            'HQIC': getattr(resultado, 'hqic', float('nan')),  # Algumas versões não têm HQIC\n",
    "            'Log Likelihood': resultado.llf,\n",
    "            'Convergência': resultado.mle_retvals['converged'],\n",
    "            'Iterações': resultado.mle_retvals['iterations']\n",
    "        }\n",
    "    except Exception as e:\n",
    "        resultados[f'ARIMA({p},{d},{q})'] = {'Erro': str(e)}\n",
    "\n",
    "df_resultados = pd.DataFrame.from_dict(resultados, orient='index')\n",
    "print(df_resultados)"
   ]
  },
  {
   "cell_type": "code",
   "execution_count": null,
   "id": "5512e9c2-0c2a-46aa-b14e-03c635f190fc",
   "metadata": {},
   "outputs": [],
   "source": []
  },
  {
   "cell_type": "code",
   "execution_count": null,
   "id": "154b633d-3a9d-4e29-a0dc-759f361dd7a5",
   "metadata": {},
   "outputs": [],
   "source": []
  },
  {
   "cell_type": "code",
   "execution_count": null,
   "id": "27e850d8-13f7-4540-9184-f19d00656347",
   "metadata": {},
   "outputs": [],
   "source": []
  },
  {
   "cell_type": "code",
   "execution_count": null,
   "id": "224802a5-c327-4e0f-a2cc-4786518f35e3",
   "metadata": {},
   "outputs": [],
   "source": []
  },
  {
   "cell_type": "markdown",
   "id": "3d952b46-cc78-4e6b-85ce-be88c879d923",
   "metadata": {},
   "source": [
    "#### 2. Diagnóstico IPCA"
   ]
  },
  {
   "cell_type": "code",
   "execution_count": 231,
   "id": "e9e17eb4-07d4-4ded-8292-a7e59e096aa8",
   "metadata": {},
   "outputs": [
    {
     "name": "stderr",
     "output_type": "stream",
     "text": [
      "C:\\Users\\KAWAN\\anaconda3\\Lib\\site-packages\\statsmodels\\tsa\\base\\tsa_model.py:473: ValueWarning:\n",
      "\n",
      "No frequency information was provided, so inferred frequency MS will be used.\n",
      "\n",
      "C:\\Users\\KAWAN\\anaconda3\\Lib\\site-packages\\statsmodels\\tsa\\base\\tsa_model.py:473: ValueWarning:\n",
      "\n",
      "No frequency information was provided, so inferred frequency MS will be used.\n",
      "\n",
      "C:\\Users\\KAWAN\\anaconda3\\Lib\\site-packages\\statsmodels\\tsa\\base\\tsa_model.py:473: ValueWarning:\n",
      "\n",
      "No frequency information was provided, so inferred frequency MS will be used.\n",
      "\n",
      "C:\\Users\\KAWAN\\anaconda3\\Lib\\site-packages\\statsmodels\\tsa\\statespace\\sarimax.py:966: UserWarning:\n",
      "\n",
      "Non-stationary starting autoregressive parameters found. Using zeros as starting parameters.\n",
      "\n",
      "C:\\Users\\KAWAN\\anaconda3\\Lib\\site-packages\\statsmodels\\tsa\\statespace\\sarimax.py:978: UserWarning:\n",
      "\n",
      "Non-invertible starting MA parameters found. Using zeros as starting parameters.\n",
      "\n",
      "C:\\Users\\KAWAN\\anaconda3\\Lib\\site-packages\\statsmodels\\base\\model.py:607: ConvergenceWarning:\n",
      "\n",
      "Maximum Likelihood optimization failed to converge. Check mle_retvals\n",
      "\n",
      "C:\\Users\\KAWAN\\anaconda3\\Lib\\site-packages\\statsmodels\\graphics\\gofplots.py:1043: UserWarning:\n",
      "\n",
      "color is redundantly defined by the 'color' keyword argument and the fmt string \"b\" (-> color=(0.0, 0.0, 1.0, 1)). The keyword argument will take precedence.\n",
      "\n"
     ]
    },
    {
     "name": "stdout",
     "output_type": "stream",
     "text": [
      "\n",
      "============================================================\n",
      "DIAGNÓSTICO COMPLETO - ARIMA(2,1,2) PARA IPCA\n",
      "============================================================\n",
      "\n",
      "► TESTE DE AUTOCORRELAÇÃO (Ljung-Box):\n",
      "   - Lag usado: 10\n",
      "   - Estatística do teste: 3.6542\n",
      "   - p-valor: 0.9616 (ruído branco)\n",
      "\n",
      "► RESUMO DO MODELO:\n",
      "                               SARIMAX Results                                \n",
      "==============================================================================\n",
      "Dep. Variable:              VALUE (-)   No. Observations:                  543\n",
      "Model:                 ARIMA(2, 1, 2)   Log Likelihood               -2229.217\n",
      "Date:                Tue, 25 Mar 2025   AIC                           4468.434\n",
      "Time:                        16:18:56   BIC                           4489.910\n",
      "Sample:                    12-01-1979   HQIC                          4476.831\n",
      "                         - 02-01-2025                                         \n",
      "Covariance Type:                  opg                                         \n",
      "==============================================================================\n",
      "                 coef    std err          z      P>|z|      [0.025      0.975]\n",
      "------------------------------------------------------------------------------\n",
      "ar.L1          1.6780      0.045     37.624      0.000       1.591       1.765\n",
      "ar.L2         -0.6783      0.044    -15.566      0.000      -0.764      -0.593\n",
      "ma.L1         -0.9854      0.054    -18.376      0.000      -1.090      -0.880\n",
      "ma.L2          0.0053      0.042      0.126      0.900      -0.077       0.088\n",
      "sigma2       218.0643      2.987     72.993      0.000     212.209     223.920\n",
      "===================================================================================\n",
      "Ljung-Box (L1) (Q):                   0.01   Jarque-Bera (JB):             33528.47\n",
      "Prob(Q):                              0.93   Prob(JB):                         0.00\n",
      "Heteroskedasticity (H):               0.92   Skew:                             1.08\n",
      "Prob(H) (two-sided):                  0.56   Kurtosis:                        41.47\n",
      "===================================================================================\n",
      "\n",
      "Warnings:\n",
      "[1] Covariance matrix calculated using the outer product of gradients (complex-step).\n"
     ]
    },
    {
     "data": {
      "image/png": "[encoded data removed]",
      "text/plain": [
       "<Figure size 1400x1000 with 4 Axes>"
      ]
     },
     "metadata": {},
     "output_type": "display_data"
    }
   ],
   "source": [
    "import pandas as pd\n",
    "import matplotlib.pyplot as plt\n",
    "from statsmodels.tsa.arima.model import ARIMA\n",
    "from statsmodels.stats.diagnostic import acorr_ljungbox\n",
    "from statsmodels.graphics.tsaplots import plot_acf\n",
    "from statsmodels.graphics.gofplots import qqplot\n",
    "\n",
    "# 1. Carregar os dados do IPCA\n",
    "dados = ipca['VALUE (-)']  # Substitua pelo nome real da sua coluna\n",
    "\n",
    "# 2. Ajustar o modelo ARIMA(2,1,2)\n",
    "try:\n",
    "    modelo = ARIMA(dados, order=(2, 1, 2))\n",
    "    resultado = modelo.fit()\n",
    "    \n",
    "    # 3. Obter os resíduos\n",
    "    residuos = resultado.resid.dropna()\n",
    "    \n",
    "    # 4. Configurar os gráficos de diagnóstico\n",
    "    fig, axes = plt.subplots(2, 2, figsize=(14, 10))\n",
    "    fig.suptitle('Diagnóstico dos Resíduos - ARIMA(2,1,2) para IPCA', y=1.02, fontsize=14)\n",
    "    \n",
    "    # Gráfico 1: Série Temporal dos Resíduos\n",
    "    axes[0,0].plot(residuos, color='#1f77b4')\n",
    "    axes[0,0].axhline(0, color='red', linestyle='--', alpha=0.7)\n",
    "    axes[0,0].set_title('a) Resíduos ao Longo do Tempo', pad=12)\n",
    "    axes[0,0].grid(alpha=0.3)\n",
    "    \n",
    "    # Gráfico 2: Distribuição\n",
    "    axes[0,1].hist(residuos, bins=15, density=True, color='#1f77b4', alpha=0.7)\n",
    "    residuos.plot(kind='kde', ax=axes[0,1], color='#d62728', linewidth=2)\n",
    "    axes[0,1].set_title('b) Distribuição dos Resíduos', pad=12)\n",
    "    axes[0,1].grid(alpha=0.3)\n",
    "    \n",
    "    # Gráfico 3: ACF\n",
    "    plot_acf(residuos, lags=20, ax=axes[1,0], color='#1f77b4')\n",
    "    axes[1,0].set_title('c) Autocorrelação (ACF)', pad=12)\n",
    "    axes[1,0].grid(alpha=0.3)\n",
    "    \n",
    "    # Gráfico 4: QQ-Plot\n",
    "    qqplot(residuos, line='s', ax=axes[1,1], color='#1f77b4', markerfacecolor='#2ca02c')\n",
    "    axes[1,1].set_title('d) Normalidade (Q-Q Plot)', pad=12)\n",
    "    axes[1,1].grid(alpha=0.3)\n",
    "    \n",
    "    plt.tight_layout()\n",
    "    \n",
    "    # 5. Teste de Ljung-Box\n",
    "    lb_test = acorr_ljungbox(residuos, lags=[10], return_df=True)\n",
    "    p_value = lb_test['lb_pvalue'].values[0]\n",
    "    \n",
    "    # 6. Resultados Numéricos\n",
    "    print(\"\\n\" + \"=\"*60)\n",
    "    print(\"DIAGNÓSTICO COMPLETO - ARIMA(2,1,2) PARA IPCA\")\n",
    "    print(\"=\"*60)\n",
    "    \n",
    "    print(\"\\n► TESTE DE AUTOCORRELAÇÃO (Ljung-Box):\")\n",
    "    print(f\"   - Lag usado: 10\")\n",
    "    print(f\"   - Estatística do teste: {lb_test['lb_stat'].values[0]:.4f}\")\n",
    "    print(f\"   - p-valor: {p_value:.4f} {'(ruído branco)' if p_value > 0.05 else '(autocorrelação)'}\")\n",
    "    \n",
    "    print(\"\\n► RESUMO DO MODELO:\")\n",
    "    print(resultado.summary())\n",
    "    \n",
    "    plt.show()\n",
    "\n",
    "except Exception as e:\n",
    "    print(f\"\\n❌ Erro no ARIMA(2,1,2): {str(e)}\")"
   ]
  },
  {
   "cell_type": "code",
   "execution_count": null,
   "id": "5dd2cb9c-1f0c-4b38-a7b2-b82778bd3b17",
   "metadata": {},
   "outputs": [],
   "source": []
  },
  {
   "cell_type": "code",
   "execution_count": null,
   "id": "fc920a74-f7a5-4479-9da0-81255a128c84",
   "metadata": {},
   "outputs": [],
   "source": []
  },
  {
   "cell_type": "markdown",
   "id": "9c83127f-9035-470e-a02d-57159baa3547",
   "metadata": {},
   "source": [
    "## Etapa 3 \n",
    "\n",
    "Faça uma previsão do PIB (trimestral) e da inflação(mensal) até o final de 2025."
   ]
  },
  {
   "cell_type": "code",
   "execution_count": null,
   "id": "f1f9463b-477a-466d-8258-2649597c11fa",
   "metadata": {},
   "outputs": [],
   "source": []
  },
  {
   "cell_type": "markdown",
   "id": "a65708e1-3514-49f3-ad1c-437878876414",
   "metadata": {},
   "source": [
    "### Previsão PIB trimestral"
   ]
  },
  {
   "cell_type": "code",
   "execution_count": null,
   "id": "ecb8c988-a61f-473e-971e-7af5c2f8f66c",
   "metadata": {},
   "outputs": [],
   "source": []
  },
  {
   "cell_type": "code",
   "execution_count": null,
   "id": "ab1e4486-74e4-43e8-9de8-f5dd135b1a50",
   "metadata": {},
   "outputs": [],
   "source": []
  },
  {
   "cell_type": "markdown",
   "id": "ea01a438-0dfa-414e-9e2b-09bf8c344169",
   "metadata": {},
   "source": [
    "#### Previsão ARIMA(3,1,3)"
   ]
  },
  {
   "cell_type": "code",
   "execution_count": 195,
   "id": "c93ab97a-a6e7-40ea-8fbd-6a561e96d9e1",
   "metadata": {},
   "outputs": [
    {
     "name": "stderr",
     "output_type": "stream",
     "text": [
      "C:\\Users\\KAWAN\\anaconda3\\Lib\\site-packages\\statsmodels\\tsa\\base\\tsa_model.py:473: ValueWarning:\n",
      "\n",
      "No frequency information was provided, so inferred frequency QS-OCT will be used.\n",
      "\n",
      "C:\\Users\\KAWAN\\anaconda3\\Lib\\site-packages\\statsmodels\\tsa\\base\\tsa_model.py:473: ValueWarning:\n",
      "\n",
      "No frequency information was provided, so inferred frequency QS-OCT will be used.\n",
      "\n",
      "C:\\Users\\KAWAN\\anaconda3\\Lib\\site-packages\\statsmodels\\tsa\\base\\tsa_model.py:473: ValueWarning:\n",
      "\n",
      "No frequency information was provided, so inferred frequency QS-OCT will be used.\n",
      "\n",
      "C:\\Users\\KAWAN\\AppData\\Local\\Temp\\ipykernel_8668\\861037771.py:26: FutureWarning:\n",
      "\n",
      "'Q' is deprecated and will be removed in a future version, please use 'QE' instead.\n",
      "\n"
     ]
    },
    {
     "data": {
      "image/png": "[encoded data removed]",
      "text/plain": [
       "<Figure size 1200x600 with 1 Axes>"
      ]
     },
     "metadata": {},
     "output_type": "display_data"
    },
    {
     "name": "stdout",
     "output_type": "stream",
     "text": [
      "\n",
      "Previsão para os próximos 12 trimestres:\n",
      "                 Data  Previsão  Limite Inferior  Limite Superior\n",
      "2025-01-01 2025-03-31    187.17           181.39           192.95\n",
      "2025-04-01 2025-06-30    188.77           180.72           196.82\n",
      "2025-07-01 2025-09-30    193.11           183.19           203.02\n",
      "2025-10-01 2025-12-31    189.56           178.28           200.85\n",
      "2026-01-01 2026-03-31    187.13           174.45           199.80\n",
      "2026-04-01 2026-06-30    188.81           174.95           202.67\n",
      "2026-07-01 2026-09-30    193.06           178.05           208.08\n",
      "2026-10-01 2026-12-31    189.61           173.65           205.57\n",
      "2027-01-01 2027-03-31    187.09           170.12           204.05\n",
      "2027-04-01 2027-06-30    188.84           170.97           206.72\n",
      "2027-07-01 2027-09-30    193.02           174.24           211.80\n",
      "2027-10-01 2027-12-31    189.65           170.11           209.20\n",
      "\n",
      "🔎 Resumo do Modelo ARIMA(3,1,3):\n",
      "                               SARIMAX Results                                \n",
      "==============================================================================\n",
      "Dep. Variable:              VALUE (-)   No. Observations:                  116\n",
      "Model:                 ARIMA(3, 1, 3)   Log Likelihood                -290.909\n",
      "Date:                Tue, 25 Mar 2025   AIC                            595.817\n",
      "Time:                        15:47:51   BIC                            615.032\n",
      "Sample:                    01-01-1996   HQIC                           603.617\n",
      "                         - 10-01-2024                                         \n",
      "Covariance Type:                  opg                                         \n",
      "==============================================================================\n",
      "                 coef    std err          z      P>|z|      [0.025      0.975]\n",
      "------------------------------------------------------------------------------\n",
      "ar.L1         -0.9766      0.065    -14.958      0.000      -1.105      -0.849\n",
      "ar.L2         -0.9990      0.009   -113.164      0.000      -1.016      -0.982\n",
      "ar.L3         -0.9772      0.065    -15.108      0.000      -1.104      -0.850\n",
      "ma.L1          0.9462      0.086     11.053      0.000       0.778       1.114\n",
      "ma.L2          1.0127      0.225      4.508      0.000       0.572       1.453\n",
      "ma.L3          0.9202      0.243      3.786      0.000       0.444       1.397\n",
      "sigma2         8.5943      1.266      6.787      0.000       6.112      11.076\n",
      "===================================================================================\n",
      "Ljung-Box (L1) (Q):                   0.09   Jarque-Bera (JB):              1460.21\n",
      "Prob(Q):                              0.76   Prob(JB):                         0.00\n",
      "Heteroskedasticity (H):               5.31   Skew:                            -2.12\n",
      "Prob(H) (two-sided):                  0.00   Kurtosis:                        19.93\n",
      "===================================================================================\n",
      "\n",
      "Warnings:\n",
      "[1] Covariance matrix calculated using the outer product of gradients (complex-step).\n"
     ]
    }
   ],
   "source": [
    "import pandas as pd\n",
    "import matplotlib.pyplot as plt\n",
    "from statsmodels.tsa.arima.model import ARIMA\n",
    "\n",
    "# Carregar os dados (substitua pelo seu DataFrame)\n",
    "dados = pib['VALUE (-)']\n",
    "\n",
    "# Ajustar o modelo ARIMA(3,1,3)\n",
    "modelo = ARIMA(\n",
    "    dados,\n",
    "    order=(3, 1, 3)  # ARIMA(p=3, d=1, q=3)\n",
    ")\n",
    "resultado = modelo.fit()\n",
    "\n",
    "# Fazer previsão para os próximos 12 períodos\n",
    "forecast_steps = 12\n",
    "previsao = resultado.get_forecast(steps=forecast_steps)\n",
    "previsao_media = previsao.predicted_mean\n",
    "intervalo_confianca = previsao.conf_int()\n",
    "\n",
    "# Criar índices para o período futuro\n",
    "ultimo_periodo = dados.index[-1]\n",
    "if isinstance(ultimo_periodo, str):  # Se for string (datas como texto)\n",
    "    futuro_index = pd.date_range(start=ultimo_periodo, periods=forecast_steps+1, freq='Q')[1:]\n",
    "else:  # Se já for datetime ou outro tipo\n",
    "    futuro_index = pd.date_range(start=ultimo_periodo, periods=forecast_steps+1, freq='Q')[1:]\n",
    "\n",
    "# Configurar o gráfico\n",
    "plt.figure(figsize=(12, 6))\n",
    "\n",
    "# Plotar dados históricos\n",
    "plt.plot(dados.index, dados, label='Dados Históricos', color='blue')\n",
    "\n",
    "# Plotar previsão\n",
    "plt.plot(futuro_index, previsao_media, label=f'Previsão ARIMA(3,1,3)', color='red', linestyle='--')\n",
    "\n",
    "# Plotar intervalo de confiança\n",
    "plt.fill_between(\n",
    "    futuro_index,\n",
    "    intervalo_confianca.iloc[:, 0],\n",
    "    intervalo_confianca.iloc[:, 1],\n",
    "    color='pink', alpha=0.3, label='Intervalo de 95% confiança'\n",
    ")\n",
    "\n",
    "# Ajustes estéticos\n",
    "plt.title(f'Previsão para os próximos {forecast_steps} trimestres - ARIMA(3,1,3)')\n",
    "plt.xlabel('Data')\n",
    "plt.ylabel('Valor')\n",
    "plt.legend()\n",
    "plt.grid(True)\n",
    "plt.xticks(rotation=45)\n",
    "plt.tight_layout()\n",
    "plt.show()\n",
    "\n",
    "# Mostrar os valores previstos em formato de tabela\n",
    "print(\"\\nPrevisão para os próximos 12 trimestres:\")\n",
    "print(pd.DataFrame({\n",
    "    'Data': futuro_index,\n",
    "    'Previsão': previsao_media,\n",
    "    'Limite Inferior': intervalo_confianca.iloc[:, 0],\n",
    "    'Limite Superior': intervalo_confianca.iloc[:, 1]\n",
    "}).round(2))\n",
    "\n",
    "# Mostrar resumo do modelo\n",
    "print(\"\\n🔎 Resumo do Modelo ARIMA(3,1,3):\")\n",
    "print(resultado.summary())"
   ]
  },
  {
   "cell_type": "code",
   "execution_count": null,
   "id": "c36118f8-33ec-4777-bfad-a6b59f43757f",
   "metadata": {},
   "outputs": [],
   "source": []
  },
  {
   "cell_type": "code",
   "execution_count": null,
   "id": "31d1def4-3708-453e-9582-ccaad377732c",
   "metadata": {},
   "outputs": [],
   "source": []
  },
  {
   "cell_type": "markdown",
   "id": "4e0ec012-8841-4a08-806a-fa9760d4a025",
   "metadata": {},
   "source": [
    "#### Previsão ARIMA (3,1,3) com tendência      (melhor modelo)"
   ]
  },
  {
   "cell_type": "code",
   "execution_count": 201,
   "id": "c3c8ea3d-23f9-434d-b396-483885195851",
   "metadata": {},
   "outputs": [
    {
     "name": "stderr",
     "output_type": "stream",
     "text": [
      "C:\\Users\\KAWAN\\anaconda3\\Lib\\site-packages\\statsmodels\\tsa\\base\\tsa_model.py:473: ValueWarning:\n",
      "\n",
      "No frequency information was provided, so inferred frequency QS-OCT will be used.\n",
      "\n",
      "C:\\Users\\KAWAN\\anaconda3\\Lib\\site-packages\\statsmodels\\tsa\\base\\tsa_model.py:473: ValueWarning:\n",
      "\n",
      "No frequency information was provided, so inferred frequency QS-OCT will be used.\n",
      "\n",
      "C:\\Users\\KAWAN\\anaconda3\\Lib\\site-packages\\statsmodels\\tsa\\base\\tsa_model.py:473: ValueWarning:\n",
      "\n",
      "No frequency information was provided, so inferred frequency QS-OCT will be used.\n",
      "\n",
      "C:\\Users\\KAWAN\\AppData\\Local\\Temp\\ipykernel_8668\\1580151607.py:24: FutureWarning:\n",
      "\n",
      "'Q' is deprecated and will be removed in a future version, please use 'QE' instead.\n",
      "\n"
     ]
    },
    {
     "data": {
      "image/png": "[encoded data removed]",
      "text/plain": [
       "<Figure size 1200x600 with 1 Axes>"
      ]
     },
     "metadata": {},
     "output_type": "display_data"
    },
    {
     "name": "stdout",
     "output_type": "stream",
     "text": [
      "\n",
      "📊 Previsão ARIMA(3,1,3) com Tendência:\n",
      "                 Data  Previsão  Lim. Inferior  Lim. Superior\n",
      "2025-01-01 2025-03-31    188.35         182.75         193.94\n",
      "2025-04-01 2025-06-30    190.34         182.60         198.07\n",
      "2025-07-01 2025-09-30    195.27         185.88         204.67\n",
      "2025-10-01 2025-12-31    192.68         182.05         203.31\n",
      "2026-01-01 2026-03-31    191.44         179.43         203.44\n",
      "2026-04-01 2026-06-30    193.51         180.36         206.65\n",
      "2026-07-01 2026-09-30    198.35         184.17         212.53\n",
      "2026-10-01 2026-12-31    195.84         180.81         210.88\n",
      "2027-01-01 2027-03-31    194.53         178.50         210.56\n",
      "2027-04-01 2027-06-30    196.67         179.77         213.58\n",
      "2027-07-01 2027-09-30    201.42         183.70         219.14\n",
      "2027-10-01 2027-12-31    199.00         180.59         217.42\n",
      "\n",
      "🔍 Resumo do Modelo:\n",
      "                               SARIMAX Results                                \n",
      "==============================================================================\n",
      "Dep. Variable:              VALUE (-)   No. Observations:                  116\n",
      "Model:                 ARIMA(3, 1, 3)   Log Likelihood                -286.376\n",
      "Date:                Tue, 25 Mar 2025   AIC                            588.751\n",
      "Time:                        15:53:41   BIC                            610.711\n",
      "Sample:                    01-01-1996   HQIC                           597.665\n",
      "                         - 10-01-2024                                         \n",
      "Covariance Type:                  opg                                         \n",
      "==============================================================================\n",
      "                 coef    std err          z      P>|z|      [0.025      0.975]\n",
      "------------------------------------------------------------------------------\n",
      "x1             0.7811      0.336      2.326      0.020       0.123       1.439\n",
      "ar.L1         -0.9798      0.060    -16.346      0.000      -1.097      -0.862\n",
      "ar.L2         -0.9987      0.010   -104.927      0.000      -1.017      -0.980\n",
      "ar.L3         -0.9780      0.060    -16.299      0.000      -1.096      -0.860\n",
      "ma.L1          0.9354      0.077     12.210      0.000       0.785       1.086\n",
      "ma.L2          0.9525      0.081     11.773      0.000       0.794       1.111\n",
      "ma.L3          0.8678      0.110      7.855      0.000       0.651       1.084\n",
      "sigma2         8.1425      0.658     12.378      0.000       6.853       9.432\n",
      "===================================================================================\n",
      "Ljung-Box (L1) (Q):                   0.03   Jarque-Bera (JB):              1239.14\n",
      "Prob(Q):                              0.87   Prob(JB):                         0.00\n",
      "Heteroskedasticity (H):               6.40   Skew:                            -2.00\n",
      "Prob(H) (two-sided):                  0.00   Kurtosis:                        18.58\n",
      "===================================================================================\n",
      "\n",
      "Warnings:\n",
      "[1] Covariance matrix calculated using the outer product of gradients (complex-step).\n",
      "\n",
      "Teste Ljung-Box (p-valor): 1.0000\n",
      "✅ Resíduos são ruído branco\n"
     ]
    }
   ],
   "source": [
    "import pandas as pd\n",
    "import matplotlib.pyplot as plt\n",
    "from statsmodels.tsa.arima.model import ARIMA\n",
    "\n",
    "# Dados (substitua pelo seu DataFrame)\n",
    "dados = pib['VALUE (-)']\n",
    "\n",
    "# Ajustar o modelo ARIMA(3,1,3) COM TENDÊNCIA\n",
    "modelo = ARIMA(\n",
    "    dados,\n",
    "    order=(3, 1, 3),\n",
    "    trend='t'  # 't' para tendência linear, 'ct' para constante + tendência\n",
    ")\n",
    "resultado = modelo.fit()\n",
    "\n",
    "# Previsão para 12 trimestres\n",
    "forecast_steps = 12\n",
    "previsao = resultado.get_forecast(steps=forecast_steps)\n",
    "previsao_media = previsao.predicted_mean\n",
    "intervalo_confianca = previsao.conf_int()\n",
    "\n",
    "# Criar índice futuro\n",
    "ultimo_periodo = dados.index[-1]\n",
    "futuro_index = pd.date_range(\n",
    "    start=ultimo_periodo, \n",
    "    periods=forecast_steps+1, \n",
    "    freq='Q'\n",
    ")[1:]  # Frequência trimestral\n",
    "\n",
    "# Gráfico\n",
    "plt.figure(figsize=(12, 6))\n",
    "plt.plot(dados.index, dados, label='Dados Históricos', color='blue')\n",
    "plt.plot(futuro_index, previsao_media, label='Previsão ARIMA(3,1,3) c/ Tendência', \n",
    "         color='red', linestyle='--')\n",
    "plt.fill_between(\n",
    "    futuro_index,\n",
    "    intervalo_confianca.iloc[:, 0],\n",
    "    intervalo_confianca.iloc[:, 1],\n",
    "    color='pink', alpha=0.3, label='IC 95%'\n",
    ")\n",
    "\n",
    "plt.title(f'Previsão para Próximos {forecast_steps} Trimestres - ARIMA(3,1,3) com Tendência')\n",
    "plt.xlabel('Data')\n",
    "plt.ylabel('Valor')\n",
    "plt.legend()\n",
    "plt.grid(True)\n",
    "plt.xticks(rotation=45)\n",
    "plt.tight_layout()\n",
    "plt.show()\n",
    "\n",
    "# Tabela de previsões\n",
    "print(\"\\n📊 Previsão ARIMA(3,1,3) com Tendência:\")\n",
    "print(pd.DataFrame({\n",
    "    'Data': futuro_index,\n",
    "    'Previsão': previsao_media,\n",
    "    'Lim. Inferior': intervalo_confianca.iloc[:, 0],\n",
    "    'Lim. Superior': intervalo_confianca.iloc[:, 1]\n",
    "}).round(2))\n",
    "\n",
    "# Diagnóstico do Modelo\n",
    "print(\"\\n🔍 Resumo do Modelo:\")\n",
    "print(resultado.summary())\n",
    "\n",
    "# Teste de ruído branco nos resíduos\n",
    "residuos = resultado.resid.dropna()\n",
    "lb_test = acorr_ljungbox(residuos, lags=[10], return_df=True)\n",
    "print(f\"\\nTeste Ljung-Box (p-valor): {lb_test['lb_pvalue'].values[0]:.4f}\")\n",
    "print(\"✅ Resíduos são ruído branco\" if lb_test['lb_pvalue'].values[0] > 0.05 else \"❌ Resíduos não são ruído branco\")"
   ]
  },
  {
   "cell_type": "code",
   "execution_count": null,
   "id": "6d8b274e-a39e-4db3-ae00-1bc01c41f21e",
   "metadata": {},
   "outputs": [],
   "source": []
  },
  {
   "cell_type": "markdown",
   "id": "cf58aaa0-9f7e-461f-8fa2-ea00962bb80a",
   "metadata": {},
   "source": [
    "### Previsão IPCA mensal"
   ]
  },
  {
   "cell_type": "code",
   "execution_count": null,
   "id": "deb72b73-f5ff-441c-a83f-6477bbdb64b2",
   "metadata": {},
   "outputs": [],
   "source": []
  },
  {
   "cell_type": "markdown",
   "id": "376e1e0b-0fd1-4429-8d82-605a564b9fb3",
   "metadata": {},
   "source": [
    "#### Previsão ARIMA(2,1,2) (melhor modelo)"
   ]
  },
  {
   "cell_type": "code",
   "execution_count": 235,
   "id": "10e9791a-147f-4241-a4df-8ae9a07ebb19",
   "metadata": {},
   "outputs": [
    {
     "name": "stderr",
     "output_type": "stream",
     "text": [
      "C:\\Users\\KAWAN\\anaconda3\\Lib\\site-packages\\statsmodels\\tsa\\base\\tsa_model.py:473: ValueWarning:\n",
      "\n",
      "No frequency information was provided, so inferred frequency MS will be used.\n",
      "\n",
      "C:\\Users\\KAWAN\\anaconda3\\Lib\\site-packages\\statsmodels\\tsa\\base\\tsa_model.py:473: ValueWarning:\n",
      "\n",
      "No frequency information was provided, so inferred frequency MS will be used.\n",
      "\n",
      "C:\\Users\\KAWAN\\anaconda3\\Lib\\site-packages\\statsmodels\\tsa\\base\\tsa_model.py:473: ValueWarning:\n",
      "\n",
      "No frequency information was provided, so inferred frequency MS will be used.\n",
      "\n",
      "C:\\Users\\KAWAN\\anaconda3\\Lib\\site-packages\\statsmodels\\tsa\\statespace\\sarimax.py:966: UserWarning:\n",
      "\n",
      "Non-stationary starting autoregressive parameters found. Using zeros as starting parameters.\n",
      "\n",
      "C:\\Users\\KAWAN\\anaconda3\\Lib\\site-packages\\statsmodels\\tsa\\statespace\\sarimax.py:978: UserWarning:\n",
      "\n",
      "Non-invertible starting MA parameters found. Using zeros as starting parameters.\n",
      "\n",
      "C:\\Users\\KAWAN\\anaconda3\\Lib\\site-packages\\statsmodels\\base\\model.py:607: ConvergenceWarning:\n",
      "\n",
      "Maximum Likelihood optimization failed to converge. Check mle_retvals\n",
      "\n",
      "C:\\Users\\KAWAN\\AppData\\Local\\Temp\\ipykernel_8668\\4013204321.py:26: FutureWarning:\n",
      "\n",
      "'M' is deprecated and will be removed in a future version, please use 'ME' instead.\n",
      "\n"
     ]
    },
    {
     "name": "stdout",
     "output_type": "stream",
     "text": [
      "\n",
      "📊 Previsão do IPCA para os próximos 12 meses:\n",
      "   Data  Previsão (%)  Lim. Inferior (%)  Lim. Superior (%)\n",
      "2025-03       7276.88            7247.93            7305.82\n",
      "2025-04       7334.65            7277.75            7391.55\n",
      "2025-05       7382.84            7297.84            7467.84\n",
      "2025-06       7424.53            7312.29            7536.77\n",
      "2025-07       7461.79            7323.52            7600.05\n",
      "2025-08       7496.02            7333.01            7659.03\n",
      "2025-09       7528.19            7341.66            7714.72\n",
      "2025-10       7558.95            7350.00            7767.90\n",
      "2025-11       7588.74            7358.34            7819.14\n",
      "2025-12       7617.87            7366.87            7868.86\n",
      "2026-01       7646.52            7375.66            7917.39\n",
      "2026-02       7674.86            7384.75            7964.96\n",
      "\n",
      "🔎 Resumo do Modelo ARIMA(2,1,2):\n",
      "                               SARIMAX Results                                \n",
      "==============================================================================\n",
      "Dep. Variable:              VALUE (-)   No. Observations:                  543\n",
      "Model:                 ARIMA(2, 1, 2)   Log Likelihood               -2229.217\n",
      "Date:                Tue, 25 Mar 2025   AIC                           4468.434\n",
      "Time:                        16:24:53   BIC                           4489.910\n",
      "Sample:                    12-01-1979   HQIC                          4476.831\n",
      "                         - 02-01-2025                                         \n",
      "Covariance Type:                  opg                                         \n",
      "==============================================================================\n",
      "                 coef    std err          z      P>|z|      [0.025      0.975]\n",
      "------------------------------------------------------------------------------\n",
      "ar.L1          1.6780      0.045     37.624      0.000       1.591       1.765\n",
      "ar.L2         -0.6783      0.044    -15.566      0.000      -0.764      -0.593\n",
      "ma.L1         -0.9854      0.054    -18.376      0.000      -1.090      -0.880\n",
      "ma.L2          0.0053      0.042      0.126      0.900      -0.077       0.088\n",
      "sigma2       218.0643      2.987     72.993      0.000     212.209     223.920\n",
      "===================================================================================\n",
      "Ljung-Box (L1) (Q):                   0.01   Jarque-Bera (JB):             33528.47\n",
      "Prob(Q):                              0.93   Prob(JB):                         0.00\n",
      "Heteroskedasticity (H):               0.92   Skew:                             1.08\n",
      "Prob(H) (two-sided):                  0.56   Kurtosis:                        41.47\n",
      "===================================================================================\n",
      "\n",
      "Warnings:\n",
      "[1] Covariance matrix calculated using the outer product of gradients (complex-step).\n",
      "\n",
      "📌 Teste de Ljung-Box para autocorrelação nos resíduos:\n",
      "   - p-valor: 0.9616\n",
      "   ✅ Resíduos são ruído branco\n"
     ]
    },
    {
     "data": {
      "image/png": "[encoded data removed]",
      "text/plain": [
       "<Figure size 1200x600 with 1 Axes>"
      ]
     },
     "metadata": {},
     "output_type": "display_data"
    }
   ],
   "source": [
    "import pandas as pd\n",
    "import matplotlib.pyplot as plt\n",
    "from statsmodels.tsa.arima.model import ARIMA\n",
    "\n",
    "# Carregar os dados do IPCA (ajuste o nome da coluna se necessário)\n",
    "dados = ipca['VALUE (-)']\n",
    "\n",
    "# Ajustar o modelo ARIMA(2,1,2)\n",
    "modelo = ARIMA(\n",
    "    dados,\n",
    "    order=(2, 1, 2)  # ARIMA(p=2, d=1, q=2)\n",
    ")\n",
    "resultado = modelo.fit()\n",
    "\n",
    "# Fazer previsão para os próximos 12 períodos\n",
    "forecast_steps = 12\n",
    "previsao = resultado.get_forecast(steps=forecast_steps)\n",
    "previsao_media = previsao.predicted_mean\n",
    "intervalo_confianca = previsao.conf_int()\n",
    "\n",
    "# Criar índices para o período futuro\n",
    "ultimo_periodo = dados.index[-1]\n",
    "if isinstance(ultimo_periodo, str):  # Se for string (datas como texto)\n",
    "    futuro_index = pd.date_range(start=ultimo_periodo, periods=forecast_steps+1, freq='M')[1:]  # Frequência mensal para IPCA\n",
    "else:  # Se já for datetime ou outro tipo\n",
    "    futuro_index = pd.date_range(start=ultimo_periodo, periods=forecast_steps+1, freq='M')[1:]\n",
    "\n",
    "# Configurar o gráfico\n",
    "plt.figure(figsize=(12, 6))\n",
    "\n",
    "# Plotar dados históricos\n",
    "plt.plot(dados.index, dados, label='IPCA Histórico', color='#1f77b4', linewidth=2)\n",
    "\n",
    "# Plotar previsão\n",
    "plt.plot(futuro_index, previsao_media, \n",
    "         label=f'Previsão ARIMA(2,1,2)', \n",
    "         color='#d62728', \n",
    "         linestyle='--', \n",
    "         linewidth=2)\n",
    "\n",
    "# Plotar intervalo de confiança\n",
    "plt.fill_between(\n",
    "    futuro_index,\n",
    "    intervalo_confianca.iloc[:, 0],\n",
    "    intervalo_confianca.iloc[:, 1],\n",
    "    color='#ff9896', \n",
    "    alpha=0.3, \n",
    "    label='Intervalo de 95% confiança'\n",
    ")\n",
    "\n",
    "# Ajustes estéticos\n",
    "plt.title(f'Previsão do IPCA para os próximos {forecast_steps} meses\\nModelo ARIMA(2,1,2)', pad=20, fontsize=14)\n",
    "plt.xlabel('Data', fontsize=12)\n",
    "plt.ylabel('Variação (%)', fontsize=12)\n",
    "plt.legend(loc='upper left', fontsize=10)\n",
    "plt.grid(True, linestyle='--', alpha=0.5)\n",
    "\n",
    "# Formatando o eixo X para datas\n",
    "plt.xticks(rotation=45)\n",
    "plt.tight_layout()\n",
    "\n",
    "# Mostrar os valores previstos em formato de tabela\n",
    "print(\"\\n📊 Previsão do IPCA para os próximos 12 meses:\")\n",
    "df_previsao = pd.DataFrame({\n",
    "    'Data': futuro_index.strftime('%Y-%m'),\n",
    "    'Previsão (%)': previsao_media.round(2),\n",
    "    'Lim. Inferior (%)': intervalo_confianca.iloc[:, 0].round(2),\n",
    "    'Lim. Superior (%)': intervalo_confianca.iloc[:, 1].round(2)\n",
    "})\n",
    "print(df_previsao.to_string(index=False))\n",
    "\n",
    "# Mostrar resumo do modelo\n",
    "print(\"\\n🔎 Resumo do Modelo ARIMA(2,1,2):\")\n",
    "print(resultado.summary())\n",
    "\n",
    "# Diagnóstico dos resíduos\n",
    "residuos = resultado.resid.dropna()\n",
    "print(\"\\n📌 Teste de Ljung-Box para autocorrelação nos resíduos:\")\n",
    "lb_test = acorr_ljungbox(residuos, lags=[10], return_df=True)\n",
    "print(f\"   - p-valor: {lb_test['lb_pvalue'].values[0]:.4f}\")\n",
    "print(\"   ✅ Resíduos são ruído branco\" if lb_test['lb_pvalue'].values[0] > 0.05 \n",
    "      else \"   ❌ Resíduos apresentam autocorrelação\")\n",
    "\n",
    "plt.show()"
   ]
  },
  {
   "cell_type": "code",
   "execution_count": null,
   "id": "c4acad69-6b06-48ed-86dc-5f3e87fb2927",
   "metadata": {},
   "outputs": [],
   "source": []
  },
  {
   "cell_type": "code",
   "execution_count": null,
   "id": "d489b306-20ac-4a97-b0ab-77454a997807",
   "metadata": {},
   "outputs": [],
   "source": []
  },
  {
   "cell_type": "markdown",
   "id": "8f0864c1-23bc-4ac3-85ba-4356319fa9a3",
   "metadata": {},
   "source": [
    "#### Previsão ARIMA(2,1,2) com tendência"
   ]
  },
  {
   "cell_type": "code",
   "execution_count": 238,
   "id": "4be81768-3653-4a1f-8bcd-3b393cd4055d",
   "metadata": {},
   "outputs": [
    {
     "name": "stderr",
     "output_type": "stream",
     "text": [
      "C:\\Users\\KAWAN\\anaconda3\\Lib\\site-packages\\statsmodels\\tsa\\base\\tsa_model.py:473: ValueWarning:\n",
      "\n",
      "No frequency information was provided, so inferred frequency MS will be used.\n",
      "\n",
      "C:\\Users\\KAWAN\\anaconda3\\Lib\\site-packages\\statsmodels\\tsa\\base\\tsa_model.py:473: ValueWarning:\n",
      "\n",
      "No frequency information was provided, so inferred frequency MS will be used.\n",
      "\n",
      "C:\\Users\\KAWAN\\anaconda3\\Lib\\site-packages\\statsmodels\\tsa\\base\\tsa_model.py:473: ValueWarning:\n",
      "\n",
      "No frequency information was provided, so inferred frequency MS will be used.\n",
      "\n",
      "C:\\Users\\KAWAN\\anaconda3\\Lib\\site-packages\\statsmodels\\tsa\\statespace\\sarimax.py:966: UserWarning:\n",
      "\n",
      "Non-stationary starting autoregressive parameters found. Using zeros as starting parameters.\n",
      "\n",
      "C:\\Users\\KAWAN\\anaconda3\\Lib\\site-packages\\statsmodels\\tsa\\statespace\\sarimax.py:978: UserWarning:\n",
      "\n",
      "Non-invertible starting MA parameters found. Using zeros as starting parameters.\n",
      "\n",
      "C:\\Users\\KAWAN\\AppData\\Local\\Temp\\ipykernel_8668\\2098944836.py:25: FutureWarning:\n",
      "\n",
      "'M' is deprecated and will be removed in a future version, please use 'ME' instead.\n",
      "\n"
     ]
    },
    {
     "name": "stdout",
     "output_type": "stream",
     "text": [
      "\n",
      "======================================================================\n",
      "PREVISÃO ARIMA(2,1,2) COM TENDÊNCIA PARA O IPCA\n",
      "======================================================================\n",
      "\n",
      "📊 Previsão para os próximos 12 meses:\n",
      "    Mês  Previsão (%)  Lim. Inferior (%)  Lim. Superior (%)\n",
      "2025-03       7274.95            7245.85            7304.06\n",
      "2025-04       7329.64            7272.14            7387.13\n",
      "2025-05       7375.55            7289.06            7462.05\n",
      "2025-06       7412.72            7297.33            7528.11\n",
      "2025-07       7444.87            7301.56            7588.18\n",
      "2025-08       7471.99            7301.84            7642.14\n",
      "2025-09       7496.25            7300.55            7691.94\n",
      "2025-10       7517.61            7297.61            7737.62\n",
      "2025-11       7537.34            7294.26            7780.41\n",
      "2025-12       7555.40            7290.39            7820.42\n",
      "2026-01       7572.53            7286.65            7858.41\n",
      "2026-02       7588.71            7282.94            7894.47\n",
      "\n",
      "🔍 RESUMO DO MODELO:\n",
      "                               SARIMAX Results                                \n",
      "==============================================================================\n",
      "Dep. Variable:              VALUE (-)   No. Observations:                  543\n",
      "Model:                 ARIMA(2, 1, 2)   Log Likelihood               -2231.726\n",
      "Date:                Tue, 25 Mar 2025   AIC                           4475.451\n",
      "Time:                        16:27:09   BIC                           4501.223\n",
      "Sample:                    12-01-1979   HQIC                          4485.529\n",
      "                         - 02-01-2025                                         \n",
      "Covariance Type:                  opg                                         \n",
      "==============================================================================\n",
      "                 coef    std err          z      P>|z|      [0.025      0.975]\n",
      "------------------------------------------------------------------------------\n",
      "x1            13.6345      3.659      3.726      0.000       6.463      20.806\n",
      "ar.L1         -0.0057      0.869     -0.007      0.995      -1.710       1.698\n",
      "ar.L2          0.5777      0.636      0.908      0.364      -0.669       1.824\n",
      "ma.L1          0.7094      0.870      0.816      0.415      -0.995       2.414\n",
      "ma.L2         -0.0570      0.049     -1.161      0.246      -0.153       0.039\n",
      "sigma2       220.5043      3.276     67.314      0.000     214.084     226.925\n",
      "===================================================================================\n",
      "Ljung-Box (L1) (Q):                   0.00   Jarque-Bera (JB):             30952.06\n",
      "Prob(Q):                              0.98   Prob(JB):                         0.00\n",
      "Heteroskedasticity (H):               0.93   Skew:                             0.70\n",
      "Prob(H) (two-sided):                  0.62   Kurtosis:                        39.99\n",
      "===================================================================================\n",
      "\n",
      "Warnings:\n",
      "[1] Covariance matrix calculated using the outer product of gradients (complex-step).\n",
      "\n",
      "📌 TESTE DE RUÍDO BRANCO (Ljung-Box):\n",
      "   - p-valor: 0.9013\n",
      "   ✅ Resíduos são ruído branco\n"
     ]
    },
    {
     "data": {
      "image/png": "[encoded data removed]",
      "text/plain": [
       "<Figure size 1300x600 with 1 Axes>"
      ]
     },
     "metadata": {},
     "output_type": "display_data"
    }
   ],
   "source": [
    "import pandas as pd\n",
    "import matplotlib.pyplot as plt\n",
    "from statsmodels.tsa.arima.model import ARIMA\n",
    "from statsmodels.stats.diagnostic import acorr_ljungbox\n",
    "\n",
    "# Carregar os dados do IPCA (ajuste o nome da coluna se necessário)\n",
    "dados = ipca['VALUE (-)']\n",
    "\n",
    "# Ajustar o modelo ARIMA(2,1,2) COM TENDÊNCIA\n",
    "modelo = ARIMA(\n",
    "    dados,\n",
    "    order=(2, 1, 2),  # ARIMA(p=2, d=1, q=2)\n",
    "    trend='t'          # 't' para tendência linear\n",
    ")\n",
    "resultado = modelo.fit()\n",
    "\n",
    "# Fazer previsão para os próximos 12 meses\n",
    "forecast_steps = 12\n",
    "previsao = resultado.get_forecast(steps=forecast_steps)\n",
    "previsao_media = previsao.predicted_mean\n",
    "intervalo_confianca = previsao.conf_int()\n",
    "\n",
    "# Criar índices para o período futuro\n",
    "ultimo_periodo = dados.index[-1]\n",
    "futuro_index = pd.date_range(\n",
    "    start=ultimo_periodo, \n",
    "    periods=forecast_steps+1, \n",
    "    freq='M'  # Frequência mensal para IPCA\n",
    ")[1:]  # Remove o primeiro ponto (que é o último dado histórico)\n",
    "\n",
    "# Configurar o gráfico\n",
    "plt.figure(figsize=(13, 6))\n",
    "\n",
    "# Dados históricos\n",
    "plt.plot(dados.index, dados, \n",
    "         label='IPCA Histórico', \n",
    "         color='#1f77b4',\n",
    "         linewidth=2)\n",
    "\n",
    "# Previsão\n",
    "plt.plot(futuro_index, previsao_media,\n",
    "         label='Previsão ARIMA(2,1,2) c/ Tendência',\n",
    "         color='#d62728',\n",
    "         linestyle='--',\n",
    "         linewidth=2)\n",
    "\n",
    "# Intervalo de confiança\n",
    "plt.fill_between(\n",
    "    futuro_index,\n",
    "    intervalo_confianca.iloc[:, 0],\n",
    "    intervalo_confianca.iloc[:, 1],\n",
    "    color='#ff9896',\n",
    "    alpha=0.3,\n",
    "    label='Intervalo de 95% confiança'\n",
    ")\n",
    "\n",
    "# Ajustes estéticos\n",
    "plt.title(f'Previsão do IPCA para os próximos {forecast_steps} meses\\nARIMA(2,1,2) com Tendência Linear', \n",
    "          pad=20,\n",
    "          fontsize=14)\n",
    "plt.xlabel('Data', fontsize=12)\n",
    "plt.ylabel('Variação (%)', fontsize=12)\n",
    "plt.legend(loc='upper left', fontsize=10)\n",
    "plt.grid(True, linestyle=':', alpha=0.6)\n",
    "plt.xticks(rotation=45)\n",
    "plt.tight_layout()\n",
    "\n",
    "# Mostrar resultados numéricos\n",
    "print(\"\\n\" + \"=\"*70)\n",
    "print(\"PREVISÃO ARIMA(2,1,2) COM TENDÊNCIA PARA O IPCA\")\n",
    "print(\"=\"*70)\n",
    "\n",
    "print(\"\\n📊 Previsão para os próximos 12 meses:\")\n",
    "df_previsao = pd.DataFrame({\n",
    "    'Mês': futuro_index.strftime('%Y-%m'),\n",
    "    'Previsão (%)': previsao_media.round(2),\n",
    "    'Lim. Inferior (%)': intervalo_confianca.iloc[:, 0].round(2),\n",
    "    'Lim. Superior (%)': intervalo_confianca.iloc[:, 1].round(2)\n",
    "})\n",
    "print(df_previsao.to_string(index=False))\n",
    "\n",
    "# Resumo do modelo\n",
    "print(\"\\n🔍 RESUMO DO MODELO:\")\n",
    "print(resultado.summary())\n",
    "\n",
    "# Diagnóstico dos resíduos\n",
    "residuos = resultado.resid.dropna()\n",
    "lb_test = acorr_ljungbox(residuos, lags=[10], return_df=True)\n",
    "print(f\"\\n📌 TESTE DE RUÍDO BRANCO (Ljung-Box):\")\n",
    "print(f\"   - p-valor: {lb_test['lb_pvalue'].values[0]:.4f}\")\n",
    "print(\"   ✅ Resíduos são ruído branco\" if lb_test['lb_pvalue'].values[0] > 0.05 \n",
    "      else \"   ❌ Resíduos apresentam autocorrelação\")\n",
    "\n",
    "plt.show()"
   ]
  },
  {
   "cell_type": "code",
   "execution_count": null,
   "id": "5d0568d5-9a05-4e2c-a543-96ebf6c2b7c7",
   "metadata": {},
   "outputs": [],
   "source": []
  },
  {
   "cell_type": "code",
   "execution_count": null,
   "id": "405199df-29dd-4fe0-8e27-af0fa8bca354",
   "metadata": {},
   "outputs": [],
   "source": []
  },
  {
   "cell_type": "code",
   "execution_count": null,
   "id": "2bc4077e-da1f-4315-9aec-3dfe638fed30",
   "metadata": {},
   "outputs": [],
   "source": []
  },
  {
   "cell_type": "code",
   "execution_count": null,
   "id": "6ea3162e-532d-456f-8354-b0cdeacd1f4f",
   "metadata": {},
   "outputs": [],
   "source": []
  },
  {
   "cell_type": "markdown",
   "id": "13fa4843-38c9-4943-8ef6-d951a7321ef5",
   "metadata": {},
   "source": [
    "## Itens da Etapa 3"
   ]
  },
  {
   "cell_type": "code",
   "execution_count": null,
   "id": "09401b6e-4a3a-464d-ac17-4482875e3c14",
   "metadata": {},
   "outputs": [],
   "source": []
  },
  {
   "cell_type": "markdown",
   "id": "0a2ee07c-9e4c-4c93-85f6-1086ed8429d2",
   "metadata": {},
   "source": [
    "#### i. A previsão do crescimento do PIB para 2025\n",
    "\n",
    "previsão PIB 2025 = ( 2025/4 / 2024/4 ) - 1"
   ]
  },
  {
   "cell_type": "code",
   "execution_count": 214,
   "id": "b2ab8483-bc7d-4e6a-a170-c001f174321a",
   "metadata": {},
   "outputs": [
    {
     "name": "stdout",
     "output_type": "stream",
     "text": [
      "0.016706426283243703\n"
     ]
    }
   ],
   "source": [
    "previsaoPIB_2025 = (192.68/189.5139) - 1\n",
    "print(previsaoPIB_2025)"
   ]
  },
  {
   "cell_type": "markdown",
   "id": "4c1da9b1-fe28-4648-83d4-f822a5d2cf56",
   "metadata": {},
   "source": [
    "#### ii. A previsão para a inflação para 2025\n",
    "\n",
    "previsão IPCA 2025 = ( 2025/12 / 2024/12 ) - 1"
   ]
  },
  {
   "cell_type": "code",
   "execution_count": 252,
   "id": "5e2616d5-24ee-4342-bcdc-105389307e22",
   "metadata": {},
   "outputs": [
    {
     "name": "stdout",
     "output_type": "stream",
     "text": [
      "0.07286388282515315\n"
     ]
    }
   ],
   "source": [
    "previsaoIPCA_2025 = (7617.87 - 7100.5000)/7100.5000\n",
    "print(previsaoIPCA_2025)"
   ]
  },
  {
   "cell_type": "code",
   "execution_count": null,
   "id": "e219f5b3-a11d-4b62-9da2-f95aaa39324c",
   "metadata": {},
   "outputs": [],
   "source": []
  },
  {
   "cell_type": "code",
   "execution_count": null,
   "id": "72a952b2-8f12-4b80-a513-6a197de41e2b",
   "metadata": {},
   "outputs": [],
   "source": []
  },
  {
   "cell_type": "code",
   "execution_count": null,
   "id": "fde995a4-5d7c-4189-bb67-9015c0652f0e",
   "metadata": {},
   "outputs": [],
   "source": []
  },
  {
   "cell_type": "code",
   "execution_count": null,
   "id": "e47ce948-62c5-4467-9b3c-09bc98252d67",
   "metadata": {},
   "outputs": [],
   "source": []
  },
  {
   "cell_type": "code",
   "execution_count": null,
   "id": "101621c8-f2b5-4ac5-881a-ac36f9ce5b3c",
   "metadata": {},
   "outputs": [],
   "source": []
  },
  {
   "cell_type": "code",
   "execution_count": null,
   "id": "d75a9b39-e9fc-467a-bbba-666779379435",
   "metadata": {},
   "outputs": [],
   "source": []
  },
  {
   "cell_type": "code",
   "execution_count": null,
   "id": "e6736004-21b3-4005-8ad0-09803f8bc409",
   "metadata": {},
   "outputs": [],
   "source": []
  },
  {
   "cell_type": "code",
   "execution_count": null,
   "id": "47ba8cac-59fe-4e0f-8f5c-fafb48dd5d99",
   "metadata": {},
   "outputs": [],
   "source": []
  },
  {
   "cell_type": "code",
   "execution_count": null,
   "id": "cbcbc6f6-6641-49f2-8977-94a57137c047",
   "metadata": {},
   "outputs": [],
   "source": []
  }
 ],
 "metadata": {
  "kernelspec": {
   "display_name": "Python 3 (ipykernel)",
   "language": "python",
   "name": "python3"
  },
  "language_info": {
   "codemirror_mode": {
    "name": "ipython",
    "version": 3
   },
   "file_extension": ".py",
   "mimetype": "text/x-python",
   "name": "python",
   "nbconvert_exporter": "python",
   "pygments_lexer": "ipython3",
   "version": "3.12.4"
  }
 },
 "nbformat": 4,
 "nbformat_minor": 5
}
