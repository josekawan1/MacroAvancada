{
 "cells": [
  {
   "cell_type": "code",
   "execution_count": 16,
   "id": "e8e55772-c622-4228-99b3-1898674704e1",
   "metadata": {},
   "outputs": [],
   "source": [
    "import numpy as np\n",
    "import pandas as pd\n",
    "import matplotlib.pyplot as plt\n",
    "import seaborn as sns\n",
    "import plotly.express as px"
   ]
  },
  {
   "cell_type": "markdown",
   "id": "a6be95df-cb27-4529-8303-fed6dfdc946c",
   "metadata": {},
   "source": [
    "### Questão 2 - Atividade 1 - Macro avançada 1\n",
    "\n",
    "#### Etapa 1: \n",
    "\n",
    "Obtenha os seguintes dados no site do IPEADATA: (i) Produto interno\n",
    "bruto (PIB) a preços de mercado: índice encadeado (média 1995 = 100) e (ii) IPCA - geral - índice\n",
    "(dez. 1993 = 100). Plote as séries."
   ]
  },
  {
   "cell_type": "code",
   "execution_count": 18,
   "id": "2194dba2-a89b-48fb-bce4-ab0be58d7f72",
   "metadata": {},
   "outputs": [
    {
     "data": {
      "text/html": [
       "<div>\n",
       "<style scoped>\n",
       "    .dataframe tbody tr th:only-of-type {\n",
       "        vertical-align: middle;\n",
       "    }\n",
       "\n",
       "    .dataframe tbody tr th {\n",
       "        vertical-align: top;\n",
       "    }\n",
       "\n",
       "    .dataframe thead th {\n",
       "        text-align: right;\n",
       "    }\n",
       "</style>\n",
       "<table border=\"1\" class=\"dataframe\">\n",
       "  <thead>\n",
       "    <tr style=\"text-align: right;\">\n",
       "      <th></th>\n",
       "      <th>PIB - preços de mercado - índice real encadeado (média 1995 = 100)</th>\n",
       "    </tr>\n",
       "  </thead>\n",
       "  <tbody>\n",
       "    <tr>\n",
       "      <th>Name</th>\n",
       "      <td>PIB - preços de mercado - índice real encadead...</td>\n",
       "    </tr>\n",
       "    <tr>\n",
       "      <th>Code</th>\n",
       "      <td>SCN104_PIBPM104</td>\n",
       "    </tr>\n",
       "    <tr>\n",
       "      <th>Big Theme</th>\n",
       "      <td>Macroeconômico</td>\n",
       "    </tr>\n",
       "    <tr>\n",
       "      <th>Theme code</th>\n",
       "      <td>8</td>\n",
       "    </tr>\n",
       "    <tr>\n",
       "      <th>Source</th>\n",
       "      <td>Instituto Brasileiro de Geografia e Estatístic...</td>\n",
       "    </tr>\n",
       "    <tr>\n",
       "      <th>Source acronym</th>\n",
       "      <td>IBGE/SCN Trim.</td>\n",
       "    </tr>\n",
       "    <tr>\n",
       "      <th>Comment</th>\n",
       "      <td>O produto interno bruto (PIB) é o total dos be...</td>\n",
       "    </tr>\n",
       "    <tr>\n",
       "      <th>Last update</th>\n",
       "      <td>2025-03-07T13:32:00.727-03:00</td>\n",
       "    </tr>\n",
       "    <tr>\n",
       "      <th>Frequency</th>\n",
       "      <td>Trimestral</td>\n",
       "    </tr>\n",
       "    <tr>\n",
       "      <th>Measure</th>\n",
       "      <td>-</td>\n",
       "    </tr>\n",
       "    <tr>\n",
       "      <th>Unit</th>\n",
       "      <td>None</td>\n",
       "    </tr>\n",
       "    <tr>\n",
       "      <th>Status</th>\n",
       "      <td>A</td>\n",
       "    </tr>\n",
       "  </tbody>\n",
       "</table>\n",
       "</div>"
      ],
      "text/plain": [
       "               PIB - preços de mercado - índice real encadeado (média 1995 = 100)\n",
       "Name            PIB - preços de mercado - índice real encadead...                \n",
       "Code                                              SCN104_PIBPM104                \n",
       "Big Theme                                          Macroeconômico                \n",
       "Theme code                                                      8                \n",
       "Source          Instituto Brasileiro de Geografia e Estatístic...                \n",
       "Source acronym                                     IBGE/SCN Trim.                \n",
       "Comment         O produto interno bruto (PIB) é o total dos be...                \n",
       "Last update                         2025-03-07T13:32:00.727-03:00                \n",
       "Frequency                                              Trimestral                \n",
       "Measure                                                         -                \n",
       "Unit                                                         None                \n",
       "Status                                                          A                "
      ]
     },
     "execution_count": 18,
     "metadata": {},
     "output_type": "execute_result"
    }
   ],
   "source": [
    "# importando a biblioteca do IPEA e verificando as duas primeiras séries\n",
    "\n",
    "# Índice nacional de preços ao consumidor amplo (IPCA) geral: índice (dez. 1993 = 100) (PRECOS12_IPCA12)                 \n",
    "# Produto interno bruto (PIB) a preços de mercado: índice real encadeado (média 1995 = 100) (SCN104_PIBPM104)\n",
    "\n",
    "import ipeadatapy as ip \n",
    "\n",
    "# ip.describe('PRECOS12_IPCA12')\n",
    "ip.describe('SCN104_PIBPM104')"
   ]
  },
  {
   "cell_type": "code",
   "execution_count": 20,
   "id": "b0f44aac-34bc-4cf2-8308-7575c34622e9",
   "metadata": {},
   "outputs": [],
   "source": [
    "# importando as séries\n",
    "\n",
    "pib = ip.timeseries('SCN104_PIBPM104')\n",
    "ipca = ip.timeseries('PRECOS12_IPCA12')"
   ]
  },
  {
   "cell_type": "code",
   "execution_count": 22,
   "id": "d7c9f13b-b3fd-453e-b6e2-8e5eb9a85be2",
   "metadata": {},
   "outputs": [],
   "source": [
    "# salvando as séries como dataframe\n",
    "\n",
    "pib = pd.DataFrame(pib)\n",
    "ipca = pd.DataFrame(ipca)"
   ]
  },
  {
   "cell_type": "code",
   "execution_count": 24,
   "id": "59b4ff1f-6265-47a4-bfc7-4b5e19605136",
   "metadata": {},
   "outputs": [
    {
     "name": "stdout",
     "output_type": "stream",
     "text": [
      "                       CODE                   RAW DATE  DAY  MONTH  YEAR  \\\n",
      "DATE                                                                       \n",
      "1996-01-01  SCN104_PIBPM104  1996-01-01T00:00:00-02:00    1      1  1996   \n",
      "1996-04-01  SCN104_PIBPM104  1996-04-01T00:00:00-03:00    1      4  1996   \n",
      "1996-07-01  SCN104_PIBPM104  1996-07-01T00:00:00-03:00    1      7  1996   \n",
      "1996-10-01  SCN104_PIBPM104  1996-10-01T00:00:00-03:00    1     10  1996   \n",
      "1997-01-01  SCN104_PIBPM104  1997-01-01T00:00:00-02:00    1      1  1997   \n",
      "...                     ...                        ...  ...    ...   ...   \n",
      "2023-10-01  SCN104_PIBPM104  2023-10-01T00:00:00-03:00    1     10  2023   \n",
      "2024-01-01  SCN104_PIBPM104  2024-01-01T00:00:00-03:00    1      1  2024   \n",
      "2024-04-01  SCN104_PIBPM104  2024-04-01T00:00:00-03:00    1      4  2024   \n",
      "2024-07-01  SCN104_PIBPM104  2024-07-01T00:00:00-03:00    1      7  2024   \n",
      "2024-10-01  SCN104_PIBPM104  2024-10-01T00:00:00-03:00    1     10  2024   \n",
      "\n",
      "             VALUE (-)  \n",
      "DATE                    \n",
      "1996-01-01   96.839684  \n",
      "1996-04-01  100.119468  \n",
      "1996-07-01  107.561773  \n",
      "1996-10-01  104.314530  \n",
      "1997-01-01  100.132786  \n",
      "...                ...  \n",
      "2023-10-01  182.899151  \n",
      "2024-01-01  185.363642  \n",
      "2024-04-01  190.428581  \n",
      "2024-07-01  194.935559  \n",
      "2024-10-01  189.513950  \n",
      "\n",
      "[116 rows x 6 columns]                        CODE                   RAW DATE  DAY  MONTH  YEAR  \\\n",
      "DATE                                                                       \n",
      "1979-12-01  PRECOS12_IPCA12  1979-12-01T00:00:00-02:00    1     12  1979   \n",
      "1980-01-01  PRECOS12_IPCA12  1980-01-01T00:00:00-02:00    1      1  1980   \n",
      "1980-02-01  PRECOS12_IPCA12  1980-02-01T00:00:00-02:00    1      2  1980   \n",
      "1980-03-01  PRECOS12_IPCA12  1980-03-01T00:00:00-03:00    1      3  1980   \n",
      "1980-04-01  PRECOS12_IPCA12  1980-04-01T00:00:00-03:00    1      4  1980   \n",
      "...                     ...                        ...  ...    ...   ...   \n",
      "2024-10-01  PRECOS12_IPCA12  2024-10-01T00:00:00-03:00    1     10  2024   \n",
      "2024-11-01  PRECOS12_IPCA12  2024-11-01T00:00:00-03:00    1     11  2024   \n",
      "2024-12-01  PRECOS12_IPCA12  2024-12-01T00:00:00-03:00    1     12  2024   \n",
      "2025-01-01  PRECOS12_IPCA12  2025-01-01T00:00:00-03:00    1      1  2025   \n",
      "2025-02-01  PRECOS12_IPCA12  2025-02-01T00:00:00-03:00    1      2  2025   \n",
      "\n",
      "               VALUE (-)  \n",
      "DATE                      \n",
      "1979-12-01  7.618300e-09  \n",
      "1980-01-01  8.122300e-09  \n",
      "1980-02-01  8.497300e-09  \n",
      "1980-03-01  9.010400e-09  \n",
      "1980-04-01  9.486700e-09  \n",
      "...                  ...  \n",
      "2024-10-01  7.036330e+03  \n",
      "2024-11-01  7.063770e+03  \n",
      "2024-12-01  7.100500e+03  \n",
      "2025-01-01  7.111860e+03  \n",
      "2025-02-01  7.205030e+03  \n",
      "\n",
      "[543 rows x 6 columns]\n"
     ]
    }
   ],
   "source": [
    "# Valores das séries\n",
    "\n",
    "print(pib, ipca)\n",
    "# print(selicover)\n",
    "# print(ipca)"
   ]
  },
  {
   "cell_type": "code",
   "execution_count": 28,
   "id": "30f07f47-a6c6-4a00-8a18-fb996ac22d00",
   "metadata": {},
   "outputs": [
    {
     "name": "stdout",
     "output_type": "stream",
     "text": [
      "                       CODE                   RAW DATE  DAY  MONTH  YEAR  \\\n",
      "DATE                                                                       \n",
      "1979-12-01  PRECOS12_IPCA12  1979-12-01T00:00:00-02:00    1     12  1979   \n",
      "1980-01-01  PRECOS12_IPCA12  1980-01-01T00:00:00-02:00    1      1  1980   \n",
      "1980-02-01  PRECOS12_IPCA12  1980-02-01T00:00:00-02:00    1      2  1980   \n",
      "1980-03-01  PRECOS12_IPCA12  1980-03-01T00:00:00-03:00    1      3  1980   \n",
      "1980-04-01  PRECOS12_IPCA12  1980-04-01T00:00:00-03:00    1      4  1980   \n",
      "...                     ...                        ...  ...    ...   ...   \n",
      "2024-10-01  PRECOS12_IPCA12  2024-10-01T00:00:00-03:00    1     10  2024   \n",
      "2024-11-01  PRECOS12_IPCA12  2024-11-01T00:00:00-03:00    1     11  2024   \n",
      "2024-12-01  PRECOS12_IPCA12  2024-12-01T00:00:00-03:00    1     12  2024   \n",
      "2025-01-01  PRECOS12_IPCA12  2025-01-01T00:00:00-03:00    1      1  2025   \n",
      "2025-02-01  PRECOS12_IPCA12  2025-02-01T00:00:00-03:00    1      2  2025   \n",
      "\n",
      "               VALUE (-)  mes_ano  \n",
      "DATE                               \n",
      "1979-12-01  7.618300e-09  12/1979  \n",
      "1980-01-01  8.122300e-09  01/1980  \n",
      "1980-02-01  8.497300e-09  02/1980  \n",
      "1980-03-01  9.010400e-09  03/1980  \n",
      "1980-04-01  9.486700e-09  04/1980  \n",
      "...                  ...      ...  \n",
      "2024-10-01  7.036330e+03  10/2024  \n",
      "2024-11-01  7.063770e+03  11/2024  \n",
      "2024-12-01  7.100500e+03  12/2024  \n",
      "2025-01-01  7.111860e+03  01/2025  \n",
      "2025-02-01  7.205030e+03  02/2025  \n",
      "\n",
      "[543 rows x 7 columns]\n"
     ]
    }
   ],
   "source": [
    "# criando uma variável data para o df da inflação\n",
    "\n",
    "ipca['mes_ano'] = ipca['MONTH'].astype(str).str.zfill(2) + '/' + ipca['YEAR'].astype(str)\n",
    "print(ipca)"
   ]
  },
  {
   "cell_type": "code",
   "execution_count": 39,
   "id": "86c1e04a-5531-42cc-bb80-4482b6747612",
   "metadata": {},
   "outputs": [
    {
     "name": "stdout",
     "output_type": "stream",
     "text": [
      "                       CODE                   RAW DATE  DAY  MONTH  YEAR  \\\n",
      "DATE                                                                       \n",
      "1996-01-01  SCN104_PIBPM104  1996-01-01T00:00:00-02:00    1      1  1996   \n",
      "1996-04-01  SCN104_PIBPM104  1996-04-01T00:00:00-03:00    1      4  1996   \n",
      "1996-07-01  SCN104_PIBPM104  1996-07-01T00:00:00-03:00    1      7  1996   \n",
      "1996-10-01  SCN104_PIBPM104  1996-10-01T00:00:00-03:00    1     10  1996   \n",
      "1997-01-01  SCN104_PIBPM104  1997-01-01T00:00:00-02:00    1      1  1997   \n",
      "...                     ...                        ...  ...    ...   ...   \n",
      "2023-10-01  SCN104_PIBPM104  2023-10-01T00:00:00-03:00    1     10  2023   \n",
      "2024-01-01  SCN104_PIBPM104  2024-01-01T00:00:00-03:00    1      1  2024   \n",
      "2024-04-01  SCN104_PIBPM104  2024-04-01T00:00:00-03:00    1      4  2024   \n",
      "2024-07-01  SCN104_PIBPM104  2024-07-01T00:00:00-03:00    1      7  2024   \n",
      "2024-10-01  SCN104_PIBPM104  2024-10-01T00:00:00-03:00    1     10  2024   \n",
      "\n",
      "             VALUE (-)  mes_ano  \n",
      "DATE                             \n",
      "1996-01-01   96.839684  01/1996  \n",
      "1996-04-01  100.119468  04/1996  \n",
      "1996-07-01  107.561773  07/1996  \n",
      "1996-10-01  104.314530  10/1996  \n",
      "1997-01-01  100.132786  01/1997  \n",
      "...                ...      ...  \n",
      "2023-10-01  182.899151  10/2023  \n",
      "2024-01-01  185.363642  01/2024  \n",
      "2024-04-01  190.428581  04/2024  \n",
      "2024-07-01  194.935559  07/2024  \n",
      "2024-10-01  189.513950  10/2024  \n",
      "\n",
      "[116 rows x 7 columns]\n"
     ]
    }
   ],
   "source": [
    "# Criar a coluna 'mes_ano' no formato 'MM/AAAA' (ex: '01/2020')\n",
    "pib['mes_ano'] = pib['MONTH'].astype(str).str.zfill(2) + '/' + pib['YEAR'].astype(str)\n",
    "\n",
    "# Mostrar o DataFrame\n",
    "print(pib)"
   ]
  },
  {
   "cell_type": "markdown",
   "id": "dda16659-95a2-4d98-895d-8aeefe5212f7",
   "metadata": {},
   "source": [
    "#### Plote das séries"
   ]
  },
  {
   "cell_type": "code",
   "execution_count": 41,
   "id": "f839824c-c4f1-4704-8e97-5d2e022b6c79",
   "metadata": {},
   "outputs": [
    {
     "data": {
      "application/vnd.plotly.v1+json": {
       "config": {
        "plotlyServerURL": "https://plot.ly"
       },
       "data": [
        {
         "hovertemplate": "mes_ano=%{x}<br>VALUE (-)=%{y}<extra></extra>",
         "legendgroup": "",
         "line": {
          "color": "#636efa",
          "dash": "solid"
         },
         "marker": {
          "symbol": "circle"
         },
         "mode": "lines",
         "name": "",
         "orientation": "v",
         "showlegend": false,
         "type": "scatter",
         "x": [
          "01/1996",
          "04/1996",
          "07/1996",
          "10/1996",
          "01/1997",
          "04/1997",
          "07/1997",
          "10/1997",
          "01/1998",
          "04/1998",
          "07/1998",
          "10/1998",
          "01/1999",
          "04/1999",
          "07/1999",
          "10/1999",
          "01/2000",
          "04/2000",
          "07/2000",
          "10/2000",
          "01/2001",
          "04/2001",
          "07/2001",
          "10/2001",
          "01/2002",
          "04/2002",
          "07/2002",
          "10/2002",
          "01/2003",
          "04/2003",
          "07/2003",
          "10/2003",
          "01/2004",
          "04/2004",
          "07/2004",
          "10/2004",
          "01/2005",
          "04/2005",
          "07/2005",
          "10/2005",
          "01/2006",
          "04/2006",
          "07/2006",
          "10/2006",
          "01/2007",
          "04/2007",
          "07/2007",
          "10/2007",
          "01/2008",
          "04/2008",
          "07/2008",
          "10/2008",
          "01/2009",
          "04/2009",
          "07/2009",
          "10/2009",
          "01/2010",
          "04/2010",
          "07/2010",
          "10/2010",
          "01/2011",
          "04/2011",
          "07/2011",
          "10/2011",
          "01/2012",
          "04/2012",
          "07/2012",
          "10/2012",
          "01/2013",
          "04/2013",
          "07/2013",
          "10/2013",
          "01/2014",
          "04/2014",
          "07/2014",
          "10/2014",
          "01/2015",
          "04/2015",
          "07/2015",
          "10/2015",
          "01/2016",
          "04/2016",
          "07/2016",
          "10/2016",
          "01/2017",
          "04/2017",
          "07/2017",
          "10/2017",
          "01/2018",
          "04/2018",
          "07/2018",
          "10/2018",
          "01/2019",
          "04/2019",
          "07/2019",
          "10/2019",
          "01/2020",
          "04/2020",
          "07/2020",
          "10/2020",
          "01/2021",
          "04/2021",
          "07/2021",
          "10/2021",
          "01/2022",
          "04/2022",
          "07/2022",
          "10/2022",
          "01/2023",
          "04/2023",
          "07/2023",
          "10/2023",
          "01/2024",
          "04/2024",
          "07/2024",
          "10/2024"
         ],
         "xaxis": "x",
         "y": [
          96.8396836197719,
          100.119467514028,
          107.561773309359,
          104.314529544694,
          100.132786447406,
          104.879149330001,
          109.488505220113,
          108.214346986587,
          101.14169920072,
          106.462460870289,
          109.877846013711,
          106.661971728804,
          101.918131048489,
          106.035824103128,
          109.2007423431,
          108.974009327805,
          106.403247281882,
          110.254362002232,
          114.185307545381,
          113.984102213273,
          110.100856213943,
          112.818939536169,
          114.71192532909,
          113.377932707301,
          110.625948256604,
          115.411747258377,
          119.500814406253,
          119.242551614289,
          113.576373705926,
          116.313392744013,
          120.249105456057,
          119.944546760319,
          117.980959022535,
          123.65074002038,
          128.136011631165,
          127.392346671157,
          122.917666112379,
          129.184080790893,
          130.84605837323,
          130.131989439967,
          128.177431913352,
          132.133737487325,
          136.724694388845,
          136.372094340542,
          134.835853105682,
          140.771659617858,
          144.750778301082,
          145.426840064151,
          143.138241946732,
          149.691126428651,
          154.855556983237,
          146.922406121677,
          139.665630318986,
          146.393452862581,
          153.055128570474,
          154.745032323487,
          152.527567822777,
          158.862863817609,
          163.626890472144,
          163.548986893568,
          160.451553673832,
          166.330213240623,
          169.414939112875,
          167.748929756853,
          163.190790548475,
          167.971026325928,
          173.625614578102,
          171.913768396182,
          167.6313730752,
          174.726549274464,
          178.415858785986,
          176.26108981056,
          173.44712259246,
          173.966011674964,
          177.276149778553,
          175.858334174846,
          170.63830527997,
          169.19869503081,
          169.719148648215,
          166.151708233901,
          161.870504374927,
          163.753034389359,
          165.553919176281,
          162.394771431084,
          162.326973434035,
          165.042539553125,
          168.270172090362,
          166.57844899575,
          165.419265345197,
          167.71144485026,
          171.731158082837,
          169.168030516855,
          166.91022607139,
          169.677935950353,
          173.636608251354,
          172.033536010326,
          167.601192913168,
          152.47648707987,
          168.365545861063,
          171.459121457283,
          170.533849835623,
          171.378306079862,
          175.458714408045,
          173.960015001624,
          173.046458934135,
          177.451702100118,
          183.041712363066,
          178.646351713458,
          180.737231404294,
          184.284071754152,
          187.352393615227,
          182.899151049656,
          185.36364203916,
          190.42858073869,
          194.935559176014,
          189.513949866152
         ],
         "yaxis": "y"
        }
       ],
       "layout": {
        "autosize": true,
        "legend": {
         "tracegroupgap": 0
        },
        "template": {
         "data": {
          "bar": [
           {
            "error_x": {
             "color": "#2a3f5f"
            },
            "error_y": {
             "color": "#2a3f5f"
            },
            "marker": {
             "line": {
              "color": "#E5ECF6",
              "width": 0.5
             },
             "pattern": {
              "fillmode": "overlay",
              "size": 10,
              "solidity": 0.2
             }
            },
            "type": "bar"
           }
          ],
          "barpolar": [
           {
            "marker": {
             "line": {
              "color": "#E5ECF6",
              "width": 0.5
             },
             "pattern": {
              "fillmode": "overlay",
              "size": 10,
              "solidity": 0.2
             }
            },
            "type": "barpolar"
           }
          ],
          "carpet": [
           {
            "aaxis": {
             "endlinecolor": "#2a3f5f",
             "gridcolor": "white",
             "linecolor": "white",
             "minorgridcolor": "white",
             "startlinecolor": "#2a3f5f"
            },
            "baxis": {
             "endlinecolor": "#2a3f5f",
             "gridcolor": "white",
             "linecolor": "white",
             "minorgridcolor": "white",
             "startlinecolor": "#2a3f5f"
            },
            "type": "carpet"
           }
          ],
          "choropleth": [
           {
            "colorbar": {
             "outlinewidth": 0,
             "ticks": ""
            },
            "type": "choropleth"
           }
          ],
          "contour": [
           {
            "colorbar": {
             "outlinewidth": 0,
             "ticks": ""
            },
            "colorscale": [
             [
              0,
              "#0d0887"
             ],
             [
              0.1111111111111111,
              "#46039f"
             ],
             [
              0.2222222222222222,
              "#7201a8"
             ],
             [
              0.3333333333333333,
              "#9c179e"
             ],
             [
              0.4444444444444444,
              "#bd3786"
             ],
             [
              0.5555555555555556,
              "#d8576b"
             ],
             [
              0.6666666666666666,
              "#ed7953"
             ],
             [
              0.7777777777777778,
              "#fb9f3a"
             ],
             [
              0.8888888888888888,
              "#fdca26"
             ],
             [
              1,
              "#f0f921"
             ]
            ],
            "type": "contour"
           }
          ],
          "contourcarpet": [
           {
            "colorbar": {
             "outlinewidth": 0,
             "ticks": ""
            },
            "type": "contourcarpet"
           }
          ],
          "heatmap": [
           {
            "colorbar": {
             "outlinewidth": 0,
             "ticks": ""
            },
            "colorscale": [
             [
              0,
              "#0d0887"
             ],
             [
              0.1111111111111111,
              "#46039f"
             ],
             [
              0.2222222222222222,
              "#7201a8"
             ],
             [
              0.3333333333333333,
              "#9c179e"
             ],
             [
              0.4444444444444444,
              "#bd3786"
             ],
             [
              0.5555555555555556,
              "#d8576b"
             ],
             [
              0.6666666666666666,
              "#ed7953"
             ],
             [
              0.7777777777777778,
              "#fb9f3a"
             ],
             [
              0.8888888888888888,
              "#fdca26"
             ],
             [
              1,
              "#f0f921"
             ]
            ],
            "type": "heatmap"
           }
          ],
          "heatmapgl": [
           {
            "colorbar": {
             "outlinewidth": 0,
             "ticks": ""
            },
            "colorscale": [
             [
              0,
              "#0d0887"
             ],
             [
              0.1111111111111111,
              "#46039f"
             ],
             [
              0.2222222222222222,
              "#7201a8"
             ],
             [
              0.3333333333333333,
              "#9c179e"
             ],
             [
              0.4444444444444444,
              "#bd3786"
             ],
             [
              0.5555555555555556,
              "#d8576b"
             ],
             [
              0.6666666666666666,
              "#ed7953"
             ],
             [
              0.7777777777777778,
              "#fb9f3a"
             ],
             [
              0.8888888888888888,
              "#fdca26"
             ],
             [
              1,
              "#f0f921"
             ]
            ],
            "type": "heatmapgl"
           }
          ],
          "histogram": [
           {
            "marker": {
             "pattern": {
              "fillmode": "overlay",
              "size": 10,
              "solidity": 0.2
             }
            },
            "type": "histogram"
           }
          ],
          "histogram2d": [
           {
            "colorbar": {
             "outlinewidth": 0,
             "ticks": ""
            },
            "colorscale": [
             [
              0,
              "#0d0887"
             ],
             [
              0.1111111111111111,
              "#46039f"
             ],
             [
              0.2222222222222222,
              "#7201a8"
             ],
             [
              0.3333333333333333,
              "#9c179e"
             ],
             [
              0.4444444444444444,
              "#bd3786"
             ],
             [
              0.5555555555555556,
              "#d8576b"
             ],
             [
              0.6666666666666666,
              "#ed7953"
             ],
             [
              0.7777777777777778,
              "#fb9f3a"
             ],
             [
              0.8888888888888888,
              "#fdca26"
             ],
             [
              1,
              "#f0f921"
             ]
            ],
            "type": "histogram2d"
           }
          ],
          "histogram2dcontour": [
           {
            "colorbar": {
             "outlinewidth": 0,
             "ticks": ""
            },
            "colorscale": [
             [
              0,
              "#0d0887"
             ],
             [
              0.1111111111111111,
              "#46039f"
             ],
             [
              0.2222222222222222,
              "#7201a8"
             ],
             [
              0.3333333333333333,
              "#9c179e"
             ],
             [
              0.4444444444444444,
              "#bd3786"
             ],
             [
              0.5555555555555556,
              "#d8576b"
             ],
             [
              0.6666666666666666,
              "#ed7953"
             ],
             [
              0.7777777777777778,
              "#fb9f3a"
             ],
             [
              0.8888888888888888,
              "#fdca26"
             ],
             [
              1,
              "#f0f921"
             ]
            ],
            "type": "histogram2dcontour"
           }
          ],
          "mesh3d": [
           {
            "colorbar": {
             "outlinewidth": 0,
             "ticks": ""
            },
            "type": "mesh3d"
           }
          ],
          "parcoords": [
           {
            "line": {
             "colorbar": {
              "outlinewidth": 0,
              "ticks": ""
             }
            },
            "type": "parcoords"
           }
          ],
          "pie": [
           {
            "automargin": true,
            "type": "pie"
           }
          ],
          "scatter": [
           {
            "fillpattern": {
             "fillmode": "overlay",
             "size": 10,
             "solidity": 0.2
            },
            "type": "scatter"
           }
          ],
          "scatter3d": [
           {
            "line": {
             "colorbar": {
              "outlinewidth": 0,
              "ticks": ""
             }
            },
            "marker": {
             "colorbar": {
              "outlinewidth": 0,
              "ticks": ""
             }
            },
            "type": "scatter3d"
           }
          ],
          "scattercarpet": [
           {
            "marker": {
             "colorbar": {
              "outlinewidth": 0,
              "ticks": ""
             }
            },
            "type": "scattercarpet"
           }
          ],
          "scattergeo": [
           {
            "marker": {
             "colorbar": {
              "outlinewidth": 0,
              "ticks": ""
             }
            },
            "type": "scattergeo"
           }
          ],
          "scattergl": [
           {
            "marker": {
             "colorbar": {
              "outlinewidth": 0,
              "ticks": ""
             }
            },
            "type": "scattergl"
           }
          ],
          "scattermapbox": [
           {
            "marker": {
             "colorbar": {
              "outlinewidth": 0,
              "ticks": ""
             }
            },
            "type": "scattermapbox"
           }
          ],
          "scatterpolar": [
           {
            "marker": {
             "colorbar": {
              "outlinewidth": 0,
              "ticks": ""
             }
            },
            "type": "scatterpolar"
           }
          ],
          "scatterpolargl": [
           {
            "marker": {
             "colorbar": {
              "outlinewidth": 0,
              "ticks": ""
             }
            },
            "type": "scatterpolargl"
           }
          ],
          "scatterternary": [
           {
            "marker": {
             "colorbar": {
              "outlinewidth": 0,
              "ticks": ""
             }
            },
            "type": "scatterternary"
           }
          ],
          "surface": [
           {
            "colorbar": {
             "outlinewidth": 0,
             "ticks": ""
            },
            "colorscale": [
             [
              0,
              "#0d0887"
             ],
             [
              0.1111111111111111,
              "#46039f"
             ],
             [
              0.2222222222222222,
              "#7201a8"
             ],
             [
              0.3333333333333333,
              "#9c179e"
             ],
             [
              0.4444444444444444,
              "#bd3786"
             ],
             [
              0.5555555555555556,
              "#d8576b"
             ],
             [
              0.6666666666666666,
              "#ed7953"
             ],
             [
              0.7777777777777778,
              "#fb9f3a"
             ],
             [
              0.8888888888888888,
              "#fdca26"
             ],
             [
              1,
              "#f0f921"
             ]
            ],
            "type": "surface"
           }
          ],
          "table": [
           {
            "cells": {
             "fill": {
              "color": "#EBF0F8"
             },
             "line": {
              "color": "white"
             }
            },
            "header": {
             "fill": {
              "color": "#C8D4E3"
             },
             "line": {
              "color": "white"
             }
            },
            "type": "table"
           }
          ]
         },
         "layout": {
          "annotationdefaults": {
           "arrowcolor": "#2a3f5f",
           "arrowhead": 0,
           "arrowwidth": 1
          },
          "autotypenumbers": "strict",
          "coloraxis": {
           "colorbar": {
            "outlinewidth": 0,
            "ticks": ""
           }
          },
          "colorscale": {
           "diverging": [
            [
             0,
             "#8e0152"
            ],
            [
             0.1,
             "#c51b7d"
            ],
            [
             0.2,
             "#de77ae"
            ],
            [
             0.3,
             "#f1b6da"
            ],
            [
             0.4,
             "#fde0ef"
            ],
            [
             0.5,
             "#f7f7f7"
            ],
            [
             0.6,
             "#e6f5d0"
            ],
            [
             0.7,
             "#b8e186"
            ],
            [
             0.8,
             "#7fbc41"
            ],
            [
             0.9,
             "#4d9221"
            ],
            [
             1,
             "#276419"
            ]
           ],
           "sequential": [
            [
             0,
             "#0d0887"
            ],
            [
             0.1111111111111111,
             "#46039f"
            ],
            [
             0.2222222222222222,
             "#7201a8"
            ],
            [
             0.3333333333333333,
             "#9c179e"
            ],
            [
             0.4444444444444444,
             "#bd3786"
            ],
            [
             0.5555555555555556,
             "#d8576b"
            ],
            [
             0.6666666666666666,
             "#ed7953"
            ],
            [
             0.7777777777777778,
             "#fb9f3a"
            ],
            [
             0.8888888888888888,
             "#fdca26"
            ],
            [
             1,
             "#f0f921"
            ]
           ],
           "sequentialminus": [
            [
             0,
             "#0d0887"
            ],
            [
             0.1111111111111111,
             "#46039f"
            ],
            [
             0.2222222222222222,
             "#7201a8"
            ],
            [
             0.3333333333333333,
             "#9c179e"
            ],
            [
             0.4444444444444444,
             "#bd3786"
            ],
            [
             0.5555555555555556,
             "#d8576b"
            ],
            [
             0.6666666666666666,
             "#ed7953"
            ],
            [
             0.7777777777777778,
             "#fb9f3a"
            ],
            [
             0.8888888888888888,
             "#fdca26"
            ],
            [
             1,
             "#f0f921"
            ]
           ]
          },
          "colorway": [
           "#636efa",
           "#EF553B",
           "#00cc96",
           "#ab63fa",
           "#FFA15A",
           "#19d3f3",
           "#FF6692",
           "#B6E880",
           "#FF97FF",
           "#FECB52"
          ],
          "font": {
           "color": "#2a3f5f"
          },
          "geo": {
           "bgcolor": "white",
           "lakecolor": "white",
           "landcolor": "#E5ECF6",
           "showlakes": true,
           "showland": true,
           "subunitcolor": "white"
          },
          "hoverlabel": {
           "align": "left"
          },
          "hovermode": "closest",
          "mapbox": {
           "style": "light"
          },
          "paper_bgcolor": "white",
          "plot_bgcolor": "#E5ECF6",
          "polar": {
           "angularaxis": {
            "gridcolor": "white",
            "linecolor": "white",
            "ticks": ""
           },
           "bgcolor": "#E5ECF6",
           "radialaxis": {
            "gridcolor": "white",
            "linecolor": "white",
            "ticks": ""
           }
          },
          "scene": {
           "xaxis": {
            "backgroundcolor": "#E5ECF6",
            "gridcolor": "white",
            "gridwidth": 2,
            "linecolor": "white",
            "showbackground": true,
            "ticks": "",
            "zerolinecolor": "white"
           },
           "yaxis": {
            "backgroundcolor": "#E5ECF6",
            "gridcolor": "white",
            "gridwidth": 2,
            "linecolor": "white",
            "showbackground": true,
            "ticks": "",
            "zerolinecolor": "white"
           },
           "zaxis": {
            "backgroundcolor": "#E5ECF6",
            "gridcolor": "white",
            "gridwidth": 2,
            "linecolor": "white",
            "showbackground": true,
            "ticks": "",
            "zerolinecolor": "white"
           }
          },
          "shapedefaults": {
           "line": {
            "color": "#2a3f5f"
           }
          },
          "ternary": {
           "aaxis": {
            "gridcolor": "white",
            "linecolor": "white",
            "ticks": ""
           },
           "baxis": {
            "gridcolor": "white",
            "linecolor": "white",
            "ticks": ""
           },
           "bgcolor": "#E5ECF6",
           "caxis": {
            "gridcolor": "white",
            "linecolor": "white",
            "ticks": ""
           }
          },
          "title": {
           "x": 0.05
          },
          "xaxis": {
           "automargin": true,
           "gridcolor": "white",
           "linecolor": "white",
           "ticks": "",
           "title": {
            "standoff": 15
           },
           "zerolinecolor": "white",
           "zerolinewidth": 2
          },
          "yaxis": {
           "automargin": true,
           "gridcolor": "white",
           "linecolor": "white",
           "ticks": "",
           "title": {
            "standoff": 15
           },
           "zerolinecolor": "white",
           "zerolinewidth": 2
          }
         }
        },
        "title": {
         "text": "Produto interno bruto (PIB) a preços de mercado: índice real encadeado (média 1995 = 100)"
        },
        "xaxis": {
         "anchor": "y",
         "autorange": true,
         "domain": [
          0,
          1
         ],
         "range": [
          0,
          115
         ],
         "title": {
          "text": "mes_ano"
         },
         "type": "category"
        },
        "yaxis": {
         "anchor": "x",
         "autorange": true,
         "domain": [
          0,
          1
         ],
         "range": [
          91.38991275553623,
          200.38533004024967
         ],
         "title": {
          "text": "VALUE (-)"
         },
         "type": "linear"
        }
       }
      },
      "image/png": "[encoded data removed]",
      "text/html": [
       "<div>                            <div id=\"5db4a2eb-fe84-41a6-b181-8b21a526ddb7\" class=\"plotly-graph-div\" style=\"height:525px; width:100%;\"></div>            <script type=\"text/javascript\">                require([\"plotly\"], function(Plotly) {                    window.PLOTLYENV=window.PLOTLYENV || {};                                    if (document.getElementById(\"5db4a2eb-fe84-41a6-b181-8b21a526ddb7\")) {                    Plotly.newPlot(                        \"5db4a2eb-fe84-41a6-b181-8b21a526ddb7\",                        [{\"hovertemplate\":\"mes_ano=%{x}\\u003cbr\\u003eVALUE (-)=%{y}\\u003cextra\\u003e\\u003c\\u002fextra\\u003e\",\"legendgroup\":\"\",\"line\":{\"color\":\"#636efa\",\"dash\":\"solid\"},\"marker\":{\"symbol\":\"circle\"},\"mode\":\"lines\",\"name\":\"\",\"orientation\":\"v\",\"showlegend\":false,\"x\":[\"01\\u002f1996\",\"04\\u002f1996\",\"07\\u002f1996\",\"10\\u002f1996\",\"01\\u002f1997\",\"04\\u002f1997\",\"07\\u002f1997\",\"10\\u002f1997\",\"01\\u002f1998\",\"04\\u002f1998\",\"07\\u002f1998\",\"10\\u002f1998\",\"01\\u002f1999\",\"04\\u002f1999\",\"07\\u002f1999\",\"10\\u002f1999\",\"01\\u002f2000\",\"04\\u002f2000\",\"07\\u002f2000\",\"10\\u002f2000\",\"01\\u002f2001\",\"04\\u002f2001\",\"07\\u002f2001\",\"10\\u002f2001\",\"01\\u002f2002\",\"04\\u002f2002\",\"07\\u002f2002\",\"10\\u002f2002\",\"01\\u002f2003\",\"04\\u002f2003\",\"07\\u002f2003\",\"10\\u002f2003\",\"01\\u002f2004\",\"04\\u002f2004\",\"07\\u002f2004\",\"10\\u002f2004\",\"01\\u002f2005\",\"04\\u002f2005\",\"07\\u002f2005\",\"10\\u002f2005\",\"01\\u002f2006\",\"04\\u002f2006\",\"07\\u002f2006\",\"10\\u002f2006\",\"01\\u002f2007\",\"04\\u002f2007\",\"07\\u002f2007\",\"10\\u002f2007\",\"01\\u002f2008\",\"04\\u002f2008\",\"07\\u002f2008\",\"10\\u002f2008\",\"01\\u002f2009\",\"04\\u002f2009\",\"07\\u002f2009\",\"10\\u002f2009\",\"01\\u002f2010\",\"04\\u002f2010\",\"07\\u002f2010\",\"10\\u002f2010\",\"01\\u002f2011\",\"04\\u002f2011\",\"07\\u002f2011\",\"10\\u002f2011\",\"01\\u002f2012\",\"04\\u002f2012\",\"07\\u002f2012\",\"10\\u002f2012\",\"01\\u002f2013\",\"04\\u002f2013\",\"07\\u002f2013\",\"10\\u002f2013\",\"01\\u002f2014\",\"04\\u002f2014\",\"07\\u002f2014\",\"10\\u002f2014\",\"01\\u002f2015\",\"04\\u002f2015\",\"07\\u002f2015\",\"10\\u002f2015\",\"01\\u002f2016\",\"04\\u002f2016\",\"07\\u002f2016\",\"10\\u002f2016\",\"01\\u002f2017\",\"04\\u002f2017\",\"07\\u002f2017\",\"10\\u002f2017\",\"01\\u002f2018\",\"04\\u002f2018\",\"07\\u002f2018\",\"10\\u002f2018\",\"01\\u002f2019\",\"04\\u002f2019\",\"07\\u002f2019\",\"10\\u002f2019\",\"01\\u002f2020\",\"04\\u002f2020\",\"07\\u002f2020\",\"10\\u002f2020\",\"01\\u002f2021\",\"04\\u002f2021\",\"07\\u002f2021\",\"10\\u002f2021\",\"01\\u002f2022\",\"04\\u002f2022\",\"07\\u002f2022\",\"10\\u002f2022\",\"01\\u002f2023\",\"04\\u002f2023\",\"07\\u002f2023\",\"10\\u002f2023\",\"01\\u002f2024\",\"04\\u002f2024\",\"07\\u002f2024\",\"10\\u002f2024\"],\"xaxis\":\"x\",\"y\":[96.8396836197719,100.119467514028,107.561773309359,104.314529544694,100.132786447406,104.879149330001,109.488505220113,108.214346986587,101.14169920072,106.462460870289,109.877846013711,106.661971728804,101.918131048489,106.035824103128,109.2007423431,108.974009327805,106.403247281882,110.254362002232,114.185307545381,113.984102213273,110.100856213943,112.818939536169,114.71192532909,113.377932707301,110.625948256604,115.411747258377,119.500814406253,119.242551614289,113.576373705926,116.313392744013,120.249105456057,119.944546760319,117.980959022535,123.65074002038,128.136011631165,127.392346671157,122.917666112379,129.184080790893,130.84605837323,130.131989439967,128.177431913352,132.133737487325,136.724694388845,136.372094340542,134.835853105682,140.771659617858,144.750778301082,145.426840064151,143.138241946732,149.691126428651,154.855556983237,146.922406121677,139.665630318986,146.393452862581,153.055128570474,154.745032323487,152.527567822777,158.862863817609,163.626890472144,163.548986893568,160.451553673832,166.330213240623,169.414939112875,167.748929756853,163.190790548475,167.971026325928,173.625614578102,171.913768396182,167.6313730752,174.726549274464,178.415858785986,176.26108981056,173.44712259246,173.966011674964,177.276149778553,175.858334174846,170.63830527997,169.19869503081,169.719148648215,166.151708233901,161.870504374927,163.753034389359,165.553919176281,162.394771431084,162.326973434035,165.042539553125,168.270172090362,166.57844899575,165.419265345197,167.71144485026,171.731158082837,169.168030516855,166.91022607139,169.677935950353,173.636608251354,172.033536010326,167.601192913168,152.47648707987,168.365545861063,171.459121457283,170.533849835623,171.378306079862,175.458714408045,173.960015001624,173.046458934135,177.451702100118,183.041712363066,178.646351713458,180.737231404294,184.284071754152,187.352393615227,182.899151049656,185.36364203916,190.42858073869,194.935559176014,189.513949866152],\"yaxis\":\"y\",\"type\":\"scatter\"}],                        {\"template\":{\"data\":{\"histogram2dcontour\":[{\"type\":\"histogram2dcontour\",\"colorbar\":{\"outlinewidth\":0,\"ticks\":\"\"},\"colorscale\":[[0.0,\"#0d0887\"],[0.1111111111111111,\"#46039f\"],[0.2222222222222222,\"#7201a8\"],[0.3333333333333333,\"#9c179e\"],[0.4444444444444444,\"#bd3786\"],[0.5555555555555556,\"#d8576b\"],[0.6666666666666666,\"#ed7953\"],[0.7777777777777778,\"#fb9f3a\"],[0.8888888888888888,\"#fdca26\"],[1.0,\"#f0f921\"]]}],\"choropleth\":[{\"type\":\"choropleth\",\"colorbar\":{\"outlinewidth\":0,\"ticks\":\"\"}}],\"histogram2d\":[{\"type\":\"histogram2d\",\"colorbar\":{\"outlinewidth\":0,\"ticks\":\"\"},\"colorscale\":[[0.0,\"#0d0887\"],[0.1111111111111111,\"#46039f\"],[0.2222222222222222,\"#7201a8\"],[0.3333333333333333,\"#9c179e\"],[0.4444444444444444,\"#bd3786\"],[0.5555555555555556,\"#d8576b\"],[0.6666666666666666,\"#ed7953\"],[0.7777777777777778,\"#fb9f3a\"],[0.8888888888888888,\"#fdca26\"],[1.0,\"#f0f921\"]]}],\"heatmap\":[{\"type\":\"heatmap\",\"colorbar\":{\"outlinewidth\":0,\"ticks\":\"\"},\"colorscale\":[[0.0,\"#0d0887\"],[0.1111111111111111,\"#46039f\"],[0.2222222222222222,\"#7201a8\"],[0.3333333333333333,\"#9c179e\"],[0.4444444444444444,\"#bd3786\"],[0.5555555555555556,\"#d8576b\"],[0.6666666666666666,\"#ed7953\"],[0.7777777777777778,\"#fb9f3a\"],[0.8888888888888888,\"#fdca26\"],[1.0,\"#f0f921\"]]}],\"heatmapgl\":[{\"type\":\"heatmapgl\",\"colorbar\":{\"outlinewidth\":0,\"ticks\":\"\"},\"colorscale\":[[0.0,\"#0d0887\"],[0.1111111111111111,\"#46039f\"],[0.2222222222222222,\"#7201a8\"],[0.3333333333333333,\"#9c179e\"],[0.4444444444444444,\"#bd3786\"],[0.5555555555555556,\"#d8576b\"],[0.6666666666666666,\"#ed7953\"],[0.7777777777777778,\"#fb9f3a\"],[0.8888888888888888,\"#fdca26\"],[1.0,\"#f0f921\"]]}],\"contourcarpet\":[{\"type\":\"contourcarpet\",\"colorbar\":{\"outlinewidth\":0,\"ticks\":\"\"}}],\"contour\":[{\"type\":\"contour\",\"colorbar\":{\"outlinewidth\":0,\"ticks\":\"\"},\"colorscale\":[[0.0,\"#0d0887\"],[0.1111111111111111,\"#46039f\"],[0.2222222222222222,\"#7201a8\"],[0.3333333333333333,\"#9c179e\"],[0.4444444444444444,\"#bd3786\"],[0.5555555555555556,\"#d8576b\"],[0.6666666666666666,\"#ed7953\"],[0.7777777777777778,\"#fb9f3a\"],[0.8888888888888888,\"#fdca26\"],[1.0,\"#f0f921\"]]}],\"surface\":[{\"type\":\"surface\",\"colorbar\":{\"outlinewidth\":0,\"ticks\":\"\"},\"colorscale\":[[0.0,\"#0d0887\"],[0.1111111111111111,\"#46039f\"],[0.2222222222222222,\"#7201a8\"],[0.3333333333333333,\"#9c179e\"],[0.4444444444444444,\"#bd3786\"],[0.5555555555555556,\"#d8576b\"],[0.6666666666666666,\"#ed7953\"],[0.7777777777777778,\"#fb9f3a\"],[0.8888888888888888,\"#fdca26\"],[1.0,\"#f0f921\"]]}],\"mesh3d\":[{\"type\":\"mesh3d\",\"colorbar\":{\"outlinewidth\":0,\"ticks\":\"\"}}],\"scatter\":[{\"fillpattern\":{\"fillmode\":\"overlay\",\"size\":10,\"solidity\":0.2},\"type\":\"scatter\"}],\"parcoords\":[{\"type\":\"parcoords\",\"line\":{\"colorbar\":{\"outlinewidth\":0,\"ticks\":\"\"}}}],\"scatterpolargl\":[{\"type\":\"scatterpolargl\",\"marker\":{\"colorbar\":{\"outlinewidth\":0,\"ticks\":\"\"}}}],\"bar\":[{\"error_x\":{\"color\":\"#2a3f5f\"},\"error_y\":{\"color\":\"#2a3f5f\"},\"marker\":{\"line\":{\"color\":\"#E5ECF6\",\"width\":0.5},\"pattern\":{\"fillmode\":\"overlay\",\"size\":10,\"solidity\":0.2}},\"type\":\"bar\"}],\"scattergeo\":[{\"type\":\"scattergeo\",\"marker\":{\"colorbar\":{\"outlinewidth\":0,\"ticks\":\"\"}}}],\"scatterpolar\":[{\"type\":\"scatterpolar\",\"marker\":{\"colorbar\":{\"outlinewidth\":0,\"ticks\":\"\"}}}],\"histogram\":[{\"marker\":{\"pattern\":{\"fillmode\":\"overlay\",\"size\":10,\"solidity\":0.2}},\"type\":\"histogram\"}],\"scattergl\":[{\"type\":\"scattergl\",\"marker\":{\"colorbar\":{\"outlinewidth\":0,\"ticks\":\"\"}}}],\"scatter3d\":[{\"type\":\"scatter3d\",\"line\":{\"colorbar\":{\"outlinewidth\":0,\"ticks\":\"\"}},\"marker\":{\"colorbar\":{\"outlinewidth\":0,\"ticks\":\"\"}}}],\"scattermapbox\":[{\"type\":\"scattermapbox\",\"marker\":{\"colorbar\":{\"outlinewidth\":0,\"ticks\":\"\"}}}],\"scatterternary\":[{\"type\":\"scatterternary\",\"marker\":{\"colorbar\":{\"outlinewidth\":0,\"ticks\":\"\"}}}],\"scattercarpet\":[{\"type\":\"scattercarpet\",\"marker\":{\"colorbar\":{\"outlinewidth\":0,\"ticks\":\"\"}}}],\"carpet\":[{\"aaxis\":{\"endlinecolor\":\"#2a3f5f\",\"gridcolor\":\"white\",\"linecolor\":\"white\",\"minorgridcolor\":\"white\",\"startlinecolor\":\"#2a3f5f\"},\"baxis\":{\"endlinecolor\":\"#2a3f5f\",\"gridcolor\":\"white\",\"linecolor\":\"white\",\"minorgridcolor\":\"white\",\"startlinecolor\":\"#2a3f5f\"},\"type\":\"carpet\"}],\"table\":[{\"cells\":{\"fill\":{\"color\":\"#EBF0F8\"},\"line\":{\"color\":\"white\"}},\"header\":{\"fill\":{\"color\":\"#C8D4E3\"},\"line\":{\"color\":\"white\"}},\"type\":\"table\"}],\"barpolar\":[{\"marker\":{\"line\":{\"color\":\"#E5ECF6\",\"width\":0.5},\"pattern\":{\"fillmode\":\"overlay\",\"size\":10,\"solidity\":0.2}},\"type\":\"barpolar\"}],\"pie\":[{\"automargin\":true,\"type\":\"pie\"}]},\"layout\":{\"autotypenumbers\":\"strict\",\"colorway\":[\"#636efa\",\"#EF553B\",\"#00cc96\",\"#ab63fa\",\"#FFA15A\",\"#19d3f3\",\"#FF6692\",\"#B6E880\",\"#FF97FF\",\"#FECB52\"],\"font\":{\"color\":\"#2a3f5f\"},\"hovermode\":\"closest\",\"hoverlabel\":{\"align\":\"left\"},\"paper_bgcolor\":\"white\",\"plot_bgcolor\":\"#E5ECF6\",\"polar\":{\"bgcolor\":\"#E5ECF6\",\"angularaxis\":{\"gridcolor\":\"white\",\"linecolor\":\"white\",\"ticks\":\"\"},\"radialaxis\":{\"gridcolor\":\"white\",\"linecolor\":\"white\",\"ticks\":\"\"}},\"ternary\":{\"bgcolor\":\"#E5ECF6\",\"aaxis\":{\"gridcolor\":\"white\",\"linecolor\":\"white\",\"ticks\":\"\"},\"baxis\":{\"gridcolor\":\"white\",\"linecolor\":\"white\",\"ticks\":\"\"},\"caxis\":{\"gridcolor\":\"white\",\"linecolor\":\"white\",\"ticks\":\"\"}},\"coloraxis\":{\"colorbar\":{\"outlinewidth\":0,\"ticks\":\"\"}},\"colorscale\":{\"sequential\":[[0.0,\"#0d0887\"],[0.1111111111111111,\"#46039f\"],[0.2222222222222222,\"#7201a8\"],[0.3333333333333333,\"#9c179e\"],[0.4444444444444444,\"#bd3786\"],[0.5555555555555556,\"#d8576b\"],[0.6666666666666666,\"#ed7953\"],[0.7777777777777778,\"#fb9f3a\"],[0.8888888888888888,\"#fdca26\"],[1.0,\"#f0f921\"]],\"sequentialminus\":[[0.0,\"#0d0887\"],[0.1111111111111111,\"#46039f\"],[0.2222222222222222,\"#7201a8\"],[0.3333333333333333,\"#9c179e\"],[0.4444444444444444,\"#bd3786\"],[0.5555555555555556,\"#d8576b\"],[0.6666666666666666,\"#ed7953\"],[0.7777777777777778,\"#fb9f3a\"],[0.8888888888888888,\"#fdca26\"],[1.0,\"#f0f921\"]],\"diverging\":[[0,\"#8e0152\"],[0.1,\"#c51b7d\"],[0.2,\"#de77ae\"],[0.3,\"#f1b6da\"],[0.4,\"#fde0ef\"],[0.5,\"#f7f7f7\"],[0.6,\"#e6f5d0\"],[0.7,\"#b8e186\"],[0.8,\"#7fbc41\"],[0.9,\"#4d9221\"],[1,\"#276419\"]]},\"xaxis\":{\"gridcolor\":\"white\",\"linecolor\":\"white\",\"ticks\":\"\",\"title\":{\"standoff\":15},\"zerolinecolor\":\"white\",\"automargin\":true,\"zerolinewidth\":2},\"yaxis\":{\"gridcolor\":\"white\",\"linecolor\":\"white\",\"ticks\":\"\",\"title\":{\"standoff\":15},\"zerolinecolor\":\"white\",\"automargin\":true,\"zerolinewidth\":2},\"scene\":{\"xaxis\":{\"backgroundcolor\":\"#E5ECF6\",\"gridcolor\":\"white\",\"linecolor\":\"white\",\"showbackground\":true,\"ticks\":\"\",\"zerolinecolor\":\"white\",\"gridwidth\":2},\"yaxis\":{\"backgroundcolor\":\"#E5ECF6\",\"gridcolor\":\"white\",\"linecolor\":\"white\",\"showbackground\":true,\"ticks\":\"\",\"zerolinecolor\":\"white\",\"gridwidth\":2},\"zaxis\":{\"backgroundcolor\":\"#E5ECF6\",\"gridcolor\":\"white\",\"linecolor\":\"white\",\"showbackground\":true,\"ticks\":\"\",\"zerolinecolor\":\"white\",\"gridwidth\":2}},\"shapedefaults\":{\"line\":{\"color\":\"#2a3f5f\"}},\"annotationdefaults\":{\"arrowcolor\":\"#2a3f5f\",\"arrowhead\":0,\"arrowwidth\":1},\"geo\":{\"bgcolor\":\"white\",\"landcolor\":\"#E5ECF6\",\"subunitcolor\":\"white\",\"showland\":true,\"showlakes\":true,\"lakecolor\":\"white\"},\"title\":{\"x\":0.05},\"mapbox\":{\"style\":\"light\"}}},\"xaxis\":{\"anchor\":\"y\",\"domain\":[0.0,1.0],\"title\":{\"text\":\"mes_ano\"}},\"yaxis\":{\"anchor\":\"x\",\"domain\":[0.0,1.0],\"title\":{\"text\":\"VALUE (-)\"}},\"legend\":{\"tracegroupgap\":0},\"title\":{\"text\":\"Produto interno bruto (PIB) a pre\\u00e7os de mercado: \\u00edndice real encadeado (m\\u00e9dia 1995 = 100)\"}},                        {\"responsive\": true}                    ).then(function(){\n",
       "                            \n",
       "var gd = document.getElementById('5db4a2eb-fe84-41a6-b181-8b21a526ddb7');\n",
       "var x = new MutationObserver(function (mutations, observer) {{\n",
       "        var display = window.getComputedStyle(gd).display;\n",
       "        if (!display || display === 'none') {{\n",
       "            console.log([gd, 'removed!']);\n",
       "            Plotly.purge(gd);\n",
       "            observer.disconnect();\n",
       "        }}\n",
       "}});\n",
       "\n",
       "// Listen for the removal of the full notebook cells\n",
       "var notebookContainer = gd.closest('#notebook-container');\n",
       "if (notebookContainer) {{\n",
       "    x.observe(notebookContainer, {childList: true});\n",
       "}}\n",
       "\n",
       "// Listen for the clearing of the current output cell\n",
       "var outputEl = gd.closest('.output');\n",
       "if (outputEl) {{\n",
       "    x.observe(outputEl, {childList: true});\n",
       "}}\n",
       "\n",
       "                        })                };                });            </script>        </div>"
      ]
     },
     "metadata": {},
     "output_type": "display_data"
    }
   ],
   "source": [
    "fig_pib = px.line(pib, x = 'mes_ano', y = 'VALUE (-)', title  = 'Produto interno bruto (PIB) a preços de mercado: índice real encadeado (média 1995 = 100)')\n",
    "fig_pib.show()"
   ]
  },
  {
   "cell_type": "code",
   "execution_count": 43,
   "id": "c42086d9-ad11-40b3-9ec6-52fe4f7b2942",
   "metadata": {},
   "outputs": [
    {
     "data": {
      "application/vnd.plotly.v1+json": {
       "config": {
        "plotlyServerURL": "https://plot.ly"
       },
       "data": [
        {
         "hovertemplate": "mes_ano=%{x}<br>VALUE (-)=%{y}<extra></extra>",
         "legendgroup": "",
         "line": {
          "color": "#636efa",
          "dash": "solid"
         },
         "marker": {
          "symbol": "circle"
         },
         "mode": "lines",
         "name": "",
         "orientation": "v",
         "showlegend": false,
         "type": "scatter",
         "x": [
          "12/1979",
          "01/1980",
          "02/1980",
          "03/1980",
          "04/1980",
          "05/1980",
          "06/1980",
          "07/1980",
          "08/1980",
          "09/1980",
          "10/1980",
          "11/1980",
          "12/1980",
          "01/1981",
          "02/1981",
          "03/1981",
          "04/1981",
          "05/1981",
          "06/1981",
          "07/1981",
          "08/1981",
          "09/1981",
          "10/1981",
          "11/1981",
          "12/1981",
          "01/1982",
          "02/1982",
          "03/1982",
          "04/1982",
          "05/1982",
          "06/1982",
          "07/1982",
          "08/1982",
          "09/1982",
          "10/1982",
          "11/1982",
          "12/1982",
          "01/1983",
          "02/1983",
          "03/1983",
          "04/1983",
          "05/1983",
          "06/1983",
          "07/1983",
          "08/1983",
          "09/1983",
          "10/1983",
          "11/1983",
          "12/1983",
          "01/1984",
          "02/1984",
          "03/1984",
          "04/1984",
          "05/1984",
          "06/1984",
          "07/1984",
          "08/1984",
          "09/1984",
          "10/1984",
          "11/1984",
          "12/1984",
          "01/1985",
          "02/1985",
          "03/1985",
          "04/1985",
          "05/1985",
          "06/1985",
          "07/1985",
          "08/1985",
          "09/1985",
          "10/1985",
          "11/1985",
          "12/1985",
          "01/1986",
          "02/1986",
          "03/1986",
          "04/1986",
          "05/1986",
          "06/1986",
          "07/1986",
          "08/1986",
          "09/1986",
          "10/1986",
          "11/1986",
          "12/1986",
          "01/1987",
          "02/1987",
          "03/1987",
          "04/1987",
          "05/1987",
          "06/1987",
          "07/1987",
          "08/1987",
          "09/1987",
          "10/1987",
          "11/1987",
          "12/1987",
          "01/1988",
          "02/1988",
          "03/1988",
          "04/1988",
          "05/1988",
          "06/1988",
          "07/1988",
          "08/1988",
          "09/1988",
          "10/1988",
          "11/1988",
          "12/1988",
          "01/1989",
          "02/1989",
          "03/1989",
          "04/1989",
          "05/1989",
          "06/1989",
          "07/1989",
          "08/1989",
          "09/1989",
          "10/1989",
          "11/1989",
          "12/1989",
          "01/1990",
          "02/1990",
          "03/1990",
          "04/1990",
          "05/1990",
          "06/1990",
          "07/1990",
          "08/1990",
          "09/1990",
          "10/1990",
          "11/1990",
          "12/1990",
          "01/1991",
          "02/1991",
          "03/1991",
          "04/1991",
          "05/1991",
          "06/1991",
          "07/1991",
          "08/1991",
          "09/1991",
          "10/1991",
          "11/1991",
          "12/1991",
          "01/1992",
          "02/1992",
          "03/1992",
          "04/1992",
          "05/1992",
          "06/1992",
          "07/1992",
          "08/1992",
          "09/1992",
          "10/1992",
          "11/1992",
          "12/1992",
          "01/1993",
          "02/1993",
          "03/1993",
          "04/1993",
          "05/1993",
          "06/1993",
          "07/1993",
          "08/1993",
          "09/1993",
          "10/1993",
          "11/1993",
          "12/1993",
          "01/1994",
          "02/1994",
          "03/1994",
          "04/1994",
          "05/1994",
          "06/1994",
          "07/1994",
          "08/1994",
          "09/1994",
          "10/1994",
          "11/1994",
          "12/1994",
          "01/1995",
          "02/1995",
          "03/1995",
          "04/1995",
          "05/1995",
          "06/1995",
          "07/1995",
          "08/1995",
          "09/1995",
          "10/1995",
          "11/1995",
          "12/1995",
          "01/1996",
          "02/1996",
          "03/1996",
          "04/1996",
          "05/1996",
          "06/1996",
          "07/1996",
          "08/1996",
          "09/1996",
          "10/1996",
          "11/1996",
          "12/1996",
          "01/1997",
          "02/1997",
          "03/1997",
          "04/1997",
          "05/1997",
          "06/1997",
          "07/1997",
          "08/1997",
          "09/1997",
          "10/1997",
          "11/1997",
          "12/1997",
          "01/1998",
          "02/1998",
          "03/1998",
          "04/1998",
          "05/1998",
          "06/1998",
          "07/1998",
          "08/1998",
          "09/1998",
          "10/1998",
          "11/1998",
          "12/1998",
          "01/1999",
          "02/1999",
          "03/1999",
          "04/1999",
          "05/1999",
          "06/1999",
          "07/1999",
          "08/1999",
          "09/1999",
          "10/1999",
          "11/1999",
          "12/1999",
          "01/2000",
          "02/2000",
          "03/2000",
          "04/2000",
          "05/2000",
          "06/2000",
          "07/2000",
          "08/2000",
          "09/2000",
          "10/2000",
          "11/2000",
          "12/2000",
          "01/2001",
          "02/2001",
          "03/2001",
          "04/2001",
          "05/2001",
          "06/2001",
          "07/2001",
          "08/2001",
          "09/2001",
          "10/2001",
          "11/2001",
          "12/2001",
          "01/2002",
          "02/2002",
          "03/2002",
          "04/2002",
          "05/2002",
          "06/2002",
          "07/2002",
          "08/2002",
          "09/2002",
          "10/2002",
          "11/2002",
          "12/2002",
          "01/2003",
          "02/2003",
          "03/2003",
          "04/2003",
          "05/2003",
          "06/2003",
          "07/2003",
          "08/2003",
          "09/2003",
          "10/2003",
          "11/2003",
          "12/2003",
          "01/2004",
          "02/2004",
          "03/2004",
          "04/2004",
          "05/2004",
          "06/2004",
          "07/2004",
          "08/2004",
          "09/2004",
          "10/2004",
          "11/2004",
          "12/2004",
          "01/2005",
          "02/2005",
          "03/2005",
          "04/2005",
          "05/2005",
          "06/2005",
          "07/2005",
          "08/2005",
          "09/2005",
          "10/2005",
          "11/2005",
          "12/2005",
          "01/2006",
          "02/2006",
          "03/2006",
          "04/2006",
          "05/2006",
          "06/2006",
          "07/2006",
          "08/2006",
          "09/2006",
          "10/2006",
          "11/2006",
          "12/2006",
          "01/2007",
          "02/2007",
          "03/2007",
          "04/2007",
          "05/2007",
          "06/2007",
          "07/2007",
          "08/2007",
          "09/2007",
          "10/2007",
          "11/2007",
          "12/2007",
          "01/2008",
          "02/2008",
          "03/2008",
          "04/2008",
          "05/2008",
          "06/2008",
          "07/2008",
          "08/2008",
          "09/2008",
          "10/2008",
          "11/2008",
          "12/2008",
          "01/2009",
          "02/2009",
          "03/2009",
          "04/2009",
          "05/2009",
          "06/2009",
          "07/2009",
          "08/2009",
          "09/2009",
          "10/2009",
          "11/2009",
          "12/2009",
          "01/2010",
          "02/2010",
          "03/2010",
          "04/2010",
          "05/2010",
          "06/2010",
          "07/2010",
          "08/2010",
          "09/2010",
          "10/2010",
          "11/2010",
          "12/2010",
          "01/2011",
          "02/2011",
          "03/2011",
          "04/2011",
          "05/2011",
          "06/2011",
          "07/2011",
          "08/2011",
          "09/2011",
          "10/2011",
          "11/2011",
          "12/2011",
          "01/2012",
          "02/2012",
          "03/2012",
          "04/2012",
          "05/2012",
          "06/2012",
          "07/2012",
          "08/2012",
          "09/2012",
          "10/2012",
          "11/2012",
          "12/2012",
          "01/2013",
          "02/2013",
          "03/2013",
          "04/2013",
          "05/2013",
          "06/2013",
          "07/2013",
          "08/2013",
          "09/2013",
          "10/2013",
          "11/2013",
          "12/2013",
          "01/2014",
          "02/2014",
          "03/2014",
          "04/2014",
          "05/2014",
          "06/2014",
          "07/2014",
          "08/2014",
          "09/2014",
          "10/2014",
          "11/2014",
          "12/2014",
          "01/2015",
          "02/2015",
          "03/2015",
          "04/2015",
          "05/2015",
          "06/2015",
          "07/2015",
          "08/2015",
          "09/2015",
          "10/2015",
          "11/2015",
          "12/2015",
          "01/2016",
          "02/2016",
          "03/2016",
          "04/2016",
          "05/2016",
          "06/2016",
          "07/2016",
          "08/2016",
          "09/2016",
          "10/2016",
          "11/2016",
          "12/2016",
          "01/2017",
          "02/2017",
          "03/2017",
          "04/2017",
          "05/2017",
          "06/2017",
          "07/2017",
          "08/2017",
          "09/2017",
          "10/2017",
          "11/2017",
          "12/2017",
          "01/2018",
          "02/2018",
          "03/2018",
          "04/2018",
          "05/2018",
          "06/2018",
          "07/2018",
          "08/2018",
          "09/2018",
          "10/2018",
          "11/2018",
          "12/2018",
          "01/2019",
          "02/2019",
          "03/2019",
          "04/2019",
          "05/2019",
          "06/2019",
          "07/2019",
          "08/2019",
          "09/2019",
          "10/2019",
          "11/2019",
          "12/2019",
          "01/2020",
          "02/2020",
          "03/2020",
          "04/2020",
          "05/2020",
          "06/2020",
          "07/2020",
          "08/2020",
          "09/2020",
          "10/2020",
          "11/2020",
          "12/2020",
          "01/2021",
          "02/2021",
          "03/2021",
          "04/2021",
          "05/2021",
          "06/2021",
          "07/2021",
          "08/2021",
          "09/2021",
          "10/2021",
          "11/2021",
          "12/2021",
          "01/2022",
          "02/2022",
          "03/2022",
          "04/2022",
          "05/2022",
          "06/2022",
          "07/2022",
          "08/2022",
          "09/2022",
          "10/2022",
          "11/2022",
          "12/2022",
          "01/2023",
          "02/2023",
          "03/2023",
          "04/2023",
          "05/2023",
          "06/2023",
          "07/2023",
          "08/2023",
          "09/2023",
          "10/2023",
          "11/2023",
          "12/2023",
          "01/2024",
          "02/2024",
          "03/2024",
          "04/2024",
          "05/2024",
          "06/2024",
          "07/2024",
          "08/2024",
          "09/2024",
          "10/2024",
          "11/2024",
          "12/2024",
          "01/2025",
          "02/2025"
         ],
         "xaxis": "x",
         "y": [
          7.6183e-09,
          8.1223e-09,
          8.4973e-09,
          9.0104e-09,
          9.4867e-09,
          1.00277e-08,
          1.05597e-08,
          1.11453e-08,
          1.16965e-08,
          1.21913e-08,
          1.33471e-08,
          1.42378e-08,
          1.51795e-08,
          1.62174e-08,
          1.72555e-08,
          1.81134e-08,
          1.92839e-08,
          2.0356e-08,
          2.14792e-08,
          2.28229e-08,
          2.40772e-08,
          2.53429e-08,
          2.66297e-08,
          2.80335e-08,
          2.96946e-08,
          3.17628e-08,
          3.38708e-08,
          3.58057e-08,
          3.79137e-08,
          4.04382e-08,
          4.33113e-08,
          4.6065e-08,
          4.88164e-08,
          5.12964e-08,
          5.35752e-08,
          5.64085e-08,
          6.08117e-08,
          6.60665e-08,
          7.12581e-08,
          7.64919e-08,
          8.15245e-08,
          8.68097e-08,
          9.53868e-08,
          1.050003e-07,
          1.145671e-07,
          1.263682e-07,
          1.375727e-07,
          1.477314e-07,
          1.605502e-07,
          1.760737e-07,
          1.92802e-07,
          2.100357e-07,
          2.300794e-07,
          2.509021e-07,
          2.761935e-07,
          3.030524e-07,
          3.313854e-07,
          3.703168e-07,
          4.089675e-07,
          4.520168e-07,
          5.061559e-07,
          5.656761e-07,
          6.271382e-07,
          6.908698e-07,
          7.474889e-07,
          8.01277e-07,
          8.693369e-07,
          9.589916e-07,
          1.0745459e-06,
          1.1940075e-06,
          1.3207687e-06,
          1.5053189e-06,
          1.7322163e-06,
          1.9811765e-06,
          2.233108e-06,
          2.3396314e-06,
          2.3578806e-06,
          2.3908694e-06,
          2.4212846e-06,
          2.462696e-06,
          2.5501983e-06,
          2.5939494e-06,
          2.6433156e-06,
          2.7874369e-06,
          3.1121777e-06,
          3.523251e-06,
          3.9684829e-06,
          4.6181985e-06,
          5.5002395e-06,
          6.6801157e-06,
          7.9968603e-06,
          8.7333762e-06,
          9.1587212e-06,
          9.871373e-06,
          1.09789545e-05,
          1.26344777e-05,
          1.44221901e-05,
          1.7146457e-05,
          1.98384369e-05,
          2.33301029e-05,
          2.7830389e-05,
          3.26783343e-05,
          3.98675537e-05,
          4.86025677e-05,
          5.90958147e-05,
          7.53176493e-05,
          9.46139936e-05,
          0.0001210492553,
          0.0001557904426,
          0.0002141963,
          0.0002501384201,
          0.0002671978428,
          0.0002894554586,
          0.0003413257896,
          0.0004391155989,
          0.0005609261703,
          0.0007500144816,
          0.001031719911,
          0.0014420348808,
          0.0021316159803,
          0.0032293981927,
          0.0054108567454,
          0.0095084984833,
          0.017342550351,
          0.0200341140678,
          0.0215547032441,
          0.0240873809519,
          0.027199470492,
          0.0307027623187,
          0.0351270304097,
          0.0401712720553,
          0.0469240627842,
          0.0555768600186,
          0.0671090584724,
          0.0810143888491,
          0.0906736471203,
          0.0951976035258,
          0.1022725378062,
          0.113715813284,
          0.1278267780427,
          0.1478066592194,
          0.1709099599291,
          0.2054843245466,
          0.2572875157699,
          0.3182886773263,
          0.4008536605699,
          0.4983410307284,
          0.6049874674181,
          0.7255614652283,
          0.9059361644186,
          1.0890285720637,
          1.3267641484791,
          1.6205100844213,
          2.0196408623306,
          2.5293973801068,
          3.0982598885128,
          3.88025965509,
          5.0579166458253,
          6.3213843084293,
          8.0445948724789,
          10.2769672819025,
          13.1226581300609,
          17.0686429798089,
          22.3121307612362,
          29.6662109364145,
          40.2540807309468,
          53.9082648348533,
          73.078046584524,
          100,
          141.31,
          198.22,
          282.96,
          403.73,
          581.49,
          857.29,
          915.93,
          932.97,
          947.24,
          972.06,
          999.37,
          1016.46,
          1033.74,
          1044.28,
          1060.47,
          1086.24,
          1115.24,
          1140.44,
          1167.35,
          1178.91,
          1190.58,
          1207.37,
          1225.12,
          1244.23,
          1260.9,
          1273.89,
          1278.35,
          1294.46,
          1310.25,
          1325.84,
          1340.56,
          1346.46,
          1348.48,
          1352.53,
          1356.86,
          1363.24,
          1379.33,
          1386.23,
          1393.3,
          1405.56,
          1411.32,
          1418.94,
          1422.06,
          1421.78,
          1422.63,
          1425.9,
          1428.32,
          1434.46,
          1444.64,
          1451.29,
          1456.22,
          1459.71,
          1467.01,
          1467.3,
          1465.54,
          1458.07,
          1454.86,
          1455.15,
          1453.4,
          1458.2,
          1468.41,
          1483.83,
          1500.15,
          1508.55,
          1513.08,
          1515.95,
          1532.47,
          1541.05,
          1545.83,
          1564.23,
          1579.09,
          1588.56,
          1598.41,
          1600.49,
          1604.01,
          1610.75,
          1610.91,
          1614.62,
          1640.62,
          1662.11,
          1665.93,
          1668.26,
          1673.6,
          1683.47,
          1693.07,
          1700.86,
          1707.32,
          1717.22,
          1724.26,
          1733.23,
          1756.28,
          1768.57,
          1773.52,
          1788.24,
          1800.94,
          1812.65,
          1822.08,
          1828.64,
          1839.61,
          1854.33,
          1858.22,
          1866.02,
          1888.23,
          1900.5,
          1914.18,
          1939.26,
          1997.83,
          2039.78,
          2085.68,
          2118.43,
          2144.49,
          2165.29,
          2178.5,
          2175.23,
          2179.58,
          2186.99,
          2204.05,
          2210.44,
          2217.96,
          2229.49,
          2246.43,
          2260.13,
          2270.75,
          2279.15,
          2290.77,
          2307.03,
          2328.02,
          2344.08,
          2351.82,
          2362.17,
          2378.47,
          2398.92,
          2412.83,
          2427.07,
          2441.87,
          2463.11,
          2475.18,
          2474.68,
          2480.87,
          2485.09,
          2493.79,
          2512.49,
          2526.31,
          2535.4,
          2550.36,
          2560.82,
          2571.83,
          2577.23,
          2579.81,
          2574.39,
          2579.28,
          2580.57,
          2585.99,
          2594.52,
          2602.56,
          2615.05,
          2626.56,
          2638.12,
          2647.88,
          2654.5,
          2661.93,
          2669.38,
          2675.79,
          2688.37,
          2693.21,
          2701.29,
          2711.55,
          2731.62,
          2746.37,
          2759.83,
          2773.08,
          2788.33,
          2810.36,
          2831.16,
          2846.16,
          2854.13,
          2861.55,
          2874.43,
          2884.78,
          2892.86,
          2906.74,
          2922.73,
          2928.57,
          2942.63,
          2956.46,
          2967.1,
          2974.22,
          2978.68,
          2985.83,
          2994.19,
          3006.47,
          3017.59,
          3040.22,
          3063.93,
          3079.86,
          3097.42,
          3110.74,
          3110.74,
          3111.05,
          3112.29,
          3126.29,
          3149.74,
          3175.88,
          3195.89,
          3222.42,
          3248.2,
          3273.86,
          3299.07,
          3314.58,
          3319.55,
          3324.86,
          3337.16,
          3354.85,
          3369.28,
          3386.8,
          3403.73,
          3422.79,
          3438.19,
          3445.41,
          3467.46,
          3479.94,
          3482.72,
          3497.7,
          3512.04,
          3532.06,
          3552.9,
          3574.22,
          3602.46,
          3633.44,
          3655.24,
          3672.42,
          3692.62,
          3706.28,
          3715.92,
          3717.03,
          3725.95,
          3738.99,
          3760.3,
          3780.61,
          3815.39,
          3836.37,
          3862.84,
          3898.38,
          3924.5,
          3942.55,
          3958.32,
          3958.72,
          3968.62,
          3991.24,
          4008,
          4028.44,
          4059.86,
          4110.2,
          4160.34,
          4215.26,
          4245.19,
          4276.6,
          4310.39,
          4337.11,
          4346.65,
          4370.12,
          4405.95,
          4450.45,
          4493.17,
          4550.23,
          4591.18,
          4610.92,
          4639.05,
          4675.23,
          4691.59,
          4715.99,
          4736.74,
          4740.53,
          4752.86,
          4761.42,
          4775.7,
          4793.85,
          4809.67,
          4821.69,
          4828.44,
          4843.41,
          4832.27,
          4843.87,
          4853.07,
          4860.83,
          4881.25,
          4894.92,
          4916.46,
          4930.72,
          4946.5,
          4950.95,
          4961.84,
          4981.69,
          5044.46,
          5061.11,
          5056.56,
          5080.83,
          5103.69,
          5092.97,
          5100.61,
          5116.93,
          5138.93,
          5177.47,
          5206.98,
          5213.75,
          5214.27,
          5224.18,
          5229.93,
          5227.84,
          5233.07,
          5259.76,
          5320.25,
          5331.42,
          5344.75,
          5348.49,
          5331.91,
          5311.65,
          5325.46,
          5344.63,
          5357.46,
          5391.75,
          5438.12,
          5486.52,
          5560.59,
          5574.49,
          5622.43,
          5674.72,
          5692.31,
          5739.56,
          5769.98,
          5825.37,
          5876.05,
          5944.21,
          6018.51,
          6075.69,
          6120.04,
          6153.09,
          6215.24,
          6315.93,
          6382.88,
          6412.88,
          6455.85,
          6411.95,
          6388.87,
          6370.34,
          6407.93,
          6434.2,
          6474.09,
          6508.4,
          6563.07,
          6609.67,
          6649.99,
          6665.28,
          6659.95,
          6667.94,
          6683.28,
          6700.66,
          6716.74,
          6735.55,
          6773.27,
          6801.72,
          6858.17,
          6869.14,
          6895.24,
          6926.96,
          6941.51,
          6967.89,
          6966.5,
          6997.15,
          7036.33,
          7063.77,
          7100.5,
          7111.86,
          7205.03
         ],
         "yaxis": "y"
        }
       ],
       "layout": {
        "autosize": true,
        "legend": {
         "tracegroupgap": 0
        },
        "template": {
         "data": {
          "bar": [
           {
            "error_x": {
             "color": "#2a3f5f"
            },
            "error_y": {
             "color": "#2a3f5f"
            },
            "marker": {
             "line": {
              "color": "#E5ECF6",
              "width": 0.5
             },
             "pattern": {
              "fillmode": "overlay",
              "size": 10,
              "solidity": 0.2
             }
            },
            "type": "bar"
           }
          ],
          "barpolar": [
           {
            "marker": {
             "line": {
              "color": "#E5ECF6",
              "width": 0.5
             },
             "pattern": {
              "fillmode": "overlay",
              "size": 10,
              "solidity": 0.2
             }
            },
            "type": "barpolar"
           }
          ],
          "carpet": [
           {
            "aaxis": {
             "endlinecolor": "#2a3f5f",
             "gridcolor": "white",
             "linecolor": "white",
             "minorgridcolor": "white",
             "startlinecolor": "#2a3f5f"
            },
            "baxis": {
             "endlinecolor": "#2a3f5f",
             "gridcolor": "white",
             "linecolor": "white",
             "minorgridcolor": "white",
             "startlinecolor": "#2a3f5f"
            },
            "type": "carpet"
           }
          ],
          "choropleth": [
           {
            "colorbar": {
             "outlinewidth": 0,
             "ticks": ""
            },
            "type": "choropleth"
           }
          ],
          "contour": [
           {
            "colorbar": {
             "outlinewidth": 0,
             "ticks": ""
            },
            "colorscale": [
             [
              0,
              "#0d0887"
             ],
             [
              0.1111111111111111,
              "#46039f"
             ],
             [
              0.2222222222222222,
              "#7201a8"
             ],
             [
              0.3333333333333333,
              "#9c179e"
             ],
             [
              0.4444444444444444,
              "#bd3786"
             ],
             [
              0.5555555555555556,
              "#d8576b"
             ],
             [
              0.6666666666666666,
              "#ed7953"
             ],
             [
              0.7777777777777778,
              "#fb9f3a"
             ],
             [
              0.8888888888888888,
              "#fdca26"
             ],
             [
              1,
              "#f0f921"
             ]
            ],
            "type": "contour"
           }
          ],
          "contourcarpet": [
           {
            "colorbar": {
             "outlinewidth": 0,
             "ticks": ""
            },
            "type": "contourcarpet"
           }
          ],
          "heatmap": [
           {
            "colorbar": {
             "outlinewidth": 0,
             "ticks": ""
            },
            "colorscale": [
             [
              0,
              "#0d0887"
             ],
             [
              0.1111111111111111,
              "#46039f"
             ],
             [
              0.2222222222222222,
              "#7201a8"
             ],
             [
              0.3333333333333333,
              "#9c179e"
             ],
             [
              0.4444444444444444,
              "#bd3786"
             ],
             [
              0.5555555555555556,
              "#d8576b"
             ],
             [
              0.6666666666666666,
              "#ed7953"
             ],
             [
              0.7777777777777778,
              "#fb9f3a"
             ],
             [
              0.8888888888888888,
              "#fdca26"
             ],
             [
              1,
              "#f0f921"
             ]
            ],
            "type": "heatmap"
           }
          ],
          "heatmapgl": [
           {
            "colorbar": {
             "outlinewidth": 0,
             "ticks": ""
            },
            "colorscale": [
             [
              0,
              "#0d0887"
             ],
             [
              0.1111111111111111,
              "#46039f"
             ],
             [
              0.2222222222222222,
              "#7201a8"
             ],
             [
              0.3333333333333333,
              "#9c179e"
             ],
             [
              0.4444444444444444,
              "#bd3786"
             ],
             [
              0.5555555555555556,
              "#d8576b"
             ],
             [
              0.6666666666666666,
              "#ed7953"
             ],
             [
              0.7777777777777778,
              "#fb9f3a"
             ],
             [
              0.8888888888888888,
              "#fdca26"
             ],
             [
              1,
              "#f0f921"
             ]
            ],
            "type": "heatmapgl"
           }
          ],
          "histogram": [
           {
            "marker": {
             "pattern": {
              "fillmode": "overlay",
              "size": 10,
              "solidity": 0.2
             }
            },
            "type": "histogram"
           }
          ],
          "histogram2d": [
           {
            "colorbar": {
             "outlinewidth": 0,
             "ticks": ""
            },
            "colorscale": [
             [
              0,
              "#0d0887"
             ],
             [
              0.1111111111111111,
              "#46039f"
             ],
             [
              0.2222222222222222,
              "#7201a8"
             ],
             [
              0.3333333333333333,
              "#9c179e"
             ],
             [
              0.4444444444444444,
              "#bd3786"
             ],
             [
              0.5555555555555556,
              "#d8576b"
             ],
             [
              0.6666666666666666,
              "#ed7953"
             ],
             [
              0.7777777777777778,
              "#fb9f3a"
             ],
             [
              0.8888888888888888,
              "#fdca26"
             ],
             [
              1,
              "#f0f921"
             ]
            ],
            "type": "histogram2d"
           }
          ],
          "histogram2dcontour": [
           {
            "colorbar": {
             "outlinewidth": 0,
             "ticks": ""
            },
            "colorscale": [
             [
              0,
              "#0d0887"
             ],
             [
              0.1111111111111111,
              "#46039f"
             ],
             [
              0.2222222222222222,
              "#7201a8"
             ],
             [
              0.3333333333333333,
              "#9c179e"
             ],
             [
              0.4444444444444444,
              "#bd3786"
             ],
             [
              0.5555555555555556,
              "#d8576b"
             ],
             [
              0.6666666666666666,
              "#ed7953"
             ],
             [
              0.7777777777777778,
              "#fb9f3a"
             ],
             [
              0.8888888888888888,
              "#fdca26"
             ],
             [
              1,
              "#f0f921"
             ]
            ],
            "type": "histogram2dcontour"
           }
          ],
          "mesh3d": [
           {
            "colorbar": {
             "outlinewidth": 0,
             "ticks": ""
            },
            "type": "mesh3d"
           }
          ],
          "parcoords": [
           {
            "line": {
             "colorbar": {
              "outlinewidth": 0,
              "ticks": ""
             }
            },
            "type": "parcoords"
           }
          ],
          "pie": [
           {
            "automargin": true,
            "type": "pie"
           }
          ],
          "scatter": [
           {
            "fillpattern": {
             "fillmode": "overlay",
             "size": 10,
             "solidity": 0.2
            },
            "type": "scatter"
           }
          ],
          "scatter3d": [
           {
            "line": {
             "colorbar": {
              "outlinewidth": 0,
              "ticks": ""
             }
            },
            "marker": {
             "colorbar": {
              "outlinewidth": 0,
              "ticks": ""
             }
            },
            "type": "scatter3d"
           }
          ],
          "scattercarpet": [
           {
            "marker": {
             "colorbar": {
              "outlinewidth": 0,
              "ticks": ""
             }
            },
            "type": "scattercarpet"
           }
          ],
          "scattergeo": [
           {
            "marker": {
             "colorbar": {
              "outlinewidth": 0,
              "ticks": ""
             }
            },
            "type": "scattergeo"
           }
          ],
          "scattergl": [
           {
            "marker": {
             "colorbar": {
              "outlinewidth": 0,
              "ticks": ""
             }
            },
            "type": "scattergl"
           }
          ],
          "scattermapbox": [
           {
            "marker": {
             "colorbar": {
              "outlinewidth": 0,
              "ticks": ""
             }
            },
            "type": "scattermapbox"
           }
          ],
          "scatterpolar": [
           {
            "marker": {
             "colorbar": {
              "outlinewidth": 0,
              "ticks": ""
             }
            },
            "type": "scatterpolar"
           }
          ],
          "scatterpolargl": [
           {
            "marker": {
             "colorbar": {
              "outlinewidth": 0,
              "ticks": ""
             }
            },
            "type": "scatterpolargl"
           }
          ],
          "scatterternary": [
           {
            "marker": {
             "colorbar": {
              "outlinewidth": 0,
              "ticks": ""
             }
            },
            "type": "scatterternary"
           }
          ],
          "surface": [
           {
            "colorbar": {
             "outlinewidth": 0,
             "ticks": ""
            },
            "colorscale": [
             [
              0,
              "#0d0887"
             ],
             [
              0.1111111111111111,
              "#46039f"
             ],
             [
              0.2222222222222222,
              "#7201a8"
             ],
             [
              0.3333333333333333,
              "#9c179e"
             ],
             [
              0.4444444444444444,
              "#bd3786"
             ],
             [
              0.5555555555555556,
              "#d8576b"
             ],
             [
              0.6666666666666666,
              "#ed7953"
             ],
             [
              0.7777777777777778,
              "#fb9f3a"
             ],
             [
              0.8888888888888888,
              "#fdca26"
             ],
             [
              1,
              "#f0f921"
             ]
            ],
            "type": "surface"
           }
          ],
          "table": [
           {
            "cells": {
             "fill": {
              "color": "#EBF0F8"
             },
             "line": {
              "color": "white"
             }
            },
            "header": {
             "fill": {
              "color": "#C8D4E3"
             },
             "line": {
              "color": "white"
             }
            },
            "type": "table"
           }
          ]
         },
         "layout": {
          "annotationdefaults": {
           "arrowcolor": "#2a3f5f",
           "arrowhead": 0,
           "arrowwidth": 1
          },
          "autotypenumbers": "strict",
          "coloraxis": {
           "colorbar": {
            "outlinewidth": 0,
            "ticks": ""
           }
          },
          "colorscale": {
           "diverging": [
            [
             0,
             "#8e0152"
            ],
            [
             0.1,
             "#c51b7d"
            ],
            [
             0.2,
             "#de77ae"
            ],
            [
             0.3,
             "#f1b6da"
            ],
            [
             0.4,
             "#fde0ef"
            ],
            [
             0.5,
             "#f7f7f7"
            ],
            [
             0.6,
             "#e6f5d0"
            ],
            [
             0.7,
             "#b8e186"
            ],
            [
             0.8,
             "#7fbc41"
            ],
            [
             0.9,
             "#4d9221"
            ],
            [
             1,
             "#276419"
            ]
           ],
           "sequential": [
            [
             0,
             "#0d0887"
            ],
            [
             0.1111111111111111,
             "#46039f"
            ],
            [
             0.2222222222222222,
             "#7201a8"
            ],
            [
             0.3333333333333333,
             "#9c179e"
            ],
            [
             0.4444444444444444,
             "#bd3786"
            ],
            [
             0.5555555555555556,
             "#d8576b"
            ],
            [
             0.6666666666666666,
             "#ed7953"
            ],
            [
             0.7777777777777778,
             "#fb9f3a"
            ],
            [
             0.8888888888888888,
             "#fdca26"
            ],
            [
             1,
             "#f0f921"
            ]
           ],
           "sequentialminus": [
            [
             0,
             "#0d0887"
            ],
            [
             0.1111111111111111,
             "#46039f"
            ],
            [
             0.2222222222222222,
             "#7201a8"
            ],
            [
             0.3333333333333333,
             "#9c179e"
            ],
            [
             0.4444444444444444,
             "#bd3786"
            ],
            [
             0.5555555555555556,
             "#d8576b"
            ],
            [
             0.6666666666666666,
             "#ed7953"
            ],
            [
             0.7777777777777778,
             "#fb9f3a"
            ],
            [
             0.8888888888888888,
             "#fdca26"
            ],
            [
             1,
             "#f0f921"
            ]
           ]
          },
          "colorway": [
           "#636efa",
           "#EF553B",
           "#00cc96",
           "#ab63fa",
           "#FFA15A",
           "#19d3f3",
           "#FF6692",
           "#B6E880",
           "#FF97FF",
           "#FECB52"
          ],
          "font": {
           "color": "#2a3f5f"
          },
          "geo": {
           "bgcolor": "white",
           "lakecolor": "white",
           "landcolor": "#E5ECF6",
           "showlakes": true,
           "showland": true,
           "subunitcolor": "white"
          },
          "hoverlabel": {
           "align": "left"
          },
          "hovermode": "closest",
          "mapbox": {
           "style": "light"
          },
          "paper_bgcolor": "white",
          "plot_bgcolor": "#E5ECF6",
          "polar": {
           "angularaxis": {
            "gridcolor": "white",
            "linecolor": "white",
            "ticks": ""
           },
           "bgcolor": "#E5ECF6",
           "radialaxis": {
            "gridcolor": "white",
            "linecolor": "white",
            "ticks": ""
           }
          },
          "scene": {
           "xaxis": {
            "backgroundcolor": "#E5ECF6",
            "gridcolor": "white",
            "gridwidth": 2,
            "linecolor": "white",
            "showbackground": true,
            "ticks": "",
            "zerolinecolor": "white"
           },
           "yaxis": {
            "backgroundcolor": "#E5ECF6",
            "gridcolor": "white",
            "gridwidth": 2,
            "linecolor": "white",
            "showbackground": true,
            "ticks": "",
            "zerolinecolor": "white"
           },
           "zaxis": {
            "backgroundcolor": "#E5ECF6",
            "gridcolor": "white",
            "gridwidth": 2,
            "linecolor": "white",
            "showbackground": true,
            "ticks": "",
            "zerolinecolor": "white"
           }
          },
          "shapedefaults": {
           "line": {
            "color": "#2a3f5f"
           }
          },
          "ternary": {
           "aaxis": {
            "gridcolor": "white",
            "linecolor": "white",
            "ticks": ""
           },
           "baxis": {
            "gridcolor": "white",
            "linecolor": "white",
            "ticks": ""
           },
           "bgcolor": "#E5ECF6",
           "caxis": {
            "gridcolor": "white",
            "linecolor": "white",
            "ticks": ""
           }
          },
          "title": {
           "x": 0.05
          },
          "xaxis": {
           "automargin": true,
           "gridcolor": "white",
           "linecolor": "white",
           "ticks": "",
           "title": {
            "standoff": 15
           },
           "zerolinecolor": "white",
           "zerolinewidth": 2
          },
          "yaxis": {
           "automargin": true,
           "gridcolor": "white",
           "linecolor": "white",
           "ticks": "",
           "title": {
            "standoff": 15
           },
           "zerolinecolor": "white",
           "zerolinewidth": 2
          }
         }
        },
        "title": {
         "text": "Produto interno bruto (PIB) a preços de mercado: índice real encadeado (média 1995 = 100)"
        },
        "xaxis": {
         "anchor": "y",
         "autorange": true,
         "domain": [
          0,
          1
         ],
         "range": [
          0,
          542
         ],
         "title": {
          "text": "mes_ano"
         },
         "type": "category"
        },
        "yaxis": {
         "anchor": "x",
         "autorange": true,
         "domain": [
          0,
          1
         ],
         "range": [
          -400.27944443640285,
          7605.309444444021
         ],
         "title": {
          "text": "VALUE (-)"
         },
         "type": "linear"
        }
       }
      },
      "image/png": "[encoded data removed]",
      "text/html": [
       "<div>                            <div id=\"253f574a-2561-450c-879c-0cb4f54df387\" class=\"plotly-graph-div\" style=\"height:525px; width:100%;\"></div>            <script type=\"text/javascript\">                require([\"plotly\"], function(Plotly) {                    window.PLOTLYENV=window.PLOTLYENV || {};                                    if (document.getElementById(\"253f574a-2561-450c-879c-0cb4f54df387\")) {                    Plotly.newPlot(                        \"253f574a-2561-450c-879c-0cb4f54df387\",                        [{\"hovertemplate\":\"mes_ano=%{x}\\u003cbr\\u003eVALUE (-)=%{y}\\u003cextra\\u003e\\u003c\\u002fextra\\u003e\",\"legendgroup\":\"\",\"line\":{\"color\":\"#636efa\",\"dash\":\"solid\"},\"marker\":{\"symbol\":\"circle\"},\"mode\":\"lines\",\"name\":\"\",\"orientation\":\"v\",\"showlegend\":false,\"x\":[\"12\\u002f1979\",\"01\\u002f1980\",\"02\\u002f1980\",\"03\\u002f1980\",\"04\\u002f1980\",\"05\\u002f1980\",\"06\\u002f1980\",\"07\\u002f1980\",\"08\\u002f1980\",\"09\\u002f1980\",\"10\\u002f1980\",\"11\\u002f1980\",\"12\\u002f1980\",\"01\\u002f1981\",\"02\\u002f1981\",\"03\\u002f1981\",\"04\\u002f1981\",\"05\\u002f1981\",\"06\\u002f1981\",\"07\\u002f1981\",\"08\\u002f1981\",\"09\\u002f1981\",\"10\\u002f1981\",\"11\\u002f1981\",\"12\\u002f1981\",\"01\\u002f1982\",\"02\\u002f1982\",\"03\\u002f1982\",\"04\\u002f1982\",\"05\\u002f1982\",\"06\\u002f1982\",\"07\\u002f1982\",\"08\\u002f1982\",\"09\\u002f1982\",\"10\\u002f1982\",\"11\\u002f1982\",\"12\\u002f1982\",\"01\\u002f1983\",\"02\\u002f1983\",\"03\\u002f1983\",\"04\\u002f1983\",\"05\\u002f1983\",\"06\\u002f1983\",\"07\\u002f1983\",\"08\\u002f1983\",\"09\\u002f1983\",\"10\\u002f1983\",\"11\\u002f1983\",\"12\\u002f1983\",\"01\\u002f1984\",\"02\\u002f1984\",\"03\\u002f1984\",\"04\\u002f1984\",\"05\\u002f1984\",\"06\\u002f1984\",\"07\\u002f1984\",\"08\\u002f1984\",\"09\\u002f1984\",\"10\\u002f1984\",\"11\\u002f1984\",\"12\\u002f1984\",\"01\\u002f1985\",\"02\\u002f1985\",\"03\\u002f1985\",\"04\\u002f1985\",\"05\\u002f1985\",\"06\\u002f1985\",\"07\\u002f1985\",\"08\\u002f1985\",\"09\\u002f1985\",\"10\\u002f1985\",\"11\\u002f1985\",\"12\\u002f1985\",\"01\\u002f1986\",\"02\\u002f1986\",\"03\\u002f1986\",\"04\\u002f1986\",\"05\\u002f1986\",\"06\\u002f1986\",\"07\\u002f1986\",\"08\\u002f1986\",\"09\\u002f1986\",\"10\\u002f1986\",\"11\\u002f1986\",\"12\\u002f1986\",\"01\\u002f1987\",\"02\\u002f1987\",\"03\\u002f1987\",\"04\\u002f1987\",\"05\\u002f1987\",\"06\\u002f1987\",\"07\\u002f1987\",\"08\\u002f1987\",\"09\\u002f1987\",\"10\\u002f1987\",\"11\\u002f1987\",\"12\\u002f1987\",\"01\\u002f1988\",\"02\\u002f1988\",\"03\\u002f1988\",\"04\\u002f1988\",\"05\\u002f1988\",\"06\\u002f1988\",\"07\\u002f1988\",\"08\\u002f1988\",\"09\\u002f1988\",\"10\\u002f1988\",\"11\\u002f1988\",\"12\\u002f1988\",\"01\\u002f1989\",\"02\\u002f1989\",\"03\\u002f1989\",\"04\\u002f1989\",\"05\\u002f1989\",\"06\\u002f1989\",\"07\\u002f1989\",\"08\\u002f1989\",\"09\\u002f1989\",\"10\\u002f1989\",\"11\\u002f1989\",\"12\\u002f1989\",\"01\\u002f1990\",\"02\\u002f1990\",\"03\\u002f1990\",\"04\\u002f1990\",\"05\\u002f1990\",\"06\\u002f1990\",\"07\\u002f1990\",\"08\\u002f1990\",\"09\\u002f1990\",\"10\\u002f1990\",\"11\\u002f1990\",\"12\\u002f1990\",\"01\\u002f1991\",\"02\\u002f1991\",\"03\\u002f1991\",\"04\\u002f1991\",\"05\\u002f1991\",\"06\\u002f1991\",\"07\\u002f1991\",\"08\\u002f1991\",\"09\\u002f1991\",\"10\\u002f1991\",\"11\\u002f1991\",\"12\\u002f1991\",\"01\\u002f1992\",\"02\\u002f1992\",\"03\\u002f1992\",\"04\\u002f1992\",\"05\\u002f1992\",\"06\\u002f1992\",\"07\\u002f1992\",\"08\\u002f1992\",\"09\\u002f1992\",\"10\\u002f1992\",\"11\\u002f1992\",\"12\\u002f1992\",\"01\\u002f1993\",\"02\\u002f1993\",\"03\\u002f1993\",\"04\\u002f1993\",\"05\\u002f1993\",\"06\\u002f1993\",\"07\\u002f1993\",\"08\\u002f1993\",\"09\\u002f1993\",\"10\\u002f1993\",\"11\\u002f1993\",\"12\\u002f1993\",\"01\\u002f1994\",\"02\\u002f1994\",\"03\\u002f1994\",\"04\\u002f1994\",\"05\\u002f1994\",\"06\\u002f1994\",\"07\\u002f1994\",\"08\\u002f1994\",\"09\\u002f1994\",\"10\\u002f1994\",\"11\\u002f1994\",\"12\\u002f1994\",\"01\\u002f1995\",\"02\\u002f1995\",\"03\\u002f1995\",\"04\\u002f1995\",\"05\\u002f1995\",\"06\\u002f1995\",\"07\\u002f1995\",\"08\\u002f1995\",\"09\\u002f1995\",\"10\\u002f1995\",\"11\\u002f1995\",\"12\\u002f1995\",\"01\\u002f1996\",\"02\\u002f1996\",\"03\\u002f1996\",\"04\\u002f1996\",\"05\\u002f1996\",\"06\\u002f1996\",\"07\\u002f1996\",\"08\\u002f1996\",\"09\\u002f1996\",\"10\\u002f1996\",\"11\\u002f1996\",\"12\\u002f1996\",\"01\\u002f1997\",\"02\\u002f1997\",\"03\\u002f1997\",\"04\\u002f1997\",\"05\\u002f1997\",\"06\\u002f1997\",\"07\\u002f1997\",\"08\\u002f1997\",\"09\\u002f1997\",\"10\\u002f1997\",\"11\\u002f1997\",\"12\\u002f1997\",\"01\\u002f1998\",\"02\\u002f1998\",\"03\\u002f1998\",\"04\\u002f1998\",\"05\\u002f1998\",\"06\\u002f1998\",\"07\\u002f1998\",\"08\\u002f1998\",\"09\\u002f1998\",\"10\\u002f1998\",\"11\\u002f1998\",\"12\\u002f1998\",\"01\\u002f1999\",\"02\\u002f1999\",\"03\\u002f1999\",\"04\\u002f1999\",\"05\\u002f1999\",\"06\\u002f1999\",\"07\\u002f1999\",\"08\\u002f1999\",\"09\\u002f1999\",\"10\\u002f1999\",\"11\\u002f1999\",\"12\\u002f1999\",\"01\\u002f2000\",\"02\\u002f2000\",\"03\\u002f2000\",\"04\\u002f2000\",\"05\\u002f2000\",\"06\\u002f2000\",\"07\\u002f2000\",\"08\\u002f2000\",\"09\\u002f2000\",\"10\\u002f2000\",\"11\\u002f2000\",\"12\\u002f2000\",\"01\\u002f2001\",\"02\\u002f2001\",\"03\\u002f2001\",\"04\\u002f2001\",\"05\\u002f2001\",\"06\\u002f2001\",\"07\\u002f2001\",\"08\\u002f2001\",\"09\\u002f2001\",\"10\\u002f2001\",\"11\\u002f2001\",\"12\\u002f2001\",\"01\\u002f2002\",\"02\\u002f2002\",\"03\\u002f2002\",\"04\\u002f2002\",\"05\\u002f2002\",\"06\\u002f2002\",\"07\\u002f2002\",\"08\\u002f2002\",\"09\\u002f2002\",\"10\\u002f2002\",\"11\\u002f2002\",\"12\\u002f2002\",\"01\\u002f2003\",\"02\\u002f2003\",\"03\\u002f2003\",\"04\\u002f2003\",\"05\\u002f2003\",\"06\\u002f2003\",\"07\\u002f2003\",\"08\\u002f2003\",\"09\\u002f2003\",\"10\\u002f2003\",\"11\\u002f2003\",\"12\\u002f2003\",\"01\\u002f2004\",\"02\\u002f2004\",\"03\\u002f2004\",\"04\\u002f2004\",\"05\\u002f2004\",\"06\\u002f2004\",\"07\\u002f2004\",\"08\\u002f2004\",\"09\\u002f2004\",\"10\\u002f2004\",\"11\\u002f2004\",\"12\\u002f2004\",\"01\\u002f2005\",\"02\\u002f2005\",\"03\\u002f2005\",\"04\\u002f2005\",\"05\\u002f2005\",\"06\\u002f2005\",\"07\\u002f2005\",\"08\\u002f2005\",\"09\\u002f2005\",\"10\\u002f2005\",\"11\\u002f2005\",\"12\\u002f2005\",\"01\\u002f2006\",\"02\\u002f2006\",\"03\\u002f2006\",\"04\\u002f2006\",\"05\\u002f2006\",\"06\\u002f2006\",\"07\\u002f2006\",\"08\\u002f2006\",\"09\\u002f2006\",\"10\\u002f2006\",\"11\\u002f2006\",\"12\\u002f2006\",\"01\\u002f2007\",\"02\\u002f2007\",\"03\\u002f2007\",\"04\\u002f2007\",\"05\\u002f2007\",\"06\\u002f2007\",\"07\\u002f2007\",\"08\\u002f2007\",\"09\\u002f2007\",\"10\\u002f2007\",\"11\\u002f2007\",\"12\\u002f2007\",\"01\\u002f2008\",\"02\\u002f2008\",\"03\\u002f2008\",\"04\\u002f2008\",\"05\\u002f2008\",\"06\\u002f2008\",\"07\\u002f2008\",\"08\\u002f2008\",\"09\\u002f2008\",\"10\\u002f2008\",\"11\\u002f2008\",\"12\\u002f2008\",\"01\\u002f2009\",\"02\\u002f2009\",\"03\\u002f2009\",\"04\\u002f2009\",\"05\\u002f2009\",\"06\\u002f2009\",\"07\\u002f2009\",\"08\\u002f2009\",\"09\\u002f2009\",\"10\\u002f2009\",\"11\\u002f2009\",\"12\\u002f2009\",\"01\\u002f2010\",\"02\\u002f2010\",\"03\\u002f2010\",\"04\\u002f2010\",\"05\\u002f2010\",\"06\\u002f2010\",\"07\\u002f2010\",\"08\\u002f2010\",\"09\\u002f2010\",\"10\\u002f2010\",\"11\\u002f2010\",\"12\\u002f2010\",\"01\\u002f2011\",\"02\\u002f2011\",\"03\\u002f2011\",\"04\\u002f2011\",\"05\\u002f2011\",\"06\\u002f2011\",\"07\\u002f2011\",\"08\\u002f2011\",\"09\\u002f2011\",\"10\\u002f2011\",\"11\\u002f2011\",\"12\\u002f2011\",\"01\\u002f2012\",\"02\\u002f2012\",\"03\\u002f2012\",\"04\\u002f2012\",\"05\\u002f2012\",\"06\\u002f2012\",\"07\\u002f2012\",\"08\\u002f2012\",\"09\\u002f2012\",\"10\\u002f2012\",\"11\\u002f2012\",\"12\\u002f2012\",\"01\\u002f2013\",\"02\\u002f2013\",\"03\\u002f2013\",\"04\\u002f2013\",\"05\\u002f2013\",\"06\\u002f2013\",\"07\\u002f2013\",\"08\\u002f2013\",\"09\\u002f2013\",\"10\\u002f2013\",\"11\\u002f2013\",\"12\\u002f2013\",\"01\\u002f2014\",\"02\\u002f2014\",\"03\\u002f2014\",\"04\\u002f2014\",\"05\\u002f2014\",\"06\\u002f2014\",\"07\\u002f2014\",\"08\\u002f2014\",\"09\\u002f2014\",\"10\\u002f2014\",\"11\\u002f2014\",\"12\\u002f2014\",\"01\\u002f2015\",\"02\\u002f2015\",\"03\\u002f2015\",\"04\\u002f2015\",\"05\\u002f2015\",\"06\\u002f2015\",\"07\\u002f2015\",\"08\\u002f2015\",\"09\\u002f2015\",\"10\\u002f2015\",\"11\\u002f2015\",\"12\\u002f2015\",\"01\\u002f2016\",\"02\\u002f2016\",\"03\\u002f2016\",\"04\\u002f2016\",\"05\\u002f2016\",\"06\\u002f2016\",\"07\\u002f2016\",\"08\\u002f2016\",\"09\\u002f2016\",\"10\\u002f2016\",\"11\\u002f2016\",\"12\\u002f2016\",\"01\\u002f2017\",\"02\\u002f2017\",\"03\\u002f2017\",\"04\\u002f2017\",\"05\\u002f2017\",\"06\\u002f2017\",\"07\\u002f2017\",\"08\\u002f2017\",\"09\\u002f2017\",\"10\\u002f2017\",\"11\\u002f2017\",\"12\\u002f2017\",\"01\\u002f2018\",\"02\\u002f2018\",\"03\\u002f2018\",\"04\\u002f2018\",\"05\\u002f2018\",\"06\\u002f2018\",\"07\\u002f2018\",\"08\\u002f2018\",\"09\\u002f2018\",\"10\\u002f2018\",\"11\\u002f2018\",\"12\\u002f2018\",\"01\\u002f2019\",\"02\\u002f2019\",\"03\\u002f2019\",\"04\\u002f2019\",\"05\\u002f2019\",\"06\\u002f2019\",\"07\\u002f2019\",\"08\\u002f2019\",\"09\\u002f2019\",\"10\\u002f2019\",\"11\\u002f2019\",\"12\\u002f2019\",\"01\\u002f2020\",\"02\\u002f2020\",\"03\\u002f2020\",\"04\\u002f2020\",\"05\\u002f2020\",\"06\\u002f2020\",\"07\\u002f2020\",\"08\\u002f2020\",\"09\\u002f2020\",\"10\\u002f2020\",\"11\\u002f2020\",\"12\\u002f2020\",\"01\\u002f2021\",\"02\\u002f2021\",\"03\\u002f2021\",\"04\\u002f2021\",\"05\\u002f2021\",\"06\\u002f2021\",\"07\\u002f2021\",\"08\\u002f2021\",\"09\\u002f2021\",\"10\\u002f2021\",\"11\\u002f2021\",\"12\\u002f2021\",\"01\\u002f2022\",\"02\\u002f2022\",\"03\\u002f2022\",\"04\\u002f2022\",\"05\\u002f2022\",\"06\\u002f2022\",\"07\\u002f2022\",\"08\\u002f2022\",\"09\\u002f2022\",\"10\\u002f2022\",\"11\\u002f2022\",\"12\\u002f2022\",\"01\\u002f2023\",\"02\\u002f2023\",\"03\\u002f2023\",\"04\\u002f2023\",\"05\\u002f2023\",\"06\\u002f2023\",\"07\\u002f2023\",\"08\\u002f2023\",\"09\\u002f2023\",\"10\\u002f2023\",\"11\\u002f2023\",\"12\\u002f2023\",\"01\\u002f2024\",\"02\\u002f2024\",\"03\\u002f2024\",\"04\\u002f2024\",\"05\\u002f2024\",\"06\\u002f2024\",\"07\\u002f2024\",\"08\\u002f2024\",\"09\\u002f2024\",\"10\\u002f2024\",\"11\\u002f2024\",\"12\\u002f2024\",\"01\\u002f2025\",\"02\\u002f2025\"],\"xaxis\":\"x\",\"y\":[7.6183e-09,8.1223e-09,8.4973e-09,9.0104e-09,9.4867e-09,1.00277e-08,1.05597e-08,1.11453e-08,1.16965e-08,1.21913e-08,1.33471e-08,1.42378e-08,1.51795e-08,1.62174e-08,1.72555e-08,1.81134e-08,1.92839e-08,2.0356e-08,2.14792e-08,2.28229e-08,2.40772e-08,2.53429e-08,2.66297e-08,2.80335e-08,2.96946e-08,3.17628e-08,3.38708e-08,3.58057e-08,3.79137e-08,4.04382e-08,4.33113e-08,4.6065e-08,4.88164e-08,5.12964e-08,5.35752e-08,5.64085e-08,6.08117e-08,6.60665e-08,7.12581e-08,7.64919e-08,8.15245e-08,8.68097e-08,9.53868e-08,1.050003e-07,1.145671e-07,1.263682e-07,1.375727e-07,1.477314e-07,1.605502e-07,1.760737e-07,1.92802e-07,2.100357e-07,2.300794e-07,2.509021e-07,2.761935e-07,3.030524e-07,3.313854e-07,3.703168e-07,4.089675e-07,4.520168e-07,5.061559e-07,5.656761e-07,6.271382e-07,6.908698e-07,7.474889e-07,8.01277e-07,8.693369e-07,9.589916e-07,1.0745459e-06,1.1940075e-06,1.3207687e-06,1.5053189e-06,1.7322163e-06,1.9811765e-06,2.233108e-06,2.3396314e-06,2.3578806e-06,2.3908694e-06,2.4212846e-06,2.462696e-06,2.5501983e-06,2.5939494e-06,2.6433156e-06,2.7874369e-06,3.1121777e-06,3.523251e-06,3.9684829e-06,4.6181985e-06,5.5002395e-06,6.6801157e-06,7.9968603e-06,8.7333762e-06,9.1587212e-06,9.871373e-06,1.09789545e-05,1.26344777e-05,1.44221901e-05,1.7146457e-05,1.98384369e-05,2.33301029e-05,2.7830389e-05,3.26783343e-05,3.98675537e-05,4.86025677e-05,5.90958147e-05,7.53176493e-05,9.46139936e-05,0.0001210492553,0.0001557904426,0.0002141963,0.0002501384201,0.0002671978428,0.0002894554586,0.0003413257896,0.0004391155989,0.0005609261703,0.0007500144816,0.001031719911,0.0014420348808,0.0021316159803,0.0032293981927,0.0054108567454,0.0095084984833,0.017342550351,0.0200341140678,0.0215547032441,0.0240873809519,0.027199470492,0.0307027623187,0.0351270304097,0.0401712720553,0.0469240627842,0.0555768600186,0.0671090584724,0.0810143888491,0.0906736471203,0.0951976035258,0.1022725378062,0.113715813284,0.1278267780427,0.1478066592194,0.1709099599291,0.2054843245466,0.2572875157699,0.3182886773263,0.4008536605699,0.4983410307284,0.6049874674181,0.7255614652283,0.9059361644186,1.0890285720637,1.3267641484791,1.6205100844213,2.0196408623306,2.5293973801068,3.0982598885128,3.88025965509,5.0579166458253,6.3213843084293,8.0445948724789,10.2769672819025,13.1226581300609,17.0686429798089,22.3121307612362,29.6662109364145,40.2540807309468,53.9082648348533,73.078046584524,100.0,141.31,198.22,282.96,403.73,581.49,857.29,915.93,932.97,947.24,972.06,999.37,1016.46,1033.74,1044.28,1060.47,1086.24,1115.24,1140.44,1167.35,1178.91,1190.58,1207.37,1225.12,1244.23,1260.9,1273.89,1278.35,1294.46,1310.25,1325.84,1340.56,1346.46,1348.48,1352.53,1356.86,1363.24,1379.33,1386.23,1393.3,1405.56,1411.32,1418.94,1422.06,1421.78,1422.63,1425.9,1428.32,1434.46,1444.64,1451.29,1456.22,1459.71,1467.01,1467.3,1465.54,1458.07,1454.86,1455.15,1453.4,1458.2,1468.41,1483.83,1500.15,1508.55,1513.08,1515.95,1532.47,1541.05,1545.83,1564.23,1579.09,1588.56,1598.41,1600.49,1604.01,1610.75,1610.91,1614.62,1640.62,1662.11,1665.93,1668.26,1673.6,1683.47,1693.07,1700.86,1707.32,1717.22,1724.26,1733.23,1756.28,1768.57,1773.52,1788.24,1800.94,1812.65,1822.08,1828.64,1839.61,1854.33,1858.22,1866.02,1888.23,1900.5,1914.18,1939.26,1997.83,2039.78,2085.68,2118.43,2144.49,2165.29,2178.5,2175.23,2179.58,2186.99,2204.05,2210.44,2217.96,2229.49,2246.43,2260.13,2270.75,2279.15,2290.77,2307.03,2328.02,2344.08,2351.82,2362.17,2378.47,2398.92,2412.83,2427.07,2441.87,2463.11,2475.18,2474.68,2480.87,2485.09,2493.79,2512.49,2526.31,2535.4,2550.36,2560.82,2571.83,2577.23,2579.81,2574.39,2579.28,2580.57,2585.99,2594.52,2602.56,2615.05,2626.56,2638.12,2647.88,2654.5,2661.93,2669.38,2675.79,2688.37,2693.21,2701.29,2711.55,2731.62,2746.37,2759.83,2773.08,2788.33,2810.36,2831.16,2846.16,2854.13,2861.55,2874.43,2884.78,2892.86,2906.74,2922.73,2928.57,2942.63,2956.46,2967.1,2974.22,2978.68,2985.83,2994.19,3006.47,3017.59,3040.22,3063.93,3079.86,3097.42,3110.74,3110.74,3111.05,3112.29,3126.29,3149.74,3175.88,3195.89,3222.42,3248.2,3273.86,3299.07,3314.58,3319.55,3324.86,3337.16,3354.85,3369.28,3386.8,3403.73,3422.79,3438.19,3445.41,3467.46,3479.94,3482.72,3497.7,3512.04,3532.06,3552.9,3574.22,3602.46,3633.44,3655.24,3672.42,3692.62,3706.28,3715.92,3717.03,3725.95,3738.99,3760.3,3780.61,3815.39,3836.37,3862.84,3898.38,3924.5,3942.55,3958.32,3958.72,3968.62,3991.24,4008.0,4028.44,4059.86,4110.2,4160.34,4215.26,4245.19,4276.6,4310.39,4337.11,4346.65,4370.12,4405.95,4450.45,4493.17,4550.23,4591.18,4610.92,4639.05,4675.23,4691.59,4715.99,4736.74,4740.53,4752.86,4761.42,4775.7,4793.85,4809.67,4821.69,4828.44,4843.41,4832.27,4843.87,4853.07,4860.83,4881.25,4894.92,4916.46,4930.72,4946.5,4950.95,4961.84,4981.69,5044.46,5061.11,5056.56,5080.83,5103.69,5092.97,5100.61,5116.93,5138.93,5177.47,5206.98,5213.75,5214.27,5224.18,5229.93,5227.84,5233.07,5259.76,5320.25,5331.42,5344.75,5348.49,5331.91,5311.65,5325.46,5344.63,5357.46,5391.75,5438.12,5486.52,5560.59,5574.49,5622.43,5674.72,5692.31,5739.56,5769.98,5825.37,5876.05,5944.21,6018.51,6075.69,6120.04,6153.09,6215.24,6315.93,6382.88,6412.88,6455.85,6411.95,6388.87,6370.34,6407.93,6434.2,6474.09,6508.4,6563.07,6609.67,6649.99,6665.28,6659.95,6667.94,6683.28,6700.66,6716.74,6735.55,6773.27,6801.72,6858.17,6869.14,6895.24,6926.96,6941.51,6967.89,6966.5,6997.15,7036.33,7063.77,7100.5,7111.86,7205.03],\"yaxis\":\"y\",\"type\":\"scatter\"}],                        {\"template\":{\"data\":{\"histogram2dcontour\":[{\"type\":\"histogram2dcontour\",\"colorbar\":{\"outlinewidth\":0,\"ticks\":\"\"},\"colorscale\":[[0.0,\"#0d0887\"],[0.1111111111111111,\"#46039f\"],[0.2222222222222222,\"#7201a8\"],[0.3333333333333333,\"#9c179e\"],[0.4444444444444444,\"#bd3786\"],[0.5555555555555556,\"#d8576b\"],[0.6666666666666666,\"#ed7953\"],[0.7777777777777778,\"#fb9f3a\"],[0.8888888888888888,\"#fdca26\"],[1.0,\"#f0f921\"]]}],\"choropleth\":[{\"type\":\"choropleth\",\"colorbar\":{\"outlinewidth\":0,\"ticks\":\"\"}}],\"histogram2d\":[{\"type\":\"histogram2d\",\"colorbar\":{\"outlinewidth\":0,\"ticks\":\"\"},\"colorscale\":[[0.0,\"#0d0887\"],[0.1111111111111111,\"#46039f\"],[0.2222222222222222,\"#7201a8\"],[0.3333333333333333,\"#9c179e\"],[0.4444444444444444,\"#bd3786\"],[0.5555555555555556,\"#d8576b\"],[0.6666666666666666,\"#ed7953\"],[0.7777777777777778,\"#fb9f3a\"],[0.8888888888888888,\"#fdca26\"],[1.0,\"#f0f921\"]]}],\"heatmap\":[{\"type\":\"heatmap\",\"colorbar\":{\"outlinewidth\":0,\"ticks\":\"\"},\"colorscale\":[[0.0,\"#0d0887\"],[0.1111111111111111,\"#46039f\"],[0.2222222222222222,\"#7201a8\"],[0.3333333333333333,\"#9c179e\"],[0.4444444444444444,\"#bd3786\"],[0.5555555555555556,\"#d8576b\"],[0.6666666666666666,\"#ed7953\"],[0.7777777777777778,\"#fb9f3a\"],[0.8888888888888888,\"#fdca26\"],[1.0,\"#f0f921\"]]}],\"heatmapgl\":[{\"type\":\"heatmapgl\",\"colorbar\":{\"outlinewidth\":0,\"ticks\":\"\"},\"colorscale\":[[0.0,\"#0d0887\"],[0.1111111111111111,\"#46039f\"],[0.2222222222222222,\"#7201a8\"],[0.3333333333333333,\"#9c179e\"],[0.4444444444444444,\"#bd3786\"],[0.5555555555555556,\"#d8576b\"],[0.6666666666666666,\"#ed7953\"],[0.7777777777777778,\"#fb9f3a\"],[0.8888888888888888,\"#fdca26\"],[1.0,\"#f0f921\"]]}],\"contourcarpet\":[{\"type\":\"contourcarpet\",\"colorbar\":{\"outlinewidth\":0,\"ticks\":\"\"}}],\"contour\":[{\"type\":\"contour\",\"colorbar\":{\"outlinewidth\":0,\"ticks\":\"\"},\"colorscale\":[[0.0,\"#0d0887\"],[0.1111111111111111,\"#46039f\"],[0.2222222222222222,\"#7201a8\"],[0.3333333333333333,\"#9c179e\"],[0.4444444444444444,\"#bd3786\"],[0.5555555555555556,\"#d8576b\"],[0.6666666666666666,\"#ed7953\"],[0.7777777777777778,\"#fb9f3a\"],[0.8888888888888888,\"#fdca26\"],[1.0,\"#f0f921\"]]}],\"surface\":[{\"type\":\"surface\",\"colorbar\":{\"outlinewidth\":0,\"ticks\":\"\"},\"colorscale\":[[0.0,\"#0d0887\"],[0.1111111111111111,\"#46039f\"],[0.2222222222222222,\"#7201a8\"],[0.3333333333333333,\"#9c179e\"],[0.4444444444444444,\"#bd3786\"],[0.5555555555555556,\"#d8576b\"],[0.6666666666666666,\"#ed7953\"],[0.7777777777777778,\"#fb9f3a\"],[0.8888888888888888,\"#fdca26\"],[1.0,\"#f0f921\"]]}],\"mesh3d\":[{\"type\":\"mesh3d\",\"colorbar\":{\"outlinewidth\":0,\"ticks\":\"\"}}],\"scatter\":[{\"fillpattern\":{\"fillmode\":\"overlay\",\"size\":10,\"solidity\":0.2},\"type\":\"scatter\"}],\"parcoords\":[{\"type\":\"parcoords\",\"line\":{\"colorbar\":{\"outlinewidth\":0,\"ticks\":\"\"}}}],\"scatterpolargl\":[{\"type\":\"scatterpolargl\",\"marker\":{\"colorbar\":{\"outlinewidth\":0,\"ticks\":\"\"}}}],\"bar\":[{\"error_x\":{\"color\":\"#2a3f5f\"},\"error_y\":{\"color\":\"#2a3f5f\"},\"marker\":{\"line\":{\"color\":\"#E5ECF6\",\"width\":0.5},\"pattern\":{\"fillmode\":\"overlay\",\"size\":10,\"solidity\":0.2}},\"type\":\"bar\"}],\"scattergeo\":[{\"type\":\"scattergeo\",\"marker\":{\"colorbar\":{\"outlinewidth\":0,\"ticks\":\"\"}}}],\"scatterpolar\":[{\"type\":\"scatterpolar\",\"marker\":{\"colorbar\":{\"outlinewidth\":0,\"ticks\":\"\"}}}],\"histogram\":[{\"marker\":{\"pattern\":{\"fillmode\":\"overlay\",\"size\":10,\"solidity\":0.2}},\"type\":\"histogram\"}],\"scattergl\":[{\"type\":\"scattergl\",\"marker\":{\"colorbar\":{\"outlinewidth\":0,\"ticks\":\"\"}}}],\"scatter3d\":[{\"type\":\"scatter3d\",\"line\":{\"colorbar\":{\"outlinewidth\":0,\"ticks\":\"\"}},\"marker\":{\"colorbar\":{\"outlinewidth\":0,\"ticks\":\"\"}}}],\"scattermapbox\":[{\"type\":\"scattermapbox\",\"marker\":{\"colorbar\":{\"outlinewidth\":0,\"ticks\":\"\"}}}],\"scatterternary\":[{\"type\":\"scatterternary\",\"marker\":{\"colorbar\":{\"outlinewidth\":0,\"ticks\":\"\"}}}],\"scattercarpet\":[{\"type\":\"scattercarpet\",\"marker\":{\"colorbar\":{\"outlinewidth\":0,\"ticks\":\"\"}}}],\"carpet\":[{\"aaxis\":{\"endlinecolor\":\"#2a3f5f\",\"gridcolor\":\"white\",\"linecolor\":\"white\",\"minorgridcolor\":\"white\",\"startlinecolor\":\"#2a3f5f\"},\"baxis\":{\"endlinecolor\":\"#2a3f5f\",\"gridcolor\":\"white\",\"linecolor\":\"white\",\"minorgridcolor\":\"white\",\"startlinecolor\":\"#2a3f5f\"},\"type\":\"carpet\"}],\"table\":[{\"cells\":{\"fill\":{\"color\":\"#EBF0F8\"},\"line\":{\"color\":\"white\"}},\"header\":{\"fill\":{\"color\":\"#C8D4E3\"},\"line\":{\"color\":\"white\"}},\"type\":\"table\"}],\"barpolar\":[{\"marker\":{\"line\":{\"color\":\"#E5ECF6\",\"width\":0.5},\"pattern\":{\"fillmode\":\"overlay\",\"size\":10,\"solidity\":0.2}},\"type\":\"barpolar\"}],\"pie\":[{\"automargin\":true,\"type\":\"pie\"}]},\"layout\":{\"autotypenumbers\":\"strict\",\"colorway\":[\"#636efa\",\"#EF553B\",\"#00cc96\",\"#ab63fa\",\"#FFA15A\",\"#19d3f3\",\"#FF6692\",\"#B6E880\",\"#FF97FF\",\"#FECB52\"],\"font\":{\"color\":\"#2a3f5f\"},\"hovermode\":\"closest\",\"hoverlabel\":{\"align\":\"left\"},\"paper_bgcolor\":\"white\",\"plot_bgcolor\":\"#E5ECF6\",\"polar\":{\"bgcolor\":\"#E5ECF6\",\"angularaxis\":{\"gridcolor\":\"white\",\"linecolor\":\"white\",\"ticks\":\"\"},\"radialaxis\":{\"gridcolor\":\"white\",\"linecolor\":\"white\",\"ticks\":\"\"}},\"ternary\":{\"bgcolor\":\"#E5ECF6\",\"aaxis\":{\"gridcolor\":\"white\",\"linecolor\":\"white\",\"ticks\":\"\"},\"baxis\":{\"gridcolor\":\"white\",\"linecolor\":\"white\",\"ticks\":\"\"},\"caxis\":{\"gridcolor\":\"white\",\"linecolor\":\"white\",\"ticks\":\"\"}},\"coloraxis\":{\"colorbar\":{\"outlinewidth\":0,\"ticks\":\"\"}},\"colorscale\":{\"sequential\":[[0.0,\"#0d0887\"],[0.1111111111111111,\"#46039f\"],[0.2222222222222222,\"#7201a8\"],[0.3333333333333333,\"#9c179e\"],[0.4444444444444444,\"#bd3786\"],[0.5555555555555556,\"#d8576b\"],[0.6666666666666666,\"#ed7953\"],[0.7777777777777778,\"#fb9f3a\"],[0.8888888888888888,\"#fdca26\"],[1.0,\"#f0f921\"]],\"sequentialminus\":[[0.0,\"#0d0887\"],[0.1111111111111111,\"#46039f\"],[0.2222222222222222,\"#7201a8\"],[0.3333333333333333,\"#9c179e\"],[0.4444444444444444,\"#bd3786\"],[0.5555555555555556,\"#d8576b\"],[0.6666666666666666,\"#ed7953\"],[0.7777777777777778,\"#fb9f3a\"],[0.8888888888888888,\"#fdca26\"],[1.0,\"#f0f921\"]],\"diverging\":[[0,\"#8e0152\"],[0.1,\"#c51b7d\"],[0.2,\"#de77ae\"],[0.3,\"#f1b6da\"],[0.4,\"#fde0ef\"],[0.5,\"#f7f7f7\"],[0.6,\"#e6f5d0\"],[0.7,\"#b8e186\"],[0.8,\"#7fbc41\"],[0.9,\"#4d9221\"],[1,\"#276419\"]]},\"xaxis\":{\"gridcolor\":\"white\",\"linecolor\":\"white\",\"ticks\":\"\",\"title\":{\"standoff\":15},\"zerolinecolor\":\"white\",\"automargin\":true,\"zerolinewidth\":2},\"yaxis\":{\"gridcolor\":\"white\",\"linecolor\":\"white\",\"ticks\":\"\",\"title\":{\"standoff\":15},\"zerolinecolor\":\"white\",\"automargin\":true,\"zerolinewidth\":2},\"scene\":{\"xaxis\":{\"backgroundcolor\":\"#E5ECF6\",\"gridcolor\":\"white\",\"linecolor\":\"white\",\"showbackground\":true,\"ticks\":\"\",\"zerolinecolor\":\"white\",\"gridwidth\":2},\"yaxis\":{\"backgroundcolor\":\"#E5ECF6\",\"gridcolor\":\"white\",\"linecolor\":\"white\",\"showbackground\":true,\"ticks\":\"\",\"zerolinecolor\":\"white\",\"gridwidth\":2},\"zaxis\":{\"backgroundcolor\":\"#E5ECF6\",\"gridcolor\":\"white\",\"linecolor\":\"white\",\"showbackground\":true,\"ticks\":\"\",\"zerolinecolor\":\"white\",\"gridwidth\":2}},\"shapedefaults\":{\"line\":{\"color\":\"#2a3f5f\"}},\"annotationdefaults\":{\"arrowcolor\":\"#2a3f5f\",\"arrowhead\":0,\"arrowwidth\":1},\"geo\":{\"bgcolor\":\"white\",\"landcolor\":\"#E5ECF6\",\"subunitcolor\":\"white\",\"showland\":true,\"showlakes\":true,\"lakecolor\":\"white\"},\"title\":{\"x\":0.05},\"mapbox\":{\"style\":\"light\"}}},\"xaxis\":{\"anchor\":\"y\",\"domain\":[0.0,1.0],\"title\":{\"text\":\"mes_ano\"}},\"yaxis\":{\"anchor\":\"x\",\"domain\":[0.0,1.0],\"title\":{\"text\":\"VALUE (-)\"}},\"legend\":{\"tracegroupgap\":0},\"title\":{\"text\":\"Produto interno bruto (PIB) a pre\\u00e7os de mercado: \\u00edndice real encadeado (m\\u00e9dia 1995 = 100)\"}},                        {\"responsive\": true}                    ).then(function(){\n",
       "                            \n",
       "var gd = document.getElementById('253f574a-2561-450c-879c-0cb4f54df387');\n",
       "var x = new MutationObserver(function (mutations, observer) {{\n",
       "        var display = window.getComputedStyle(gd).display;\n",
       "        if (!display || display === 'none') {{\n",
       "            console.log([gd, 'removed!']);\n",
       "            Plotly.purge(gd);\n",
       "            observer.disconnect();\n",
       "        }}\n",
       "}});\n",
       "\n",
       "// Listen for the removal of the full notebook cells\n",
       "var notebookContainer = gd.closest('#notebook-container');\n",
       "if (notebookContainer) {{\n",
       "    x.observe(notebookContainer, {childList: true});\n",
       "}}\n",
       "\n",
       "// Listen for the clearing of the current output cell\n",
       "var outputEl = gd.closest('.output');\n",
       "if (outputEl) {{\n",
       "    x.observe(outputEl, {childList: true});\n",
       "}}\n",
       "\n",
       "                        })                };                });            </script>        </div>"
      ]
     },
     "metadata": {},
     "output_type": "display_data"
    }
   ],
   "source": [
    "fig_ipca = px.line(ipca, x = 'mes_ano', y = 'VALUE (-)', title  = 'Produto interno bruto (PIB) a preços de mercado: índice real encadeado (média 1995 = 100)')\n",
    "fig_ipca.show()"
   ]
  },
  {
   "cell_type": "code",
   "execution_count": null,
   "id": "9fd868ab-4a89-4c10-ab03-f7d4fe011dce",
   "metadata": {},
   "outputs": [],
   "source": []
  },
  {
   "cell_type": "markdown",
   "id": "db50cc00-37de-4727-9130-487285263f35",
   "metadata": {},
   "source": [
    "### Etapa 2 \n",
    "\n",
    "Usando o programa de sua preferência, aplique a\n",
    "metodologia Box Jenkins: identificação, estimação, e diagnóstico. Ignore a sazonalidade da inflação,\n",
    "por enquanto. (ou use um modelo SARIMA)"
   ]
  },
  {
   "cell_type": "markdown",
   "id": "8cdba129-01db-478d-b3ff-fc28a7ea0805",
   "metadata": {},
   "source": [
    "#### Identificação"
   ]
  },
  {
   "cell_type": "code",
   "execution_count": 50,
   "id": "ab4976cd-24ec-4733-9c2f-96d9dbba0030",
   "metadata": {},
   "outputs": [
    {
     "data": {
      "image/png": "[encoded data removed]",
      "text/plain": [
       "<Figure size 1400x800 with 4 Axes>"
      ]
     },
     "metadata": {},
     "output_type": "display_data"
    }
   ],
   "source": [
    "import matplotlib.pyplot as plt\n",
    "from statsmodels.graphics.tsaplots import plot_acf, plot_pacf\n",
    "\n",
    "# Criar figura com 4 subplots (2 linhas × 2 colunas)\n",
    "fig, axes = plt.subplots(nrows=2, ncols=2, figsize=(14, 8))\n",
    "plt.suptitle(\"ACF e PACF do IPCA (mensal) e PIB (trimestral)\", fontsize=14)\n",
    "\n",
    "# --- Gráfico 1: ACF do IPCA ---\n",
    "plot_acf(ipca['VALUE (-)'], lags=24, ax=axes[0, 0], title=\"ACF - IPCA (24 lags)\")\n",
    "axes[0, 0].set_xlabel(\"Lags (meses)\")\n",
    "\n",
    "# --- Gráfico 2: PACF do IPCA ---\n",
    "plot_pacf(ipca['VALUE (-)'], lags=24, ax=axes[0, 1], title=\"PACF - IPCA (24 lags)\")\n",
    "axes[0, 1].set_xlabel(\"Lags (meses)\")\n",
    "\n",
    "# --- Gráfico 3: ACF do PIB ---\n",
    "plot_acf(pib['VALUE (-)'], lags=8, ax=axes[1, 0], title=\"ACF - PIB (8 lags = 2 anos)\")\n",
    "axes[1, 0].set_xlabel(\"Lags (trimestres)\")\n",
    "\n",
    "# --- Gráfico 4: PACF do PIB ---\n",
    "plot_pacf(pib['VALUE (-)'], lags=8, ax=axes[1, 1], title=\"PACF - PIB (8 lags)\")\n",
    "axes[1, 1].set_xlabel(\"Lags (trimestres)\")\n",
    "\n",
    "# Ajustar layout para evitar sobreposição\n",
    "plt.tight_layout()\n",
    "plt.show()"
   ]
  },
  {
   "cell_type": "markdown",
   "id": "e18afdbb-2dfe-4b29-a5ef-3a8cfd2e8f11",
   "metadata": {},
   "source": [
    "Ambas as séries apresentam decaimento no acf após o primeiro lag, indicando comportamento do AR teórico com PHI próximo a 1. Na série do IPCA, o PACF decai a zero após a primeira defasagem, já com relação ao PIB, o 3° e 5° lags são maiores que zero."
   ]
  },
  {
   "cell_type": "code",
   "execution_count": null,
   "id": "99e1e1ac-0a8e-4a8e-a1c8-c3bf23ddad2c",
   "metadata": {},
   "outputs": [],
   "source": []
  },
  {
   "cell_type": "code",
   "execution_count": null,
   "id": "9d4eae9f-b95e-4d3c-9799-f6c02c449916",
   "metadata": {},
   "outputs": [],
   "source": []
  }
 ],
 "metadata": {
  "kernelspec": {
   "display_name": "Python 3 (ipykernel)",
   "language": "python",
   "name": "python3"
  },
  "language_info": {
   "codemirror_mode": {
    "name": "ipython",
    "version": 3
   },
   "file_extension": ".py",
   "mimetype": "text/x-python",
   "name": "python",
   "nbconvert_exporter": "python",
   "pygments_lexer": "ipython3",
   "version": "3.12.4"
  }
 },
 "nbformat": 4,
 "nbformat_minor": 5
}
